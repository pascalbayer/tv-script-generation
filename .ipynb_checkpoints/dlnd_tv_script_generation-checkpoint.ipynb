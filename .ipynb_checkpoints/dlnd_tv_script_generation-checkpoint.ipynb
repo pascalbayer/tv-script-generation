{
 "cells": [
  {
   "cell_type": "markdown",
   "metadata": {},
   "source": [
    "# TV Script Generation\n",
    "In this project, you'll generate your own [Simpsons](https://en.wikipedia.org/wiki/The_Simpsons) TV scripts using RNNs.  You'll be using part of the [Simpsons dataset](https://www.kaggle.com/wcukierski/the-simpsons-by-the-data) of scripts from 27 seasons.  The Neural Network you'll build will generate a new TV script for a scene at [Moe's Tavern](https://simpsonswiki.com/wiki/Moe's_Tavern).\n",
    "## Get the Data\n",
    "The data is already provided for you.  You'll be using a subset of the original dataset.  It consists of only the scenes in Moe's Tavern.  This doesn't include other versions of the tavern, like \"Moe's Cavern\", \"Flaming Moe's\", \"Uncle Moe's Family Feed-Bag\", etc.."
   ]
  },
  {
   "cell_type": "code",
   "execution_count": 78,
   "metadata": {},
   "outputs": [],
   "source": [
    "\"\"\"\n",
    "DON'T MODIFY ANYTHING IN THIS CELL\n",
    "\"\"\"\n",
    "import helper\n",
    "\n",
    "data_dir = './data/simpsons/moes_tavern_lines.txt'\n",
    "text = helper.load_data(data_dir)\n",
    "# Ignore notice, since we don't use it for analysing the data\n",
    "text = text[81:]"
   ]
  },
  {
   "cell_type": "markdown",
   "metadata": {},
   "source": [
    "## Explore the Data\n",
    "Play around with `view_sentence_range` to view different parts of the data."
   ]
  },
  {
   "cell_type": "code",
   "execution_count": 79,
   "metadata": {},
   "outputs": [
    {
     "name": "stdout",
     "output_type": "stream",
     "text": [
      "Dataset Stats\n",
      "Roughly the number of unique words: 11492\n",
      "Number of scenes: 262\n",
      "Average number of sentences in each scene: 15.251908396946565\n",
      "Number of lines: 4258\n",
      "Average number of words in each line: 11.50164396430249\n",
      "\n",
      "The sentences 20 to 25:\n",
      "\n",
      "\n",
      "Moe_Szyslak: Looks like this is the end.\n",
      "Barney_Gumble: That's all right. I couldn't have led a richer life.\n",
      "Barney_Gumble: So the next time somebody tells you county folk are good, honest people, you can spit in their faces for me!\n"
     ]
    }
   ],
   "source": [
    "view_sentence_range = (20, 25)\n",
    "\n",
    "\"\"\"\n",
    "DON'T MODIFY ANYTHING IN THIS CELL\n",
    "\"\"\"\n",
    "import numpy as np\n",
    "\n",
    "print('Dataset Stats')\n",
    "print('Roughly the number of unique words: {}'.format(len({word: None for word in text.split()})))\n",
    "scenes = text.split('\\n\\n')\n",
    "print('Number of scenes: {}'.format(len(scenes)))\n",
    "sentence_count_scene = [scene.count('\\n') for scene in scenes]\n",
    "print('Average number of sentences in each scene: {}'.format(np.average(sentence_count_scene)))\n",
    "\n",
    "sentences = [sentence for scene in scenes for sentence in scene.split('\\n')]\n",
    "print('Number of lines: {}'.format(len(sentences)))\n",
    "word_count_sentence = [len(sentence.split()) for sentence in sentences]\n",
    "print('Average number of words in each line: {}'.format(np.average(word_count_sentence)))\n",
    "\n",
    "print()\n",
    "print('The sentences {} to {}:'.format(*view_sentence_range))\n",
    "print('\\n'.join(text.split('\\n')[view_sentence_range[0]:view_sentence_range[1]]))"
   ]
  },
  {
   "cell_type": "markdown",
   "metadata": {},
   "source": [
    "## Implement Preprocessing Functions\n",
    "The first thing to do to any dataset is preprocessing.  Implement the following preprocessing functions below:\n",
    "- Lookup Table\n",
    "- Tokenize Punctuation\n",
    "\n",
    "### Lookup Table\n",
    "To create a word embedding, you first need to transform the words to ids.  In this function, create two dictionaries:\n",
    "- Dictionary to go from the words to an id, we'll call `vocab_to_int`\n",
    "- Dictionary to go from the id to word, we'll call `int_to_vocab`\n",
    "\n",
    "Return these dictionaries in the following tuple `(vocab_to_int, int_to_vocab)`"
   ]
  },
  {
   "cell_type": "code",
   "execution_count": 80,
   "metadata": {},
   "outputs": [
    {
     "name": "stdout",
     "output_type": "stream",
     "text": [
      "Tests Passed\n"
     ]
    }
   ],
   "source": [
    "import numpy as np\n",
    "import problem_unittests as tests\n",
    "\n",
    "def create_lookup_tables(text):\n",
    "    \"\"\"\n",
    "    Create lookup tables for vocabulary\n",
    "    :param text: The text of tv scripts split into words\n",
    "    :return: A tuple of dicts (vocab_to_int, int_to_vocab)\n",
    "    \"\"\"\n",
    "    # TODO: Implement Function\n",
    "    vocab = set(text)\n",
    "    vocab_to_int = { val: idx for idx, val in enumerate(vocab) }\n",
    "    int_to_vocab = dict(zip(vocab_to_int.values(), vocab_to_int.keys()))\n",
    "    # print(vocab_to_int, int_to_vocab, \"\\n\")\n",
    "    \n",
    "    # Taken from forum https://discussions.udacity.com/t/train-loss-nan/232122/6\n",
    "    # vocab = set(text)\n",
    "    # vocab_to_int = {c: i for i, c in enumerate(vocab)}\n",
    "    # int_to_vocab = dict(enumerate(vocab))\n",
    "    # print(vocab_to_int, int_to_vocab, \"\\n\")\n",
    "    \n",
    "    return (vocab_to_int, int_to_vocab)\n",
    "    \n",
    "    #return (vocab_to_int, int_to_vocab)\n",
    "\n",
    "\n",
    "\"\"\"\n",
    "DON'T MODIFY ANYTHING IN THIS CELL THAT IS BELOW THIS LINE\n",
    "\"\"\"\n",
    "tests.test_create_lookup_tables(create_lookup_tables)"
   ]
  },
  {
   "cell_type": "markdown",
   "metadata": {},
   "source": [
    "### Tokenize Punctuation\n",
    "We'll be splitting the script into a word array using spaces as delimiters.  However, punctuations like periods and exclamation marks make it hard for the neural network to distinguish between the word \"bye\" and \"bye!\".\n",
    "\n",
    "Implement the function `token_lookup` to return a dict that will be used to tokenize symbols like \"!\" into \"||Exclamation_Mark||\".  Create a dictionary for the following symbols where the symbol is the key and value is the token:\n",
    "- Period ( . )\n",
    "- Comma ( , )\n",
    "- Quotation Mark ( \" )\n",
    "- Semicolon ( ; )\n",
    "- Exclamation mark ( ! )\n",
    "- Question mark ( ? )\n",
    "- Left Parentheses ( ( )\n",
    "- Right Parentheses ( ) )\n",
    "- Dash ( -- )\n",
    "- Return ( \\n )\n",
    "\n",
    "This dictionary will be used to token the symbols and add the delimiter (space) around it.  This separates the symbols as it's own word, making it easier for the neural network to predict on the next word. Make sure you don't use a token that could be confused as a word. Instead of using the token \"dash\", try using something like \"||dash||\"."
   ]
  },
  {
   "cell_type": "code",
   "execution_count": 81,
   "metadata": {},
   "outputs": [
    {
     "name": "stdout",
     "output_type": "stream",
     "text": [
      "Tests Passed\n"
     ]
    }
   ],
   "source": [
    "def token_lookup():\n",
    "    \"\"\"\n",
    "    Generate a dict to turn punctuation into a token.\n",
    "    :return: Tokenize dictionary where the key is the punctuation and the value is the token\n",
    "    \"\"\"\n",
    "    # TODO: Implement Function\n",
    "    tokens = {\n",
    "        \".\": \"||period||\",\n",
    "        \",\": \"||comma||\",\n",
    "        \"\\\"\": \"||quotation_mark||\",\n",
    "        \";\": \"||semicolon||\",\n",
    "        \"!\": \"||exclamation_mark||\",\n",
    "        \"?\": \"||question_mark||\",\n",
    "        \"(\": \"||l_parantheses||\",\n",
    "        \")\": \"||r_parantheses||\",\n",
    "        \"--\": \"||dash||\",\n",
    "        \"\\n\": \"||return||\",\n",
    "    }\n",
    "    return tokens\n",
    "\n",
    "\"\"\"\n",
    "DON'T MODIFY ANYTHING IN THIS CELL THAT IS BELOW THIS LINE\n",
    "\"\"\"\n",
    "tests.test_tokenize(token_lookup)"
   ]
  },
  {
   "cell_type": "markdown",
   "metadata": {},
   "source": [
    "## Preprocess all the data and save it\n",
    "Running the code cell below will preprocess all the data and save it to file."
   ]
  },
  {
   "cell_type": "code",
   "execution_count": 82,
   "metadata": {},
   "outputs": [],
   "source": [
    "\"\"\"\n",
    "DON'T MODIFY ANYTHING IN THIS CELL\n",
    "\"\"\"\n",
    "# Preprocess Training, Validation, and Testing Data\n",
    "helper.preprocess_and_save_data(data_dir, token_lookup, create_lookup_tables)"
   ]
  },
  {
   "cell_type": "markdown",
   "metadata": {},
   "source": [
    "# Check Point\n",
    "This is your first checkpoint. If you ever decide to come back to this notebook or have to restart the notebook, you can start from here. The preprocessed data has been saved to disk."
   ]
  },
  {
   "cell_type": "code",
   "execution_count": 83,
   "metadata": {},
   "outputs": [],
   "source": [
    "\"\"\"\n",
    "DON'T MODIFY ANYTHING IN THIS CELL\n",
    "\"\"\"\n",
    "import helper\n",
    "import numpy as np\n",
    "import problem_unittests as tests\n",
    "\n",
    "int_text, vocab_to_int, int_to_vocab, token_dict = helper.load_preprocess()"
   ]
  },
  {
   "cell_type": "markdown",
   "metadata": {},
   "source": [
    "## Build the Neural Network\n",
    "You'll build the components necessary to build a RNN by implementing the following functions below:\n",
    "- get_inputs\n",
    "- get_init_cell\n",
    "- get_embed\n",
    "- build_rnn\n",
    "- build_nn\n",
    "- get_batches\n",
    "\n",
    "### Check the Version of TensorFlow and Access to GPU"
   ]
  },
  {
   "cell_type": "code",
   "execution_count": 84,
   "metadata": {},
   "outputs": [
    {
     "name": "stdout",
     "output_type": "stream",
     "text": [
      "TensorFlow Version: 1.1.0\n"
     ]
    },
    {
     "name": "stderr",
     "output_type": "stream",
     "text": [
      "c:\\users\\pasca\\anaconda3\\envs\\tv-script-generation\\lib\\site-packages\\ipykernel_launcher.py:14: UserWarning: No GPU found. Please use a GPU to train your neural network.\n",
      "  \n"
     ]
    }
   ],
   "source": [
    "\"\"\"\n",
    "DON'T MODIFY ANYTHING IN THIS CELL\n",
    "\"\"\"\n",
    "from distutils.version import LooseVersion\n",
    "import warnings\n",
    "import tensorflow as tf\n",
    "\n",
    "# Check TensorFlow Version\n",
    "assert LooseVersion(tf.__version__) >= LooseVersion('1.0'), 'Please use TensorFlow version 1.0 or newer'\n",
    "print('TensorFlow Version: {}'.format(tf.__version__))\n",
    "\n",
    "# Check for a GPU\n",
    "if not tf.test.gpu_device_name():\n",
    "    warnings.warn('No GPU found. Please use a GPU to train your neural network.')\n",
    "else:\n",
    "    print('Default GPU Device: {}'.format(tf.test.gpu_device_name()))"
   ]
  },
  {
   "cell_type": "markdown",
   "metadata": {},
   "source": [
    "### Input\n",
    "Implement the `get_inputs()` function to create TF Placeholders for the Neural Network.  It should create the following placeholders:\n",
    "- Input text placeholder named \"input\" using the [TF Placeholder](https://www.tensorflow.org/api_docs/python/tf/placeholder) `name` parameter.\n",
    "- Targets placeholder\n",
    "- Learning Rate placeholder\n",
    "\n",
    "Return the placeholders in the following tuple `(Input, Targets, LearningRate)`"
   ]
  },
  {
   "cell_type": "code",
   "execution_count": 85,
   "metadata": {},
   "outputs": [
    {
     "name": "stdout",
     "output_type": "stream",
     "text": [
      "Tests Passed\n"
     ]
    }
   ],
   "source": [
    "def get_inputs():\n",
    "    \"\"\"\n",
    "    Create TF Placeholders for input, targets, and learning rate.\n",
    "    :return: Tuple (input, targets, learning rate)\n",
    "    \"\"\"\n",
    "    # TODO: Implement Function\n",
    "    inputs = tf.placeholder(tf.int32, (None, None), \"input\")\n",
    "    targets = tf.placeholder(tf.int32, (None, None), \"targets\")\n",
    "    learning_rate = tf.placeholder(tf.float32, None, \"learning_rate\")\n",
    "    \n",
    "    return (inputs, targets, learning_rate)\n",
    "\n",
    "\n",
    "\"\"\"\n",
    "DON'T MODIFY ANYTHING IN THIS CELL THAT IS BELOW THIS LINE\n",
    "\"\"\"\n",
    "tests.test_get_inputs(get_inputs)"
   ]
  },
  {
   "cell_type": "markdown",
   "metadata": {},
   "source": [
    "### Build RNN Cell and Initialize\n",
    "Stack one or more [`BasicLSTMCells`](https://www.tensorflow.org/api_docs/python/tf/contrib/rnn/BasicLSTMCell) in a [`MultiRNNCell`](https://www.tensorflow.org/api_docs/python/tf/contrib/rnn/MultiRNNCell).\n",
    "- The Rnn size should be set using `rnn_size`\n",
    "- Initalize Cell State using the MultiRNNCell's [`zero_state()`](https://www.tensorflow.org/api_docs/python/tf/contrib/rnn/MultiRNNCell#zero_state) function\n",
    "    - Apply the name \"initial_state\" to the initial state using [`tf.identity()`](https://www.tensorflow.org/api_docs/python/tf/identity)\n",
    "\n",
    "Return the cell and initial state in the following tuple `(Cell, InitialState)`"
   ]
  },
  {
   "cell_type": "code",
   "execution_count": 86,
   "metadata": {},
   "outputs": [
    {
     "name": "stdout",
     "output_type": "stream",
     "text": [
      "Tests Passed\n"
     ]
    }
   ],
   "source": [
    "def get_init_cell(batch_size, rnn_size):\n",
    "    \"\"\"\n",
    "    Create an RNN Cell and initialize it.\n",
    "    :param batch_size: Size of batches\n",
    "    :param rnn_size: Size of RNNs\n",
    "    :return: Tuple (cell, initialize state)\n",
    "    \"\"\"\n",
    "    # TODO: Implement Function\n",
    "    lstm = tf.contrib.rnn.BasicLSTMCell(rnn_size)\n",
    "    cell = tf.contrib.rnn.MultiRNNCell([lstm])\n",
    "    initial_state = cell.zero_state(batch_size, tf.float32)\n",
    "    initial_state = tf.identity(initial_state, name = \"initial_state\")\n",
    "    \n",
    "    return (cell, initial_state)\n",
    "\n",
    "\n",
    "\"\"\"\n",
    "DON'T MODIFY ANYTHING IN THIS CELL THAT IS BELOW THIS LINE\n",
    "\"\"\"\n",
    "tests.test_get_init_cell(get_init_cell)"
   ]
  },
  {
   "cell_type": "markdown",
   "metadata": {},
   "source": [
    "### Word Embedding\n",
    "Apply embedding to `input_data` using TensorFlow.  Return the embedded sequence."
   ]
  },
  {
   "cell_type": "code",
   "execution_count": 87,
   "metadata": {},
   "outputs": [
    {
     "name": "stdout",
     "output_type": "stream",
     "text": [
      "Tests Passed\n"
     ]
    }
   ],
   "source": [
    "def get_embed(input_data, vocab_size, embed_dim):\n",
    "    \"\"\"\n",
    "    Create embedding for <input_data>.\n",
    "    :param input_data: TF placeholder for text input.\n",
    "    :param vocab_size: Number of words in vocabulary.\n",
    "    :param embed_dim: Number of embedding dimensions\n",
    "    :return: Embedded input.\n",
    "    \"\"\"\n",
    "    # TODO: Implement Function\n",
    "    embed_var = tf.Variable(tf.random_uniform((vocab_size, embed_dim), -1, 1))\n",
    "    embed_input = tf.nn.embedding_lookup(embed_var, input_data)\n",
    "    \n",
    "    return embed_input\n",
    "\n",
    "\n",
    "\"\"\"\n",
    "DON'T MODIFY ANYTHING IN THIS CELL THAT IS BELOW THIS LINE\n",
    "\"\"\"\n",
    "tests.test_get_embed(get_embed)"
   ]
  },
  {
   "cell_type": "markdown",
   "metadata": {},
   "source": [
    "### Build RNN\n",
    "You created a RNN Cell in the `get_init_cell()` function.  Time to use the cell to create a RNN.\n",
    "- Build the RNN using the [`tf.nn.dynamic_rnn()`](https://www.tensorflow.org/api_docs/python/tf/nn/dynamic_rnn)\n",
    " - Apply the name \"final_state\" to the final state using [`tf.identity()`](https://www.tensorflow.org/api_docs/python/tf/identity)\n",
    "\n",
    "Return the outputs and final_state state in the following tuple `(Outputs, FinalState)` "
   ]
  },
  {
   "cell_type": "code",
   "execution_count": 88,
   "metadata": {},
   "outputs": [
    {
     "name": "stdout",
     "output_type": "stream",
     "text": [
      "Tests Passed\n"
     ]
    }
   ],
   "source": [
    "def build_rnn(cell, inputs):\n",
    "    \"\"\"\n",
    "    Create a RNN using a RNN Cell\n",
    "    :param cell: RNN Cell\n",
    "    :param inputs: Input text data\n",
    "    :return: Tuple (Outputs, Final State)\n",
    "    \"\"\"\n",
    "    # TODO: Implement Function\n",
    "    (outputs, final_state) = tf.nn.dynamic_rnn(cell, inputs, dtype=tf.float32)\n",
    "    final_state = tf.identity(final_state, name = \"final_state\")\n",
    "    \n",
    "    return (outputs, final_state)\n",
    "\n",
    "\n",
    "\n",
    "\"\"\"\n",
    "DON'T MODIFY ANYTHING IN THIS CELL THAT IS BELOW THIS LINE\n",
    "\"\"\"\n",
    "tests.test_build_rnn(build_rnn)"
   ]
  },
  {
   "cell_type": "markdown",
   "metadata": {},
   "source": [
    "### Build the Neural Network\n",
    "Apply the functions you implemented above to:\n",
    "- Apply embedding to `input_data` using your `get_embed(input_data, vocab_size, embed_dim)` function.\n",
    "- Build RNN using `cell` and your `build_rnn(cell, inputs)` function.\n",
    "- Apply a fully connected layer with a linear activation and `vocab_size` as the number of outputs.\n",
    "\n",
    "Return the logits and final state in the following tuple (Logits, FinalState) "
   ]
  },
  {
   "cell_type": "code",
   "execution_count": 89,
   "metadata": {},
   "outputs": [
    {
     "name": "stdout",
     "output_type": "stream",
     "text": [
      "Tests Passed\n"
     ]
    }
   ],
   "source": [
    "def build_nn(cell, rnn_size, input_data, vocab_size, embed_dim):\n",
    "    \"\"\"\n",
    "    Build part of the neural network\n",
    "    :param cell: RNN cell\n",
    "    :param rnn_size: Size of rnns\n",
    "    :param input_data: Input data\n",
    "    :param vocab_size: Vocabulary size\n",
    "    :param embed_dim: Number of embedding dimensions\n",
    "    :return: Tuple (Logits, FinalState)\n",
    "    \"\"\"\n",
    "    # TODO: Implement Function\n",
    "    embed = get_embed(input_data, vocab_size, embed_dim)\n",
    "    (outputs, final_state) = build_rnn(cell, embed)\n",
    "    logits = tf.contrib.layers.fully_connected(outputs, vocab_size, None)\n",
    "    \n",
    "    return (logits, final_state)\n",
    "\n",
    "\n",
    "\"\"\"\n",
    "DON'T MODIFY ANYTHING IN THIS CELL THAT IS BELOW THIS LINE\n",
    "\"\"\"\n",
    "tests.test_build_nn(build_nn)"
   ]
  },
  {
   "cell_type": "markdown",
   "metadata": {},
   "source": [
    "### Batches\n",
    "Implement `get_batches` to create batches of input and targets using `int_text`.  The batches should be a Numpy array with the shape `(number of batches, 2, batch size, sequence length)`. Each batch contains two elements:\n",
    "- The first element is a single batch of **input** with the shape `[batch size, sequence length]`\n",
    "- The second element is a single batch of **targets** with the shape `[batch size, sequence length]`\n",
    "\n",
    "If you can't fill the last batch with enough data, drop the last batch.\n",
    "\n",
    "For exmple, `get_batches([1, 2, 3, 4, 5, 6, 7, 8, 9, 10, 11, 12, 13, 14, 15, 16, 17, 18, 19, 20], 3, 2)` would return a Numpy array of the following:\n",
    "```\n",
    "[\n",
    "  # First Batch\n",
    "  [\n",
    "    # Batch of Input\n",
    "    [[ 1  2], [ 7  8], [13 14]]\n",
    "    # Batch of targets\n",
    "    [[ 2  3], [ 8  9], [14 15]]\n",
    "  ]\n",
    "\n",
    "  # Second Batch\n",
    "  [\n",
    "    # Batch of Input\n",
    "    [[ 3  4], [ 9 10], [15 16]]\n",
    "    # Batch of targets\n",
    "    [[ 4  5], [10 11], [16 17]]\n",
    "  ]\n",
    "\n",
    "  # Third Batch\n",
    "  [\n",
    "    # Batch of Input\n",
    "    [[ 5  6], [11 12], [17 18]]\n",
    "    # Batch of targets\n",
    "    [[ 6  7], [12 13], [18  1]]\n",
    "  ]\n",
    "]\n",
    "```\n",
    "\n",
    "Notice that the last target value in the last batch is the first input value of the first batch. In this case, `1`. This is a common technique used when creating sequence batches, although it is rather unintuitive."
   ]
  },
  {
   "cell_type": "code",
   "execution_count": 90,
   "metadata": {},
   "outputs": [
    {
     "name": "stdout",
     "output_type": "stream",
     "text": [
      "Tests Passed\n"
     ]
    }
   ],
   "source": [
    "def get_batches(int_text, batch_size, seq_length):\n",
    "    \"\"\"\n",
    "    Return batches of input and target\n",
    "    :param int_text: Text with the words replaced by their ids\n",
    "    :param batch_size: The size of batch\n",
    "    :param seq_length: The length of sequence\n",
    "    :return: Batches as a Numpy array\n",
    "    \"\"\"\n",
    "    # TODO: Implement Function\n",
    "    num_batches = int(len(int_text) / (batch_size * seq_length))\n",
    "    batches = []\n",
    "    \n",
    "    for i in range(num_batches):\n",
    "        batch_inputs = []\n",
    "        batch_targets = []\n",
    "        \n",
    "        for ii in range(batch_size):\n",
    "            inputs = []\n",
    "            targets = []\n",
    "            \n",
    "            for iii in range(seq_length):\n",
    "                inputs.append(iii + (ii * num_batches * seq_length) + (i * seq_length))\n",
    "                targets.append(iii + (ii * num_batches * seq_length) + (i * seq_length) + 1)\n",
    "            \n",
    "            batch_inputs.append(inputs)\n",
    "            batch_targets.append(targets)\n",
    "        \n",
    "        batches.append([batch_inputs, batch_targets])\n",
    "    \n",
    "    batches[num_batches - 1][1][batch_size - 1][seq_length - 1] = 0\n",
    "    #print(np.array(batches))\n",
    "    return np.array(batches)\n",
    "\n",
    "\n",
    "\"\"\"\n",
    "DON'T MODIFY ANYTHING IN THIS CELL THAT IS BELOW THIS LINE\n",
    "\"\"\"\n",
    "tests.test_get_batches(get_batches)"
   ]
  },
  {
   "cell_type": "markdown",
   "metadata": {},
   "source": [
    "## Neural Network Training\n",
    "### Hyperparameters\n",
    "Tune the following parameters:\n",
    "\n",
    "- Set `num_epochs` to the number of epochs.\n",
    "- Set `batch_size` to the batch size.\n",
    "- Set `rnn_size` to the size of the RNNs.\n",
    "- Set `embed_dim` to the size of the embedding.\n",
    "- Set `seq_length` to the length of sequence.\n",
    "- Set `learning_rate` to the learning rate.\n",
    "- Set `show_every_n_batches` to the number of batches the neural network should print progress."
   ]
  },
  {
   "cell_type": "code",
   "execution_count": 91,
   "metadata": {},
   "outputs": [],
   "source": [
    "# Number of Epochs\n",
    "num_epochs = 128\n",
    "# Batch Size\n",
    "batch_size = 64\n",
    "# RNN Size\n",
    "rnn_size = 128\n",
    "# Embedding Dimension Size\n",
    "embed_dim = 128\n",
    "# Sequence Length\n",
    "seq_length = 16\n",
    "# Learning Rate\n",
    "learning_rate = 0.001\n",
    "# Show stats for every n number of batches\n",
    "show_every_n_batches = 10\n",
    "\n",
    "\"\"\"\n",
    "DON'T MODIFY ANYTHING IN THIS CELL THAT IS BELOW THIS LINE\n",
    "\"\"\"\n",
    "save_dir = './save'"
   ]
  },
  {
   "cell_type": "markdown",
   "metadata": {},
   "source": [
    "### Build the Graph\n",
    "Build the graph using the neural network you implemented."
   ]
  },
  {
   "cell_type": "code",
   "execution_count": 92,
   "metadata": {},
   "outputs": [],
   "source": [
    "\"\"\"\n",
    "DON'T MODIFY ANYTHING IN THIS CELL\n",
    "\"\"\"\n",
    "from tensorflow.contrib import seq2seq\n",
    "\n",
    "train_graph = tf.Graph()\n",
    "with train_graph.as_default():\n",
    "    vocab_size = len(int_to_vocab)\n",
    "    input_text, targets, lr = get_inputs()\n",
    "    input_data_shape = tf.shape(input_text)\n",
    "    cell, initial_state = get_init_cell(input_data_shape[0], rnn_size)\n",
    "    logits, final_state = build_nn(cell, rnn_size, input_text, vocab_size, embed_dim)\n",
    "\n",
    "    # Probabilities for generating words\n",
    "    probs = tf.nn.softmax(logits, name='probs')\n",
    "\n",
    "    # Loss function\n",
    "    cost = seq2seq.sequence_loss(\n",
    "        logits,\n",
    "        targets,\n",
    "        tf.ones([input_data_shape[0], input_data_shape[1]]))\n",
    "\n",
    "    # Optimizer\n",
    "    optimizer = tf.train.AdamOptimizer(lr)\n",
    "\n",
    "    # Gradient Clipping\n",
    "    gradients = optimizer.compute_gradients(cost)\n",
    "    capped_gradients = [(tf.clip_by_value(grad, -1., 1.), var) for grad, var in gradients if grad is not None]\n",
    "    train_op = optimizer.apply_gradients(capped_gradients)"
   ]
  },
  {
   "cell_type": "markdown",
   "metadata": {},
   "source": [
    "## Train\n",
    "Train the neural network on the preprocessed data.  If you have a hard time getting a good loss, check the [forums](https://discussions.udacity.com/) to see if anyone is having the same problem."
   ]
  },
  {
   "cell_type": "code",
   "execution_count": 93,
   "metadata": {},
   "outputs": [
    {
     "ename": "InvalidArgumentError",
     "evalue": "indices[7,0] = 7504 is not in [0, 6780)\n\t [[Node: embedding_lookup = Gather[Tindices=DT_INT32, Tparams=DT_FLOAT, _class=[\"loc:@Variable\"], validate_indices=true, _device=\"/job:localhost/replica:0/task:0/cpu:0\"](Variable/read, _recv_input_0)]]\n\nCaused by op 'embedding_lookup', defined at:\n  File \"c:\\users\\pasca\\anaconda3\\envs\\tv-script-generation\\lib\\runpy.py\", line 193, in _run_module_as_main\n    \"__main__\", mod_spec)\n  File \"c:\\users\\pasca\\anaconda3\\envs\\tv-script-generation\\lib\\runpy.py\", line 85, in _run_code\n    exec(code, run_globals)\n  File \"c:\\users\\pasca\\anaconda3\\envs\\tv-script-generation\\lib\\site-packages\\ipykernel_launcher.py\", line 16, in <module>\n    app.launch_new_instance()\n  File \"c:\\users\\pasca\\anaconda3\\envs\\tv-script-generation\\lib\\site-packages\\traitlets\\config\\application.py\", line 658, in launch_instance\n    app.start()\n  File \"c:\\users\\pasca\\anaconda3\\envs\\tv-script-generation\\lib\\site-packages\\ipykernel\\kernelapp.py\", line 478, in start\n    self.io_loop.start()\n  File \"c:\\users\\pasca\\anaconda3\\envs\\tv-script-generation\\lib\\site-packages\\zmq\\eventloop\\ioloop.py\", line 177, in start\n    super(ZMQIOLoop, self).start()\n  File \"c:\\users\\pasca\\anaconda3\\envs\\tv-script-generation\\lib\\site-packages\\tornado\\ioloop.py\", line 888, in start\n    handler_func(fd_obj, events)\n  File \"c:\\users\\pasca\\anaconda3\\envs\\tv-script-generation\\lib\\site-packages\\tornado\\stack_context.py\", line 277, in null_wrapper\n    return fn(*args, **kwargs)\n  File \"c:\\users\\pasca\\anaconda3\\envs\\tv-script-generation\\lib\\site-packages\\zmq\\eventloop\\zmqstream.py\", line 440, in _handle_events\n    self._handle_recv()\n  File \"c:\\users\\pasca\\anaconda3\\envs\\tv-script-generation\\lib\\site-packages\\zmq\\eventloop\\zmqstream.py\", line 472, in _handle_recv\n    self._run_callback(callback, msg)\n  File \"c:\\users\\pasca\\anaconda3\\envs\\tv-script-generation\\lib\\site-packages\\zmq\\eventloop\\zmqstream.py\", line 414, in _run_callback\n    callback(*args, **kwargs)\n  File \"c:\\users\\pasca\\anaconda3\\envs\\tv-script-generation\\lib\\site-packages\\tornado\\stack_context.py\", line 277, in null_wrapper\n    return fn(*args, **kwargs)\n  File \"c:\\users\\pasca\\anaconda3\\envs\\tv-script-generation\\lib\\site-packages\\ipykernel\\kernelbase.py\", line 281, in dispatcher\n    return self.dispatch_shell(stream, msg)\n  File \"c:\\users\\pasca\\anaconda3\\envs\\tv-script-generation\\lib\\site-packages\\ipykernel\\kernelbase.py\", line 232, in dispatch_shell\n    handler(stream, idents, msg)\n  File \"c:\\users\\pasca\\anaconda3\\envs\\tv-script-generation\\lib\\site-packages\\ipykernel\\kernelbase.py\", line 397, in execute_request\n    user_expressions, allow_stdin)\n  File \"c:\\users\\pasca\\anaconda3\\envs\\tv-script-generation\\lib\\site-packages\\ipykernel\\ipkernel.py\", line 208, in do_execute\n    res = shell.run_cell(code, store_history=store_history, silent=silent)\n  File \"c:\\users\\pasca\\anaconda3\\envs\\tv-script-generation\\lib\\site-packages\\ipykernel\\zmqshell.py\", line 533, in run_cell\n    return super(ZMQInteractiveShell, self).run_cell(*args, **kwargs)\n  File \"c:\\users\\pasca\\anaconda3\\envs\\tv-script-generation\\lib\\site-packages\\IPython\\core\\interactiveshell.py\", line 2728, in run_cell\n    interactivity=interactivity, compiler=compiler, result=result)\n  File \"c:\\users\\pasca\\anaconda3\\envs\\tv-script-generation\\lib\\site-packages\\IPython\\core\\interactiveshell.py\", line 2850, in run_ast_nodes\n    if self.run_code(code, result):\n  File \"c:\\users\\pasca\\anaconda3\\envs\\tv-script-generation\\lib\\site-packages\\IPython\\core\\interactiveshell.py\", line 2910, in run_code\n    exec(code_obj, self.user_global_ns, self.user_ns)\n  File \"<ipython-input-92-bd6cb88aaa1a>\", line 12, in <module>\n    logits, final_state = build_nn(cell, rnn_size, input_text, vocab_size, embed_dim)\n  File \"<ipython-input-89-254c908a26e4>\", line 12, in build_nn\n    embed = get_embed(input_data, vocab_size, embed_dim)\n  File \"<ipython-input-87-25b3f67b3cdd>\", line 11, in get_embed\n    embed_input = tf.nn.embedding_lookup(embed_var, input_data)\n  File \"c:\\users\\pasca\\anaconda3\\envs\\tv-script-generation\\lib\\site-packages\\tensorflow\\python\\ops\\embedding_ops.py\", line 119, in embedding_lookup\n    params[0], ids, validate_indices=validate_indices, name=name))\n  File \"c:\\users\\pasca\\anaconda3\\envs\\tv-script-generation\\lib\\site-packages\\tensorflow\\python\\ops\\embedding_ops.py\", line 41, in _do_gather\n    params, ids, name=name, validate_indices=validate_indices)\n  File \"c:\\users\\pasca\\anaconda3\\envs\\tv-script-generation\\lib\\site-packages\\tensorflow\\python\\ops\\gen_array_ops.py\", line 1207, in gather\n    validate_indices=validate_indices, name=name)\n  File \"c:\\users\\pasca\\anaconda3\\envs\\tv-script-generation\\lib\\site-packages\\tensorflow\\python\\framework\\op_def_library.py\", line 768, in apply_op\n    op_def=op_def)\n  File \"c:\\users\\pasca\\anaconda3\\envs\\tv-script-generation\\lib\\site-packages\\tensorflow\\python\\framework\\ops.py\", line 2336, in create_op\n    original_op=self._default_original_op, op_def=op_def)\n  File \"c:\\users\\pasca\\anaconda3\\envs\\tv-script-generation\\lib\\site-packages\\tensorflow\\python\\framework\\ops.py\", line 1228, in __init__\n    self._traceback = _extract_stack()\n\nInvalidArgumentError (see above for traceback): indices[7,0] = 7504 is not in [0, 6780)\n\t [[Node: embedding_lookup = Gather[Tindices=DT_INT32, Tparams=DT_FLOAT, _class=[\"loc:@Variable\"], validate_indices=true, _device=\"/job:localhost/replica:0/task:0/cpu:0\"](Variable/read, _recv_input_0)]]\n",
     "output_type": "error",
     "traceback": [
      "\u001b[1;31m---------------------------------------------------------------------------\u001b[0m",
      "\u001b[1;31mInvalidArgumentError\u001b[0m                      Traceback (most recent call last)",
      "\u001b[1;32mc:\\users\\pasca\\anaconda3\\envs\\tv-script-generation\\lib\\site-packages\\tensorflow\\python\\client\\session.py\u001b[0m in \u001b[0;36m_do_call\u001b[1;34m(self, fn, *args)\u001b[0m\n\u001b[0;32m   1038\u001b[0m     \u001b[1;32mtry\u001b[0m\u001b[1;33m:\u001b[0m\u001b[1;33m\u001b[0m\u001b[0m\n\u001b[1;32m-> 1039\u001b[1;33m       \u001b[1;32mreturn\u001b[0m \u001b[0mfn\u001b[0m\u001b[1;33m(\u001b[0m\u001b[1;33m*\u001b[0m\u001b[0margs\u001b[0m\u001b[1;33m)\u001b[0m\u001b[1;33m\u001b[0m\u001b[0m\n\u001b[0m\u001b[0;32m   1040\u001b[0m     \u001b[1;32mexcept\u001b[0m \u001b[0merrors\u001b[0m\u001b[1;33m.\u001b[0m\u001b[0mOpError\u001b[0m \u001b[1;32mas\u001b[0m \u001b[0me\u001b[0m\u001b[1;33m:\u001b[0m\u001b[1;33m\u001b[0m\u001b[0m\n",
      "\u001b[1;32mc:\\users\\pasca\\anaconda3\\envs\\tv-script-generation\\lib\\site-packages\\tensorflow\\python\\client\\session.py\u001b[0m in \u001b[0;36m_run_fn\u001b[1;34m(session, feed_dict, fetch_list, target_list, options, run_metadata)\u001b[0m\n\u001b[0;32m   1020\u001b[0m                                  \u001b[0mfeed_dict\u001b[0m\u001b[1;33m,\u001b[0m \u001b[0mfetch_list\u001b[0m\u001b[1;33m,\u001b[0m \u001b[0mtarget_list\u001b[0m\u001b[1;33m,\u001b[0m\u001b[1;33m\u001b[0m\u001b[0m\n\u001b[1;32m-> 1021\u001b[1;33m                                  status, run_metadata)\n\u001b[0m\u001b[0;32m   1022\u001b[0m \u001b[1;33m\u001b[0m\u001b[0m\n",
      "\u001b[1;32mc:\\users\\pasca\\anaconda3\\envs\\tv-script-generation\\lib\\contextlib.py\u001b[0m in \u001b[0;36m__exit__\u001b[1;34m(self, type, value, traceback)\u001b[0m\n\u001b[0;32m     87\u001b[0m             \u001b[1;32mtry\u001b[0m\u001b[1;33m:\u001b[0m\u001b[1;33m\u001b[0m\u001b[0m\n\u001b[1;32m---> 88\u001b[1;33m                 \u001b[0mnext\u001b[0m\u001b[1;33m(\u001b[0m\u001b[0mself\u001b[0m\u001b[1;33m.\u001b[0m\u001b[0mgen\u001b[0m\u001b[1;33m)\u001b[0m\u001b[1;33m\u001b[0m\u001b[0m\n\u001b[0m\u001b[0;32m     89\u001b[0m             \u001b[1;32mexcept\u001b[0m \u001b[0mStopIteration\u001b[0m\u001b[1;33m:\u001b[0m\u001b[1;33m\u001b[0m\u001b[0m\n",
      "\u001b[1;32mc:\\users\\pasca\\anaconda3\\envs\\tv-script-generation\\lib\\site-packages\\tensorflow\\python\\framework\\errors_impl.py\u001b[0m in \u001b[0;36mraise_exception_on_not_ok_status\u001b[1;34m()\u001b[0m\n\u001b[0;32m    465\u001b[0m           \u001b[0mcompat\u001b[0m\u001b[1;33m.\u001b[0m\u001b[0mas_text\u001b[0m\u001b[1;33m(\u001b[0m\u001b[0mpywrap_tensorflow\u001b[0m\u001b[1;33m.\u001b[0m\u001b[0mTF_Message\u001b[0m\u001b[1;33m(\u001b[0m\u001b[0mstatus\u001b[0m\u001b[1;33m)\u001b[0m\u001b[1;33m)\u001b[0m\u001b[1;33m,\u001b[0m\u001b[1;33m\u001b[0m\u001b[0m\n\u001b[1;32m--> 466\u001b[1;33m           pywrap_tensorflow.TF_GetCode(status))\n\u001b[0m\u001b[0;32m    467\u001b[0m   \u001b[1;32mfinally\u001b[0m\u001b[1;33m:\u001b[0m\u001b[1;33m\u001b[0m\u001b[0m\n",
      "\u001b[1;31mInvalidArgumentError\u001b[0m: indices[7,0] = 7504 is not in [0, 6780)\n\t [[Node: embedding_lookup = Gather[Tindices=DT_INT32, Tparams=DT_FLOAT, _class=[\"loc:@Variable\"], validate_indices=true, _device=\"/job:localhost/replica:0/task:0/cpu:0\"](Variable/read, _recv_input_0)]]",
      "\nDuring handling of the above exception, another exception occurred:\n",
      "\u001b[1;31mInvalidArgumentError\u001b[0m                      Traceback (most recent call last)",
      "\u001b[1;32m<ipython-input-93-39ad1111000c>\u001b[0m in \u001b[0;36m<module>\u001b[1;34m()\u001b[0m\n\u001b[0;32m     16\u001b[0m                 \u001b[0minitial_state\u001b[0m\u001b[1;33m:\u001b[0m \u001b[0mstate\u001b[0m\u001b[1;33m,\u001b[0m\u001b[1;33m\u001b[0m\u001b[0m\n\u001b[0;32m     17\u001b[0m                 lr: learning_rate}\n\u001b[1;32m---> 18\u001b[1;33m             \u001b[0mtrain_loss\u001b[0m\u001b[1;33m,\u001b[0m \u001b[0mstate\u001b[0m\u001b[1;33m,\u001b[0m \u001b[0m_\u001b[0m \u001b[1;33m=\u001b[0m \u001b[0msess\u001b[0m\u001b[1;33m.\u001b[0m\u001b[0mrun\u001b[0m\u001b[1;33m(\u001b[0m\u001b[1;33m[\u001b[0m\u001b[0mcost\u001b[0m\u001b[1;33m,\u001b[0m \u001b[0mfinal_state\u001b[0m\u001b[1;33m,\u001b[0m \u001b[0mtrain_op\u001b[0m\u001b[1;33m]\u001b[0m\u001b[1;33m,\u001b[0m \u001b[0mfeed\u001b[0m\u001b[1;33m)\u001b[0m\u001b[1;33m\u001b[0m\u001b[0m\n\u001b[0m\u001b[0;32m     19\u001b[0m \u001b[1;33m\u001b[0m\u001b[0m\n\u001b[0;32m     20\u001b[0m             \u001b[1;31m# Show every <show_every_n_batches> batches\u001b[0m\u001b[1;33m\u001b[0m\u001b[1;33m\u001b[0m\u001b[0m\n",
      "\u001b[1;32mc:\\users\\pasca\\anaconda3\\envs\\tv-script-generation\\lib\\site-packages\\tensorflow\\python\\client\\session.py\u001b[0m in \u001b[0;36mrun\u001b[1;34m(self, fetches, feed_dict, options, run_metadata)\u001b[0m\n\u001b[0;32m    776\u001b[0m     \u001b[1;32mtry\u001b[0m\u001b[1;33m:\u001b[0m\u001b[1;33m\u001b[0m\u001b[0m\n\u001b[0;32m    777\u001b[0m       result = self._run(None, fetches, feed_dict, options_ptr,\n\u001b[1;32m--> 778\u001b[1;33m                          run_metadata_ptr)\n\u001b[0m\u001b[0;32m    779\u001b[0m       \u001b[1;32mif\u001b[0m \u001b[0mrun_metadata\u001b[0m\u001b[1;33m:\u001b[0m\u001b[1;33m\u001b[0m\u001b[0m\n\u001b[0;32m    780\u001b[0m         \u001b[0mproto_data\u001b[0m \u001b[1;33m=\u001b[0m \u001b[0mtf_session\u001b[0m\u001b[1;33m.\u001b[0m\u001b[0mTF_GetBuffer\u001b[0m\u001b[1;33m(\u001b[0m\u001b[0mrun_metadata_ptr\u001b[0m\u001b[1;33m)\u001b[0m\u001b[1;33m\u001b[0m\u001b[0m\n",
      "\u001b[1;32mc:\\users\\pasca\\anaconda3\\envs\\tv-script-generation\\lib\\site-packages\\tensorflow\\python\\client\\session.py\u001b[0m in \u001b[0;36m_run\u001b[1;34m(self, handle, fetches, feed_dict, options, run_metadata)\u001b[0m\n\u001b[0;32m    980\u001b[0m     \u001b[1;32mif\u001b[0m \u001b[0mfinal_fetches\u001b[0m \u001b[1;32mor\u001b[0m \u001b[0mfinal_targets\u001b[0m\u001b[1;33m:\u001b[0m\u001b[1;33m\u001b[0m\u001b[0m\n\u001b[0;32m    981\u001b[0m       results = self._do_run(handle, final_targets, final_fetches,\n\u001b[1;32m--> 982\u001b[1;33m                              feed_dict_string, options, run_metadata)\n\u001b[0m\u001b[0;32m    983\u001b[0m     \u001b[1;32melse\u001b[0m\u001b[1;33m:\u001b[0m\u001b[1;33m\u001b[0m\u001b[0m\n\u001b[0;32m    984\u001b[0m       \u001b[0mresults\u001b[0m \u001b[1;33m=\u001b[0m \u001b[1;33m[\u001b[0m\u001b[1;33m]\u001b[0m\u001b[1;33m\u001b[0m\u001b[0m\n",
      "\u001b[1;32mc:\\users\\pasca\\anaconda3\\envs\\tv-script-generation\\lib\\site-packages\\tensorflow\\python\\client\\session.py\u001b[0m in \u001b[0;36m_do_run\u001b[1;34m(self, handle, target_list, fetch_list, feed_dict, options, run_metadata)\u001b[0m\n\u001b[0;32m   1030\u001b[0m     \u001b[1;32mif\u001b[0m \u001b[0mhandle\u001b[0m \u001b[1;32mis\u001b[0m \u001b[1;32mNone\u001b[0m\u001b[1;33m:\u001b[0m\u001b[1;33m\u001b[0m\u001b[0m\n\u001b[0;32m   1031\u001b[0m       return self._do_call(_run_fn, self._session, feed_dict, fetch_list,\n\u001b[1;32m-> 1032\u001b[1;33m                            target_list, options, run_metadata)\n\u001b[0m\u001b[0;32m   1033\u001b[0m     \u001b[1;32melse\u001b[0m\u001b[1;33m:\u001b[0m\u001b[1;33m\u001b[0m\u001b[0m\n\u001b[0;32m   1034\u001b[0m       return self._do_call(_prun_fn, self._session, handle, feed_dict,\n",
      "\u001b[1;32mc:\\users\\pasca\\anaconda3\\envs\\tv-script-generation\\lib\\site-packages\\tensorflow\\python\\client\\session.py\u001b[0m in \u001b[0;36m_do_call\u001b[1;34m(self, fn, *args)\u001b[0m\n\u001b[0;32m   1050\u001b[0m         \u001b[1;32mexcept\u001b[0m \u001b[0mKeyError\u001b[0m\u001b[1;33m:\u001b[0m\u001b[1;33m\u001b[0m\u001b[0m\n\u001b[0;32m   1051\u001b[0m           \u001b[1;32mpass\u001b[0m\u001b[1;33m\u001b[0m\u001b[0m\n\u001b[1;32m-> 1052\u001b[1;33m       \u001b[1;32mraise\u001b[0m \u001b[0mtype\u001b[0m\u001b[1;33m(\u001b[0m\u001b[0me\u001b[0m\u001b[1;33m)\u001b[0m\u001b[1;33m(\u001b[0m\u001b[0mnode_def\u001b[0m\u001b[1;33m,\u001b[0m \u001b[0mop\u001b[0m\u001b[1;33m,\u001b[0m \u001b[0mmessage\u001b[0m\u001b[1;33m)\u001b[0m\u001b[1;33m\u001b[0m\u001b[0m\n\u001b[0m\u001b[0;32m   1053\u001b[0m \u001b[1;33m\u001b[0m\u001b[0m\n\u001b[0;32m   1054\u001b[0m   \u001b[1;32mdef\u001b[0m \u001b[0m_extend_graph\u001b[0m\u001b[1;33m(\u001b[0m\u001b[0mself\u001b[0m\u001b[1;33m)\u001b[0m\u001b[1;33m:\u001b[0m\u001b[1;33m\u001b[0m\u001b[0m\n",
      "\u001b[1;31mInvalidArgumentError\u001b[0m: indices[7,0] = 7504 is not in [0, 6780)\n\t [[Node: embedding_lookup = Gather[Tindices=DT_INT32, Tparams=DT_FLOAT, _class=[\"loc:@Variable\"], validate_indices=true, _device=\"/job:localhost/replica:0/task:0/cpu:0\"](Variable/read, _recv_input_0)]]\n\nCaused by op 'embedding_lookup', defined at:\n  File \"c:\\users\\pasca\\anaconda3\\envs\\tv-script-generation\\lib\\runpy.py\", line 193, in _run_module_as_main\n    \"__main__\", mod_spec)\n  File \"c:\\users\\pasca\\anaconda3\\envs\\tv-script-generation\\lib\\runpy.py\", line 85, in _run_code\n    exec(code, run_globals)\n  File \"c:\\users\\pasca\\anaconda3\\envs\\tv-script-generation\\lib\\site-packages\\ipykernel_launcher.py\", line 16, in <module>\n    app.launch_new_instance()\n  File \"c:\\users\\pasca\\anaconda3\\envs\\tv-script-generation\\lib\\site-packages\\traitlets\\config\\application.py\", line 658, in launch_instance\n    app.start()\n  File \"c:\\users\\pasca\\anaconda3\\envs\\tv-script-generation\\lib\\site-packages\\ipykernel\\kernelapp.py\", line 478, in start\n    self.io_loop.start()\n  File \"c:\\users\\pasca\\anaconda3\\envs\\tv-script-generation\\lib\\site-packages\\zmq\\eventloop\\ioloop.py\", line 177, in start\n    super(ZMQIOLoop, self).start()\n  File \"c:\\users\\pasca\\anaconda3\\envs\\tv-script-generation\\lib\\site-packages\\tornado\\ioloop.py\", line 888, in start\n    handler_func(fd_obj, events)\n  File \"c:\\users\\pasca\\anaconda3\\envs\\tv-script-generation\\lib\\site-packages\\tornado\\stack_context.py\", line 277, in null_wrapper\n    return fn(*args, **kwargs)\n  File \"c:\\users\\pasca\\anaconda3\\envs\\tv-script-generation\\lib\\site-packages\\zmq\\eventloop\\zmqstream.py\", line 440, in _handle_events\n    self._handle_recv()\n  File \"c:\\users\\pasca\\anaconda3\\envs\\tv-script-generation\\lib\\site-packages\\zmq\\eventloop\\zmqstream.py\", line 472, in _handle_recv\n    self._run_callback(callback, msg)\n  File \"c:\\users\\pasca\\anaconda3\\envs\\tv-script-generation\\lib\\site-packages\\zmq\\eventloop\\zmqstream.py\", line 414, in _run_callback\n    callback(*args, **kwargs)\n  File \"c:\\users\\pasca\\anaconda3\\envs\\tv-script-generation\\lib\\site-packages\\tornado\\stack_context.py\", line 277, in null_wrapper\n    return fn(*args, **kwargs)\n  File \"c:\\users\\pasca\\anaconda3\\envs\\tv-script-generation\\lib\\site-packages\\ipykernel\\kernelbase.py\", line 281, in dispatcher\n    return self.dispatch_shell(stream, msg)\n  File \"c:\\users\\pasca\\anaconda3\\envs\\tv-script-generation\\lib\\site-packages\\ipykernel\\kernelbase.py\", line 232, in dispatch_shell\n    handler(stream, idents, msg)\n  File \"c:\\users\\pasca\\anaconda3\\envs\\tv-script-generation\\lib\\site-packages\\ipykernel\\kernelbase.py\", line 397, in execute_request\n    user_expressions, allow_stdin)\n  File \"c:\\users\\pasca\\anaconda3\\envs\\tv-script-generation\\lib\\site-packages\\ipykernel\\ipkernel.py\", line 208, in do_execute\n    res = shell.run_cell(code, store_history=store_history, silent=silent)\n  File \"c:\\users\\pasca\\anaconda3\\envs\\tv-script-generation\\lib\\site-packages\\ipykernel\\zmqshell.py\", line 533, in run_cell\n    return super(ZMQInteractiveShell, self).run_cell(*args, **kwargs)\n  File \"c:\\users\\pasca\\anaconda3\\envs\\tv-script-generation\\lib\\site-packages\\IPython\\core\\interactiveshell.py\", line 2728, in run_cell\n    interactivity=interactivity, compiler=compiler, result=result)\n  File \"c:\\users\\pasca\\anaconda3\\envs\\tv-script-generation\\lib\\site-packages\\IPython\\core\\interactiveshell.py\", line 2850, in run_ast_nodes\n    if self.run_code(code, result):\n  File \"c:\\users\\pasca\\anaconda3\\envs\\tv-script-generation\\lib\\site-packages\\IPython\\core\\interactiveshell.py\", line 2910, in run_code\n    exec(code_obj, self.user_global_ns, self.user_ns)\n  File \"<ipython-input-92-bd6cb88aaa1a>\", line 12, in <module>\n    logits, final_state = build_nn(cell, rnn_size, input_text, vocab_size, embed_dim)\n  File \"<ipython-input-89-254c908a26e4>\", line 12, in build_nn\n    embed = get_embed(input_data, vocab_size, embed_dim)\n  File \"<ipython-input-87-25b3f67b3cdd>\", line 11, in get_embed\n    embed_input = tf.nn.embedding_lookup(embed_var, input_data)\n  File \"c:\\users\\pasca\\anaconda3\\envs\\tv-script-generation\\lib\\site-packages\\tensorflow\\python\\ops\\embedding_ops.py\", line 119, in embedding_lookup\n    params[0], ids, validate_indices=validate_indices, name=name))\n  File \"c:\\users\\pasca\\anaconda3\\envs\\tv-script-generation\\lib\\site-packages\\tensorflow\\python\\ops\\embedding_ops.py\", line 41, in _do_gather\n    params, ids, name=name, validate_indices=validate_indices)\n  File \"c:\\users\\pasca\\anaconda3\\envs\\tv-script-generation\\lib\\site-packages\\tensorflow\\python\\ops\\gen_array_ops.py\", line 1207, in gather\n    validate_indices=validate_indices, name=name)\n  File \"c:\\users\\pasca\\anaconda3\\envs\\tv-script-generation\\lib\\site-packages\\tensorflow\\python\\framework\\op_def_library.py\", line 768, in apply_op\n    op_def=op_def)\n  File \"c:\\users\\pasca\\anaconda3\\envs\\tv-script-generation\\lib\\site-packages\\tensorflow\\python\\framework\\ops.py\", line 2336, in create_op\n    original_op=self._default_original_op, op_def=op_def)\n  File \"c:\\users\\pasca\\anaconda3\\envs\\tv-script-generation\\lib\\site-packages\\tensorflow\\python\\framework\\ops.py\", line 1228, in __init__\n    self._traceback = _extract_stack()\n\nInvalidArgumentError (see above for traceback): indices[7,0] = 7504 is not in [0, 6780)\n\t [[Node: embedding_lookup = Gather[Tindices=DT_INT32, Tparams=DT_FLOAT, _class=[\"loc:@Variable\"], validate_indices=true, _device=\"/job:localhost/replica:0/task:0/cpu:0\"](Variable/read, _recv_input_0)]]\n"
     ]
    }
   ],
   "source": [
    "\"\"\"\n",
    "DON'T MODIFY ANYTHING IN THIS CELL\n",
    "\"\"\"\n",
    "batches = get_batches(int_text, batch_size, seq_length)\n",
    "\n",
    "with tf.Session(graph=train_graph) as sess:\n",
    "    sess.run(tf.global_variables_initializer())\n",
    "\n",
    "    for epoch_i in range(num_epochs):\n",
    "        state = sess.run(initial_state, {input_text: batches[0][0]})\n",
    "\n",
    "        for batch_i, (x, y) in enumerate(batches):\n",
    "            feed = {\n",
    "                input_text: x,\n",
    "                targets: y,\n",
    "                initial_state: state,\n",
    "                lr: learning_rate}\n",
    "            train_loss, state, _ = sess.run([cost, final_state, train_op], feed)\n",
    "\n",
    "            # Show every <show_every_n_batches> batches\n",
    "            if (epoch_i * len(batches) + batch_i) % show_every_n_batches == 0:\n",
    "                print('Epoch {:>3} Batch {:>4}/{}   train_loss = {:.3f}'.format(\n",
    "                    epoch_i,\n",
    "                    batch_i,\n",
    "                    len(batches),\n",
    "                    train_loss))\n",
    "\n",
    "    # Save Model\n",
    "    saver = tf.train.Saver()\n",
    "    saver.save(sess, save_dir)\n",
    "    print('Model Trained and Saved')"
   ]
  },
  {
   "cell_type": "markdown",
   "metadata": {},
   "source": [
    "## Save Parameters\n",
    "Save `seq_length` and `save_dir` for generating a new TV script."
   ]
  },
  {
   "cell_type": "code",
   "execution_count": 117,
   "metadata": {},
   "outputs": [],
   "source": [
    "\"\"\"\n",
    "DON'T MODIFY ANYTHING IN THIS CELL\n",
    "\"\"\"\n",
    "# Save parameters for checkpoint\n",
    "helper.save_params((seq_length, save_dir))"
   ]
  },
  {
   "cell_type": "markdown",
   "metadata": {},
   "source": [
    "# Checkpoint"
   ]
  },
  {
   "cell_type": "code",
   "execution_count": 118,
   "metadata": {},
   "outputs": [],
   "source": [
    "\"\"\"\n",
    "DON'T MODIFY ANYTHING IN THIS CELL\n",
    "\"\"\"\n",
    "import tensorflow as tf\n",
    "import numpy as np\n",
    "import helper\n",
    "import problem_unittests as tests\n",
    "\n",
    "_, vocab_to_int, int_to_vocab, token_dict = helper.load_preprocess()\n",
    "seq_length, load_dir = helper.load_params()"
   ]
  },
  {
   "cell_type": "markdown",
   "metadata": {},
   "source": [
    "## Implement Generate Functions\n",
    "### Get Tensors\n",
    "Get tensors from `loaded_graph` using the function [`get_tensor_by_name()`](https://www.tensorflow.org/api_docs/python/tf/Graph#get_tensor_by_name).  Get the tensors using the following names:\n",
    "- \"input:0\"\n",
    "- \"initial_state:0\"\n",
    "- \"final_state:0\"\n",
    "- \"probs:0\"\n",
    "\n",
    "Return the tensors in the following tuple `(InputTensor, InitialStateTensor, FinalStateTensor, ProbsTensor)` "
   ]
  },
  {
   "cell_type": "code",
   "execution_count": 134,
   "metadata": {},
   "outputs": [
    {
     "name": "stdout",
     "output_type": "stream",
     "text": [
      "Tests Passed\n"
     ]
    }
   ],
   "source": [
    "def get_tensors(loaded_graph):\n",
    "    \"\"\"\n",
    "    Get input, initial state, final state, and probabilities tensor from <loaded_graph>\n",
    "    :param loaded_graph: TensorFlow graph loaded from file\n",
    "    :return: Tuple (InputTensor, InitialStateTensor, FinalStateTensor, ProbsTensor)\n",
    "    \"\"\"\n",
    "    # TODO: Implement Function\n",
    "    inputs = loaded_graph.get_tensor_by_name('input:0')\n",
    "    init_state = loaded_graph.get_tensor_by_name('initial_state:0')\n",
    "    final_state = loaded_graph.get_tensor_by_name('final_state:0')\n",
    "    probs = loaded_graph.get_tensor_by_name('probs:0')\n",
    "    return inputs, init_state, final_state, probs\n",
    "\n",
    "\n",
    "\"\"\"\n",
    "DON'T MODIFY ANYTHING IN THIS CELL THAT IS BELOW THIS LINE\n",
    "\"\"\"\n",
    "tests.test_get_tensors(get_tensors)"
   ]
  },
  {
   "cell_type": "markdown",
   "metadata": {},
   "source": [
    "### Choose Word\n",
    "Implement the `pick_word()` function to select the next word using `probabilities`."
   ]
  },
  {
   "cell_type": "code",
   "execution_count": 135,
   "metadata": {},
   "outputs": [
    {
     "name": "stdout",
     "output_type": "stream",
     "text": [
      "[ 0.1   0.8   0.05  0.05]\n",
      "{0: 'this', 1: 'is', 2: 'a', 3: 'test'}\n",
      "is\n",
      "Tests Passed\n"
     ]
    }
   ],
   "source": [
    "def pick_word(probabilities, int_to_vocab):\n",
    "    \"\"\"\n",
    "    Pick the next word in the generated text\n",
    "    :param probabilities: Probabilites of the next word\n",
    "    :param int_to_vocab: Dictionary of word ids as the keys and words as the values\n",
    "    :return: String of the predicted word\n",
    "    \"\"\"\n",
    "    # TODO: Implement Function\n",
    "    print(probabilities)\n",
    "    print(int_to_vocab)\n",
    "    print(int_to_vocab[np.argmax(probabilities)])\n",
    "    return int_to_vocab[np.argmax(probabilities)]\n",
    "\n",
    "\n",
    "\"\"\"\n",
    "DON'T MODIFY ANYTHING IN THIS CELL THAT IS BELOW THIS LINE\n",
    "\"\"\"\n",
    "tests.test_pick_word(pick_word)"
   ]
  },
  {
   "cell_type": "markdown",
   "metadata": {},
   "source": [
    "## Generate TV Script\n",
    "This will generate the TV script for you.  Set `gen_length` to the length of TV script you want to generate."
   ]
  },
  {
   "cell_type": "code",
   "execution_count": 132,
   "metadata": {},
   "outputs": [
    {
     "name": "stdout",
     "output_type": "stream",
     "text": [
      "INFO:tensorflow:Restoring parameters from ./save\n",
      "[ nan  nan  nan ...,  nan  nan  nan]\n",
      "{69080: '||return||', 69069: 'moe_szyslak:', 69054: '||l_parantheses||', 68577: 'into', 68578: 'phone', 69056: '||r_parantheses||', 68523: \"moe's\", 68524: 'tavern', 69100: '||period||', 67467: 'where', 68966: 'the', 11: 'elite', 63567: 'meet', 69098: 'to', 66886: 'drink', 66806: 'bart_simpson:', 69057: 'eh', 69094: '||comma||', 68750: 'yeah', 68521: 'hello', 68550: 'is', 28965: 'mike', 68551: 'there', 69028: '||question_mark||', 69021: 'last', 68097: 'name', 61: 'rotch', 66874: 'hold', 68835: 'on', 68300: \"i'll\", 68821: 'check', 59394: 'barflies', 68769: 'hey', 66307: 'has', 37168: 'anybody', 56869: 'seen', 27880: 'lately', 69047: 'listen', 69086: 'you', 68583: 'little', 58895: 'puke', 68837: 'one', 68960: 'of', 66114: 'these', 63409: 'days', 68943: \"i'm\", 68596: 'gonna', 66037: 'catch', 69092: 'and', 23821: 'carve', 69063: 'my', 69020: 'your', 67502: 'back', 68601: 'with', 67459: 'an', 57258: 'ice', 63282: 'pick', 66960: \"what's\", 66962: 'matter', 68941: 'homer', 69089: \"you're\", 68944: 'not', 58629: 'normal', 5689: 'effervescent', 65779: 'self', 68925: 'homer_simpson:', 69050: 'i', 68958: 'got', 66756: 'problems', 69066: 'moe', 65312: 'give', 69027: 'me', 68618: 'another', 68343: 'should', 62530: 'forget', 69081: 'barney_gumble:', 68493: 'only', 151: 'enhance', 23362: 'social', 154: 'skills', 68892: 'ah', 67473: \"isn't\", 69007: 'that', 66294: 'nice', 69039: 'now', 69095: 'a', 171: 'politician', 68434: 'who', 60265: 'cares', 68370: 'if', 68444: 'ever', 43207: 'vote', 68371: \"it'll\", 68856: 'be', 69026: 'for', 64857: 'him', 25141: 'belch', 50597: \"how's\", 199: \"neighbor's\", 65289: 'store', 68116: 'doing', 66996: 'lousy', 67566: 'he', 69025: 'just', 67557: 'sits', 69077: 'all', 68025: 'day', 68052: \"he'd\", 67653: 'have', 64103: 'great', 66132: 'job', 64396: \"didn't\", 67837: 'own', 68759: 'place', 64359: 'chuckles', 55789: 'struggling', 68603: 'corkscrew', 66405: 'crummy', 237: 'right-handed', 238: 'corkscrews', 69091: '||exclamation_mark||', 69084: 'what', 68918: 'does', 55588: 'sell', 66826: 'uh', 69082: 'well', 64582: 'actually', 257: 'homer_', 259: \"cont'd:\", 53757: 'dunno', 64573: 'looks', 69006: 'like', 68919: 'this', 59255: 'end', 68752: \"that's\", 69090: 'right', 53239: \"couldn't\", 283: 'led', 285: 'richer', 65671: 'life', 68737: 'so', 68967: 'next', 69075: 'time', 65919: 'somebody', 25893: 'tells', 297: 'county', 33606: 'folk', 69016: 'are', 68401: 'good', 68273: 'honest', 68013: 'people', 69002: 'can', 42973: 'spit', 68939: 'in', 66297: 'their', 310: 'faces', 62334: 'lisa_simpson:', 68410: 'will', 62995: 'mr', 24551: 'gumbel', 68648: 'but', 66018: \"you'll\", 59267: 'excuse', 330: 'profiling', 65814: 'dad', 48521: 'school', 336: 'paper', 65645: 'thought', 68854: 'it', 67689: 'would', 53507: 'neat', 46285: 'follow', 65963: 'around', 68992: 'see', 54617: 'makes', 12961: 'tick', 68848: 'oh', 59363: 'sweet', 64005: 'used', 65001: 'lot', 67471: 'bars', 68451: 'too', 68554: 'here', 67783: 'go', 68620: 'beer', 62944: 'chocolate', 62943: 'milk', 420: \"depressin'\", 26133: 'effects', 57477: 'alcohol', 67120: 'usually', 69070: \"don't\", 41043: 'kick', 37103: \"'til\", 54664: 'closing', 66034: \"he's\", 66323: 'nervous', 34337: 'proudly', 47816: 'speech', 52006: 'tomorrow', 67618: '||quotation_mark||', 68773: 'how', 68631: 'keep', 62926: 'cool', 458: 'crisis', 63868: 'sobs', 68435: 'am', 69085: 'do', 68264: 'had', 67307: 'once', 68788: 'was', 66008: 'pretty', 27060: 'trick', 503: 'pictured', 62022: 'everyone', 507: 'underwear', 50268: 'judge', 513: 'jury', 516: 'lawyer', 68561: 'everybody', 65294: 'did', 68653: 'work', 63543: 'free', 69005: 'man', 68041: \"ain't\", 62727: 'whoa', 66508: 'huh', 545: 'pretzel', 67700: 'wow', 19034: 'pulled', 559: 'patrons:', 64745: 'mumbling', 46807: 'unison', 68885: 'happy', 20677: 'thoughts', 68985: 'we', 68698: 'love', 66290: 'boy', 67423: 'loud', 66342: 'stupid', 58928: 'moron', 68932: 'ugly', 61762: 'face', 68903: 'big', 60839: 'butt', 60690: 'smells', 47957: 'kiss', 59773: 'new', 65343: 'laughing', 68572: 'wait', 68817: 'minute', 62907: 'hurry', 68896: \"i've\", 67906: 'five', 68474: 'minutes', 66560: 'till', 62358: 'music', 57793: 'closes', 67968: 'why', 63162: 'first', 68427: 'tell', 68850: 'sorry', 69087: 'know', 61036: 'tip', 60635: 'glass', 68673: \"won't\", 68139: 'much', 718: 'foam', 59786: 'top', 66837: 'looking', 69023: 'at', 59427: 'watch', 51658: 'finished', 68473: 'fifteen', 29296: 'seconds', 742: 'spare', 943: 'little_man:', 51798: 'concerned', 60609: 'buddy', 55732: 'door', 62341: 'closed', 55158: 'early', 767: 'stiffening', 67577: 'happen', 783: 'trenchant', 67860: 'mouth', 68689: 'please', 68263: \"you've\", 59506: 'open', 68819: 'let', 68870: 'think', 68182: 'about', 68499: 'no', 68466: 'okay', 68325: 'want', 66997: 'picture', 61251: 'girl', 832: 'disappointing', 59617: 'goes', 65298: 'through', 67836: 'his', 66063: 'wallet', 68834: 'come', 856: 'jer', 68879: 'up', 67028: 'pal', 61165: 'remember', 68956: 'when', 68421: 'wife', 68959: 'out', 40424: 'burning', 64730: 'car', 882: 'grudgingly', 67531: \"we're\", 68068: 'even', 61446: 'daughter', 68396: 'need', 2170: 'smoothly', 52804: 'wrote', 68633: 'down', 64815: 'number', 67893: 'four', 50368: 'half', 68525: '||dash||', 42350: 'gum', 937: 'reed', 939: 'whoo', 63257: 'hoo', 56725: 'uh-huh', 948: 'instrument', 69061: 'she', 65564: 'play', 956: 'sunk', 967: 'patrons', 969: 'figure', 38088: 'hiya', 67675: 'sighs', 61896: 'business', 63699: 'slow', 66717: 'today', 1001: 'healthier', 64601: 'drinking', 62276: 'less', 60438: \"wasn't\", 57341: 'junior', 56856: 'high', 58939: 'use', 37122: 'cigarette', 39551: 'machine', 67861: 'full', 65593: 'things', 68394: 'tough', 68133: 'over', 1044: 'increased', 22729: 'satisfaction', 66729: 'family', 1049: 'togetherness', 1051: 'poison', 1054: 'purveyor', 1056: 'mind-numbing', 1057: 'intoxicants', 69099: 'myself', 66092: 'could', 69041: 'get', 68283: 'sure', 64819: 'forgot', 66918: 'behind', 10950: 'payments', 29540: 'distributor', 57743: 'cut', 68478: 'off', 17186: 'spent', 68260: 'ten', 60175: 'grand', 63805: 'tester', 62719: 'late', 69073: 'barney', 58769: 'sucked', 35545: 'dry', 47128: 'gums', 68858: 'bad', 67338: 'take', 58215: 'easy', 63129: 'learned', 68372: 'make', 68994: 'other', 65961: 'drinks', 50126: \"bartender's\", 1165: 'unfamiliar', 60744: 'gin', 1172: 'tonic', 68040: 'they', 1176: 'mix', 21036: 'brightening', 66384: 'really', 57806: 'hits', 54928: 'spot', 61464: 'invented', 1963: 'harv', 49923: 'sounds', 67819: 'hell', 68508: 'call', 2096: 'flaming', 66919: 'us', 67136: 'couple', 31326: 'homers', 63651: 'any', 40265: 'cough', 1986: 'syrup', 64614: 'lost', 60919: 'found', 1284: 'bowie', 32336: 'knife', 63046: 'troll', 3331: 'doll', 49625: 'eye', 68865: \"it's\", 57657: 'without', 56424: 'its', 14458: 'charm', 66913: 'try', 50373: 'lighting', 57878: 'fire', 40018: 'smiling', 67540: \"there's\", 63613: 'party', 49799: \"everyone's\", 65495: 'invited', 68057: 'larry:', 14752: \"tester's\", 33374: 'busted', 1352: 'nickel', 1356: 'coughs', 47130: 'house', 30431: 'delicious', 1383: 'phlegm', 61218: 'feels', 1385: 'looser', 67654: 'called', 52900: \"lookin'\", 1471: 'sneeze', 1472: 'guard', 65370: 'works', 1886: 'harv:', 1485: 'chuckling', 66454: \"haven't\", 1501: 'crowded', 65821: 'since', 67497: 'government', 1505: 'cracked', 1510: 'accepting', 60210: 'food', 1512: 'stamps', 66386: 'something', 67690: 'say', 60388: 'probably', 1535: 'combination', 1540: 'patron_#1:', 69097: 'pitcher', 67554: 'those', 53212: 'amazing', 1556: 'patron_#2:', 62208: 'hate', 64888: 'joint', 1735: 'collette:', 2816: 'barkeep', 66693: 'help', 28896: 'noticing', 62436: 'sign', 63310: 'says', 61516: 'bartenders', 40736: 'barf', 68094: 'above', 1603: 'store-bought', 1604: 'drollery', 67108: 'fill', 1617: 'application', 60594: 'reading', 1643: 'measurements', 65085: 'turn', 1630: 'ons', 64370: 'expect', 69003: 'find', 66419: 'way', 68442: 'more', 53297: 'accurate', 65337: 'fun', 60499: 'disgusted', 65360: 'offer', 1678: 'salary', 16170: 'minimum', 1683: 'wage', 43359: 'tips', 1688: 'meaningfully', 60496: 'course', 1694: 'fringe', 11001: 'benefits', 65791: 'such', 67686: 'as', 1705: 'unforgettable', 1706: 'weekend', 63683: 'club', 25958: 'prefer', 1718: 'vacations', 1719: 'someplace', 60258: 'hot', 1727: 'moxie', 65875: 'kid', 42278: 'hired', 1745: \"shan't\", 38408: 'regret', 1743: 'methinks', 35250: 'pardon', 18048: 'genius', 69031: 'yes', 56617: 'cutting', 1793: 'bannister', 65538: 'tipsy', 1800: \"mcstagger's\", 63136: 'eating', 1806: 'emporium', 1831: 'mcstagger', 1836: 'composite', 53993: 'successful', 1840: 'logos', 68198: 'from', 1856: 'mozzarella', 45039: 'stick', 63456: 'quickly', 63889: 'fine', 57324: 'anyway', 1876: 'proposition', 63090: \"talkin'\", 67152: 'feel', 64917: 'perfect', 66909: 'our', 45926: 'restaurant', 1899: 'chain', 67332: 'buy', 1906: 'recipe', 1911: 'dice', 41922: 'sale', 66888: 'blood', 1932: 'sweat', 39429: 'idiot', 69019: 'away', 64518: 'million', 57269: 'dollar', 60887: 'idea', 65529: 'secret', 48085: 'ingredient', 1972: 'dies', 1977: 'delivery_man:', 35013: 'thirty', 1983: 'cases', 43133: 'covering', 2000: 'hooked', 68306: 'stuff', 68962: 'service', 61256: 'quietly', 66672: 'hi', 68978: \"where's\", 2019: 'waitress', 14044: 'yours', 65452: 'left', 2030: 'pursue', 51974: 'movie', 17287: 'career', 51324: 'frankly', 68009: 'better', 2052: 'hundreds', 2054: 'thousands', 52473: 'dollars', 68308: 'maybe', 69042: 'some', 64136: 'kept', 67994: 'guess', 46535: 'compliments', 52594: 'warmly', 68399: 'ahh', 69035: 'thanks', 39276: 'greatest', 64268: 'friend', 64488: 'guy', 53222: 'aerosmith', 67156: 'tonight', 57788: 'doubt', 46804: 'shocked', 2148: 'cuz', 66763: 'bottle', 24179: 'refund', 68564: 'wanna', 63622: 'duff', 68109: \"i'd\", 39414: 'henry', 65744: 'k', 2182: \"duff's\", 64437: 'private', 18626: 'reserve', 2190: 'information', 68799: 'made', 40383: 'twenty-five', 55550: 'playing', 24593: 'market', 66086: 'low', 2211: 'motto', 59251: 'may', 61203: 'quit', 57195: 'power', 67605: 'plant', 67722: 'become', 2226: 'full-time', 35018: 'stock', 66252: 'boys', 2414: 'hans:', 40115: 'german', 62772: 'accent', 43757: 'friendly', 64596: 'thank', 64915: 'english', 55681: 'swill', 68248: 'saying', 2284: 'swine', 2408: 'fritz:', 68840: 'guys', 68014: \"aren't\", 17226: 'ech', 52289: 'nein', 2326: 'germany', 2332: 'east', 2338: 'west', 39096: 'company', 61699: 'very', 39698: 'interested', 43763: 'buying', 37238: 'owner', 34842: 'confident', 68443: 'than', 2889: '100', 60174: 'hundred', 69071: 'worry', 59536: \"we'll\", 68382: 'still', 68989: 'enough', 2428: 'cleveland', 2429: 'browns', 66785: 'speaking', 65742: 'mrs', 2504: \"o'problem\", 58966: 'bee', 68543: 'calling', 65123: \"c'mon\", 58886: 'realizing', 10115: 'awwww', 66938: 'head', 11522: 'bucket', 41975: 'paint', 54500: 'brains', 64221: 'voice', 55071: 'bart', 59181: 'simpson', 68969: 'years', 61515: 'pop', 68742: 'hear', 2618: 'monkeyshines', 51156: 'conspiratorial', 57329: 'bet', 2630: 'kinds', 68873: 'trouble', 66416: \"can't\", 2653: 'resist', 27879: 'crank', 66823: 'calls', 2669: 'musses', 68871: \"bart's\", 65685: 'hair', 64932: 'laughs', 62629: 'sing', 68402: 'old', 58968: 'song', 59241: 'embarrassed', 64754: 'anything', 63835: 'singing', 68480: 'every', 2760: 'teddy', 27520: 'bear', 65210: \"who's\", 68256: 'been', 46140: 'treat', 2726: 'today/', 23649: 'lots', 2730: 'marvelous', 65074: 'eat', 65604: 'wonderful', 40503: 'games', 2739: 'play/', 52982: 'beneath', 2742: 'trees', 66409: 'nobody', 2746: 'sees/', 56687: \"they'll\", 61344: 'hide', 37674: 'seek', 65938: 'long', 2755: 'please/', 55778: \"today's\", 7056: 'bears', 2764: 'picnic', 2770: 'pip', 62963: 'c', 40024: '_montgomery_burns:', 2783: 'mirthless', 62574: 'laugh', 2787: 'damned', 59008: 'nose', 65451: 'smithers', 67393: 'going', 47623: 'blend', 41301: 'cheap', 68491: 'domestic', 16510: 'greedy', 2841: 'reptile', 2852: 'saucy', 61488: 'fellow', 65422: 'waylon_smithers:', 52193: 'sir', 2868: 'sector', 2863: 'sieben-gruben', 68142: 'mean', 2869: '7g', 28083: 'recently', 2872: 'terminated', 49613: 'pointed', 67811: 'ask', 68183: 'money', 62006: 'cheer', 60292: 'feeling', 42919: 'blue', 2926: 'example', 47267: 'hug', 68726: 'home', 68070: 'night', 2978: 'shaken', 65400: \"doesn't\", 2988: 'sing-song', 54596: 'loves', 3883: 'yea', 3028: 'heavens', 68031: \"they're\", 68196: 'afraid', 68337: 'anymore', 53743: 'burns', 47800: 'letter', 59197: 'sent', 13341: 'recall', 66993: 'because', 3075: 'stamp', 3087: 'slays', 60922: 'accident', 69040: \"let's\", 3136: 'na', 62633: '/', 67915: 'barflies:', 36577: 'goodbye', 58036: 'inspire', 3158: 'terror', 3165: 'determined', 4707: 'peanut', 21163: 'bowl', 3187: 'freshened', 3188: 'hourly', 68158: 'twenty', 21240: 'denver', 28410: 'slyly', 3212: 'provide', 62470: 'um', 64716: 'chief', 49194: 'wiggum', 67799: 'hand', 47090: 'black', 63670: 'book', 64733: 'chief_wiggum:', 68119: 'thing', 50971: 'using', 65378: 'coaster', 49806: 'ones', 21739: 'pleasure', 3275: 'coyly', 3277: 'h', 65578: 's', 67958: 'tv', 3292: 'justify', 4032: 'football_announcer:', 15319: 'thirteen', 3309: 'england', 67919: 'seven', 56062: 'nothing', 69093: 'look', 3324: 'modest', 9443: 'studio', 3727: 'apartment', 3329: 'malibu', 3330: 'stacey', 3336: 'kitchen', 3342: 'prints', 68938: 'her', 60006: 'weekly', 3345: 'feminist', 3346: 'newsletter', 3352: 'daaaaad', 52684: 'listening', 3363: 'grumbling', 3373: 'usual', 3381: 'wad', 3383: 'bills', 38113: 'sarcastic', 67089: 'ya', 64622: 'lucky', 3408: 'thirty-five', 3414: 'sagely', 57098: 'smell', 3424: 'sweaty', 68380: 'feet', 29007: 'sniffs', 58058: 'deeply', 29413: 'victory', 67520: 'aw', 68374: 'shut', 3460: 'son-of-a', 56545: 'bowling', 23210: 'sunday', 63794: 'nuts', 67489: 'super', 67385: 'after', 3501: \"ma's\", 66505: 'coming', 3505: 'norway', 53824: 'belches', 3529: 'brunch', 3530: 'spectacular', 3536: 'baloney', 56738: 'bread', 3546: 'gotcha', 11619: 'forty', 66250: 'bucks', 55468: 'luck', 3556: 'eminence', 67141: 'outta', 3579: 'bookie', 58443: 'taking', 49566: 'bets', 50435: \"'bout\", 3627: \"bettin'\", 43852: 'gimme', 30906: 'gift', 3652: 'football', 63813: 'ruined', 3777: 'bret:', 67885: 'two', 59208: 'hours', 3667: 'forty-five', 3671: 'pre-game', 64353: 'show', 68131: \"we've\", 67321: 'ourselves', 55352: 'special', 52355: 'guest', 3681: 'actor', 10646: 'troy', 3683: 'mcclure', 47341: 'whose', 3687: 'sitcom', 3689: 'premiering', 3692: 'coincidentally', 65555: 'game', 3752: 'troy_mcclure:', 3763: 'bret', 3708: \"show's\", 3719: 'handle', 65401: 'care', 44671: 'jack', 3730: 'retired', 57554: 'cop', 35015: 'shares', 3731: 'criminal', 20325: 'original', 47549: 'odd', 67176: 'situation', 16936: 'comedy', 3756: 'fell', 3761: 'script', 3767: 'recent', 3771: 'irs', 3772: 'sealed', 61676: 'deal', 3781: \"drexel's\", 67998: 'class', 63619: 'ooh', 57819: 'almost', 52022: 'ready', 3793: 'kickoff', 4047: 'dallas', 3798: 'kicks', 49838: 'short', 3822: \"buffalo's\", 68377: 'start', 48837: 'excellent', 61905: 'field', 3818: 'position', 60022: 'win', 61301: 'lisa', 42371: 'hates', 40477: 'whatcha', 4665: 'riding', 18808: 'whistles', 3854: 'gambler', 3861: 'score', 9812: 'buffalo', 3867: 'fourteen:', 3887: 'duff_announcer:', 4033: 'touchdown', 3892: 'half-back', 56552: 'dan', 3894: 'beer-dorf', 60165: 'won', 65310: 'wanted', 4049: 'wins', 49721: 'aggravated', 66657: 'both', 26846: 'teams', 4048: 'cowboys', 68265: 'three', 3982: 'ticks', 62695: 'clock', 65828: 'comes', 3999: 'scores', 4003: \"fans'll\", 4005: 'looting', 59383: 'turning', 42088: 'cars', 4012: 'lone', 55826: 'star', 58719: 'state', 66451: \"here's\", 4019: 'handoff', 14118: 'fork', 67379: 'done', 4052: 'twenty-nine', 68755: 'eight', 60397: 'keeping', 66553: 'problem', 59206: 'maggie', 4138: 'scratching', 32127: \"maggie's\", 4140: 'chin', 45584: 'uncle', 12947: 'handing', 38358: 'careful', 64687: 'someone', 4178: 'stinky', 4181: 'sniffing', 61756: 'shirt', 4197: \"england's\", 30824: 'prime', 13869: 'minister', 68319: 'lord', 4267: 'palmerston', 4222: 'wade_boggs:', 9601: 'pit', 4257: 'elder', 34802: 'jumps', 67874: 'stool', 35724: 'poking', 62798: 'asked', 4240: 'boggs', 4245: 'scornfully', 51860: \"showin'\", 53547: 'amazed', 52106: 'pfft', 60168: 'lottery', 4297: 'exploiter', 62776: 'poor', 4302: 'ignorant', 64239: 'heard', 4312: \"jackpot's\", 4325: 'spitting', 55074: 'sadistic_barfly:', 4339: 'boozehound', 34848: 'cents', 4352: \"singin'\", 4379: 'gals', 4384: 'young_barfly:', 64670: 'rummy', 47076: 'offended', 68646: 'before', 66343: 'dog', 45286: 'sick', 64123: 'best', 68487: 'customer', 39425: 'dance', 68805: 'by', 59491: 'light', 4425: 'moonnnnnnnn', 4438: 'quarter', 63810: 'moan', 60470: 'went', 68826: 'bar', 38473: 'wha', 4499: 'fudd', 64552: 'took', 4512: 'hillbillies', 4514: 'blind', 23319: 'miles', 67401: 'town', 68608: 'sadly', 4682: \"smokin'_joe_frazier:\", 67137: 'pickled', 67138: 'eggs', 61817: \"comin'\", 64583: 'cleaned', 4555: \"smokin'\", 58158: 'joe', 4563: 'cummerbund', 4565: 'tight', 40999: 'miss', 52026: 'couch', 47068: 'heavyweight', 20647: 'championship', 63074: 'kind', 62936: 'walking', 64129: 'along', 63841: 'piece', 4641: 'furniture', 4654: 'frazier', 35590: 'step', 53767: 'outside', 9042: 'finishing', 58159: 'walk', 4713: 'washer', 4725: 'dryer', 4747: 'religious', 38907: 'holiday', 62763: 'feast', 4765: 'maximum', 4766: 'occupancy', 4771: 'slick', 63126: 'join', 58431: 'religion', 4794: 'kneeling', 68021: 'born', 4814: 'snake-handler', 68412: 'die', 48182: 'felt', 4826: 'unattractive', 23184: 'mmmm', 51439: 'second', 65441: 'sigh', 4923: 'tv_father:', 68993: 'each', 61884: 'toss', 4883: 'whee', 4887: 'wheeeee', 60803: 'camera', 53721: 'father', 69010: 'thinks', 4907: 'cutest', 5004: 'jack_larson:', 14451: 'prove', 67445: 'president', 4939: 'laramie', 35246: 'cigarettes', 4932: 'larson', 66194: 'year', 4941: 'sponsoring', 67621: 'springfield', 5070: 'pageant', 4952: 'regulations', 4980: 'prohibit', 4956: 'advertising', 46546: 'takes', 4967: 'smokes', 4974: 'carolina', 35261: 'smoke', 65679: 'holding', 63585: 'beauty', 56968: 'girls', 63864: 'age', 67927: 'nine', 44845: \"lisa's\", 5009: 'crowned', 5015: 'host', 5018: 'maitre', 5019: \"d'\", 5021: 'glee', 16904: 'krusty', 21605: 'clown', 54408: 'krusty_the_clown:', 5030: 'heartily', 30222: 'endorse', 5033: 'event', 68791: 'or', 59676: 'product', 5038: 'tv_daughter:', 5048: 'smoker', 8591: 'puff', 67432: 'morning', 66720: 'announcer:', 5088: '250', 5076: 'enter', 5092: 'blimp', 63334: 'ticket', 64559: 'gasps', 28069: \"where'd\", 5115: 'scientists', 47677: 'stopped', 26058: 'testing', 50247: 'animals', 60867: 'clean', 5178: '_powers:', 62115: 'lying', 5172: \"bo's\", 5173: 'cavern', 61487: 'welcome', 5191: 'mobile', 63221: 'knew', 33331: 'ruin', 68540: 'sec', 7676: 'amanda', 7677: 'huggenkiss', 47342: 'standards', 57647: 'o', 50642: 'b', 20438: 'shove', 16080: 'sausage', 53702: 'throat', 5271: 'starving', 5272: 'dogs', 52293: 'ah-ha', 42616: 'mistake', 51228: 'slip', 63223: 'sooner', 61116: 'later', 5304: 'rusty', 5306: 'dull', 23289: 'steal', 67310: 'while', 64562: 'gone', 36039: 'shaking', 55728: 'pathetic', 65676: 'drunk', 60216: 'gasp', 5342: 'spilled', 5346: 'ashtray', 5349: 'slurps', 68955: 'then', 62664: 'uh-oh', 69064: 'heart', 69012: 'beat', 5411: 'ivana', 9562: 'tinkle', 66915: 'put', 58250: 'glasses', 5415: 'captain:', 5420: 'har', 58457: 'plow', 5454: 'freed', 5455: 'iranian', 5456: 'hostages', 5720: 'teenage_barney:', 5465: \"sat's\", 67652: \"shouldn't\", 65047: 'real', 53516: 'hero', 68051: 'wish', 5502: 'wishing', 68597: 'pull', 5514: 'diaper', 63847: 'damn', 60295: 'world', 58314: \"he'll\", 47852: 'linda', 5567: 'ronstadt', 50080: \"how'd\", 24441: 'project', 68267: 'together', 5592: 'linda_ronstadt:', 58456: 'snow', 57951: 'starts', 11105: \"fallin'\", 45705: \"callin'\", 5616: 'kl5-4796', 43918: 'ring', 66651: '||semicolon||', 5622: '/mr', 67569: 'loser', 5635: 'boozer', 62757: 'king', 5673: 'intelligent', 5675: 'lachrymose', 5678: 'dyspeptic', 5680: 'ebullient', 66074: 'checks', 63150: 'answer', 5698: 'harvard', 5745: 'silent', 64643: 'prayer', 67910: 'six', 5796: 'admirer', 55039: 'gives', 19412: 'wave', 6465: 'yoo', 66377: 'god', 5823: 'snide', 66296: 'enjoy', 63118: 'fellas', 63605: 'cheery', 62809: \"homer's\", 59393: 'desperate', 5888: 'moesy', 55359: 'yesterday', 5900: 'worthless', 47998: 'sack', 47300: 'pipe', 5911: 'rub-a-dub', 40223: 'ow', 65097: 'fridge', 68900: 'date', 27904: 'pointing', 67469: 'close', 68990: 'never', 67199: 'leave', 5980: 'anthony_kiedis:', 68643: 'told', 61623: 'agent', 65639: 'holds', 5988: 'thirty-thousand', 60179: 'thousand', 6011: 'audience', 49355: \"gettin'\", 6014: 'restless', 6025: 'chilly', 6026: 'willy', 63606: 'red', 6034: 'chili', 6035: 'peppers', 29827: 'appear', 6047: 'klown', 6051: 'flea:', 14600: 'aside', 6064: 'gig', 6069: 'problemo', 63457: 'points', 58757: \"nothin'\", 65627: 'stop', 57672: 'soon', 63854: 'cost', 60215: 'excited', 6144: \"wallet's\", 56224: 'wall', 6168: 'stares', 6171: 'miss_lois_pennycandy:', 6174: 'ruby-studded', 51037: 'ordered', 6188: 'johnny_carson:', 69000: 'hope', 24333: 'remembered', 58625: 'save', 63483: 'dressed', 66725: 'dr', 21801: '_julius_hibbert:', 57904: 'times', 28816: 'snap', 6255: 'undies', 68995: 'again', 67641: 'kids', 68416: 'alright', 66161: 'getting', 6287: '50%', 53863: 't-shirt', 6291: 'sales', 65146: 'mad', 6303: 'sweetest', 6986: 'plum', 66117: 'deserve', 6337: 'entertainer', 67302: 'except', 52336: 'grampa_simpson:', 39033: 'bus', 54826: 'civic', 67724: 'center', 54253: 'seymour_skinner:', 64715: 'apu_nahasapeemapetilon:', 48389: 'all:', 62508: 'ma', 62198: 'baby', 66548: 'honey', 6419: 'ragtime', 21749: 'gal', 32828: 'send', 54394: 'wire', 39482: 'etc', 63300: 'afternoon', 68851: 'principal', 68979: 'skinner', 34522: 'apu', 6459: 'crowds', 6461: 'wild', 62754: 'sings', 6483: 'farewell', 6492: 'shop', 64702: 'kwik-e-mart', 6513: 'coney', 6509: 'isle', 46165: 'island', 68462: 'babe', 6856: 'nigel_bakerbutcher:', 6523: 'theatrical', 58183: 'represent', 59753: 'group', 6552: 'distaste', 49325: 'police', 6558: 'officer', 65425: 'noise', 38316: 'village', 6571: 'replace', 25813: 'sly', 68591: 'hands', 68565: 'seymour', 6598: 'nahasapeemapetilon', 6603: 'fit', 6606: 'marquee', 6608: 'luv', 6618: 'du', 6619: 'beaumarchais', 6627: 'dishonor', 6630: 'ancestors', 6644: 'applicant', 6682: 'tenor:', 6660: 'killarney', 59639: 'many', 59209: 'ago', 6687: 'mither', 6688: 'sang', 6695: 'tones', 6697: 'soft', 57462: 'crowd:', 63098: 'chanting', 65395: 'forever', 6734: 'swe-ee-ee-ee-eet', 6759: 'adeleine', 6750: 'my-y-y-y-y-y', 20392: 'paid', 53606: 'scream', 66137: 'pay', 6816: 'hanh', 52759: 'ad', 37896: 'lib', 6833: 'sounded', 53579: 'question', 8891: 'remains', 66472: 'gentlemen', 49757: 'handsome', 62175: 'plus', 55105: 'witty', 50553: 'seems', 64908: 'funny', 6927: 'sharps', 66227: 'chuckle', 66391: 'blame', 52484: 'trying', 44588: 'under', 35058: 'arrest', 35221: \"what'll\", 6981: 'kako:', 52777: 'single', 6987: 'floating', 6989: 'perfume', 42979: 'served', 6994: \"man's\", 6995: 'hat', 68080: 'knock', 17928: 'cops', 61885: \"'em\", 7063: 'andalay', 68649: 'sometimes', 68897: 'gotta', 64811: 'knows', 37842: 'darts', 7106: 'phasing', 34051: \"havin'\", 46287: 'advice', 61115: 'named', 7892: 'pause', 53375: 'joey', 7159: 'schabadoo', 49303: 'worst', 7196: 'attracted', 63860: 'woman', 7211: 'reciting', 7215: 'infatuation', 21336: 'based', 7220: 'physical', 7221: 'attraction', 66417: 'talk', 46470: 'realize', 7235: 'common', 24577: 'insightful', 7264: 'napkins', 7276: 'vigilante', 7277: 'handshake', 37055: 'code', 61610: 'names', 7312: 'cueball', 7295: 'eightball', 7302: 'twelveball', 7519: '_babcock:', 21262: 'clinton', 64119: 'figured', 67234: 'anyone', 51078: 'tang', 9014: \"it'd\", 64244: 'person', 10768: 'nasa', 57820: 'swear', 7501: 'stillwater:', 57194: 'higher', 58463: 'astronaut', 7426: 'aboard', 36593: 'respect', 66674: 'friends', 7453: 'nooo', 13207: 'fbi', 7480: 'file', 7485: 'fiiiiile', 20558: 'shrugging', 66430: 'them', 7508: 'necessary', 7514: 'astronauts', 7535: 'introduce', 53080: 'ned', 53327: 'flanders', 7560: 'evils', 18078: 'rap', 54787: 'ned_flanders:', 49170: 'hospital', 46833: 'reads', 68266: 'children', 7591: 'unfair', 8273: 'advantage', 39061: 'generous', 68447: 'marge_simpson:', 57859: 'hit', 64814: 'pin', 57607: 'rest', 7623: 'wobble', 57127: 'lemme', 67054: 'al', 7640: 'caholic', 66857: 'jacques', 66858: 'strap', 7651: 'pee', 7652: 'freely', 68566: 'butts', 68844: 'sexual', 7673: 'crotch', 62246: 'huge', 64944: 'ass', 7685: 'ivanna', 7731: 'fondest', 7732: 'desire', 54696: 'hm', 7752: 'invisible', 58698: 'cola', 50563: 'forbidden', 7759: 'donut', 7763: 'sacrilicious', 7768: 'indecipherable', 7774: 'goo', 54662: 'moments', 67362: 'romantic', 67563: 'story', 7823: 'ideal', 7839: 'thoughtless', 50059: 'birthday', 30869: 'present', 43971: 'shall', 7846: 'remain', 7847: 'nameless', 61048: 'alley', 7860: 'spite', 7870: 'clips', 7882: 'awfully', 8152: 'jacques:', 28973: 'entirely', 52818: 'fault', 18932: 'ball', 7917: 'flustered', 7931: \"ball's\", 68509: 'marge', 60927: 'fingers', 7943: 'slender', 7946: 'feminine', 64073: 'far', 7952: 'tapered', 7963: 'lighter', 7966: 'delicate', 8005: 'brunswick', 42993: 'hmmm', 12969: 'bold', 8043: 'bowled', 64879: 'teach', 56888: 'professional', 18266: 'roll', 49839: 'form', 60193: 'throw', 65736: 'teacher', 64147: 'lenny_leonard:', 8174: 'shifty', 8175: 'eyed', 59331: 'change', 65839: 'lenny', 58207: 'snake', 62139: 'cash', 62140: 'register', 40775: 'prank', 52144: 'flower', 8246: 'genuinely', 8247: 'enthused', 8258: 'patting', 8260: 'flames', 8263: \"burnin'\", 8277: 'soaked', 47572: 'clothes', 62089: 'serious', 58128: 'coffee', 64034: 'pass', 8339: 'sugar', 64361: 'himself', 63373: 'geez', 59849: 'were', 8361: \"messin'\", 8379: 'banned', 39175: 'pleading', 66988: 'gave', 8429: 'sugar-me-do', 8434: 'caricature', 8437: 'mt', 8439: 'lushmore', 27684: 'pulling', 38150: 'favorite', 8452: 'juke', 62357: 'box', 8462: 'raining', 51513: 'men', 8478: 'oww', 59841: 'label', 61294: 'suddenly', 68915: 'intrigued', 18538: 'ohh', 8496: 'jokes', 59000: 'alive', 50640: 'man:', 45781: 'polite', 13290: 'greetings', 67192: 'might', 46236: 'innocent', 8551: 'incognito', 8558: 'gr-aargh', 8568: 'exact', 66710: 'double', 8574: 'equal', 8575: 'astonishment', 8581: 'puffy', 57894: 'tail', 64405: 'giggles', 38540: 'liver', 64655: 'puzzled', 63054: 'hurts', 10949: 'loan', 8655: 'however', 67382: 'leans', 8660: 'confidentially', 8666: 'collateral', 57398: 'break', 65186: 'legs', 54258: 'advance', 60157: 'gosh', 38491: 'bash', 8715: 'shark', 50922: 'understand', 8721: 'finance', 66077: 'pulls', 8730: 'sledge-hammer', 61037: 'line', 8747: 'othello', 8751: 'drinker', 8756: 'sensible', 38708: 'fool', 8766: 'presently', 8768: 'beast', 26150: 'covers', 39363: 'woman:', 63574: 'brilliant', 8782: 'savagely', 8785: 'tender', 66380: 'soul', 40732: 'poet', 67314: 'crawl', 29821: 'alcoholic', 8849: 'scout', 55113: 'meeting', 66572: 'admit', 61121: 'kent_brockman:', 50838: 'following', 16330: 'celebrities', 8881: 'arrested:', 8888: 'heather', 8889: 'locklear', 8890: 'fortensky', 62491: 'large', 58352: 'consider', 50636: 'dangerous', 9040: 'hugh:', 56509: 'rather', 61543: 'pub', 47275: 'pouring', 59085: 'saved', 52327: 'war', 62238: 'true', 8964: 'hugh', 8979: 'cuff', 8980: 'links', 46552: 'wear', 59896: 'married', 66488: 'brought', 24742: 'imagine', 51848: 'happier', 43907: 'marriage', 9008: 'traditions', 53031: 'moved', 34518: 'honored', 9045: 'enthusiasm', 9075: 'virtual', 60320: 'pool', 9079: 'other_player:', 9089: \"fightin'\", 58224: 'loaded', 32132: 'fumes', 61612: 'charge', 9131: 'dizzy', 9133: 'nauseous', 9220: 'inflated', 41770: 'sense', 9223: 'self-esteem', 9171: 'male_inspector:', 9159: 'female_inspector:', 26288: 'detecting', 68148: 'different', 9165: 'toxins', 61465: 'air', 9183: 'pumping', 50646: 'oil', 9199: 'steely-eyed', 64427: 'rage', 9215: 'ahhhh', 9240: 'rascals', 64343: 'which', 9275: 'smelly', 9278: 'shtick', 9338: 'exhaust', 9288: 'faceful', 9290: 'soot', 62401: 'heh', 65082: 'kinda', 65787: 'hard', 51103: 'reasons', 40858: 'writers', 9333: 'william', 9334: 'faulkner', 59297: 'write', 40779: 'gag', 64721: 'shot', 68884: 'making', 59423: 'movies', 9381: 'aggie', 27341: 'stole', 66165: 'bit', 9415: 'director:', 9419: 'stagehand:', 60646: 'killed', 9436: 'alfalfa', 9434: 'luckily', 9439: 'orphan', 9440: 'owned', 22558: 'murmur', 50934: 'understanding', 9450: 'assent', 9466: 'wealthy', 63355: 'hollywood', 58142: 'local', 9474: 'merchants', 9477: 'forgiven', 24198: 'raising', 9481: 'prices', 9490: 'flailing', 9492: 'agh', 50372: 'natural', 30403: 'stools', 43342: 'table', 9555: 'little_hibbert_girl:', 45457: 'daddy', 9568: 'mmm-hmm', 38630: 'texas', 9578: 'cheesecake', 9579: 'depository', 67154: \"goin'\", 9653: 'restaurants', 54090: 'wants', 58909: 'hang', 51208: 'dank', 64061: 'carl_carlson:', 68253: 'thinking', 39621: 'rid', 53892: \"wouldn't\", 30722: 'ashamed', 60675: 'bring', 9712: 'all-american', 9713: 'cooking', 9719: 'chairman', 61655: 'magic', 9722: 'wok', 9783: 'barney-shaped_form:', 67365: 'nah', 9745: 'relaxing', 9754: 'madman', 61028: 'pressure', 9757: 'cooker', 60926: 'snaps', 53307: 'inspired', 9780: 'feedbag', 58984: 'deep', 9795: \"fryer's\", 9806: 'navy', 9810: 'flash-fry', 9823: 'whining', 9833: \"g'on\", 9860: 'extinguishers', 12137: 'memories', 50559: 'bright', 68215: 'side', 9891: 'cheering', 69062: 'broke', 61838: 'customers', 68230: 'blew', 9972: \"aren'tcha\", 9980: '50-60', 10001: 'mistakes', 54053: 'beginning', 43098: 'pad', 67359: 'gee', 27304: 'stinks', 65834: 'carl', 49162: 'ahhh', 63828: \"they've\", 24455: 'rolling', 68425: 'eyes', 10065: 'mistresses', 53198: 'sotto', 59432: 'dump', 55936: 'mayor_joe_quimby:', 10096: 'quimby_#2:', 10111: 'quimbys:', 67276: 'disappointed', 50264: 'wondering', 61269: 'ringing', 10166: 'bell', 10172: 'ye', 10220: 'jebediah', 47339: 'cutie', 65261: 'cute', 40288: 'bums', 48777: 'ahead', 29106: 'angel', 45410: 'evil', 10301: 'blood-thirsty', 10302: 'pirate', 54199: 'hated', 23110: '&', 30707: 'horrified', 57983: 'turns', 58016: \"y'know\", 10255: 'support', 65318: 'most', 10258: 'prejudice', 10265: 'hero-phobia', 10266: 'sickens', 21640: 'exit', 57422: 'breath', 10310: 'jubilation', 10311: 'committee', 28473: 'jubilant', 10368: 'waylon', 10375: 'vicious', 68155: 'pants', 65010: 'crap', 67668: 'tongue', 43056: 'boat', 54027: 'window', 25577: 'midnight', 10605: 'delivery', 10469: 'distract', 67407: 'until', 10473: 'safely', 25463: 'truck', 40651: 'forward', 65983: 'working', 66392: 'yourself', 10523: 'choices:', 10533: 'barney-guarding', 10542: 'contemplated', 17392: 'darkest', 54083: 'whatever', 10603: 'truck_driver:', 10639: 'dracula', 10661: 'marry', 68920: 'selma', 10704: 'jovial', 68437: 'kidding', 61687: 'compliment', 66298: 'beers', 10734: 'sickly', 68950: 'burp', 10745: 'ura', 10746: 'snotball', 65973: 'barn', 66364: 'said', 51048: 'calculate', 63307: 'tab', 57465: 'dead', 30229: 'results', 62288: 'came', 40259: 'owe', 10815: '70', 10849: 'billion', 10839: 'voyager', 29944: 'space', 10841: 'craft', 10847: \"tab's\", 10848: '14', 10856: 'alls', 44436: 'considering', 10872: 'halfway', 53592: 'snake_jailbird:', 34963: 'freeze', 67696: 'dude', 48219: 'move', 10889: 'muscle', 46380: 'blow', 10894: \"wino's\", 10901: 'muffled', 10906: 'inches', 10908: 'bullet-proof', 11075: 'reasonable', 67033: 'stay', 10948: 'student', 53542: 'ha-ha', 59163: \"stinkin'\", 67751: 'wonder', 10990: 'aggravazes', 10995: 'immiggants', 35268: \"livin'\", 11011: 'bothered', 66750: 'learn', 37669: 'themselves', 11016: 'language', 59966: 'exactly', 11026: 'sentimonies', 11041: \"jimbo's_dad:\", 51839: \"tellin'\", 34850: 'raise', 11054: \"dolph's_dad:\", 65698: 'live', 11067: 'throws', 46987: 'punch', 15544: 'oof', 11177: 'belt', 11091: 'ugh', 11094: \"kearney's_dad:\", 11097: \"somethin's\", 60700: 'wrong', 11110: \"fun's\", 11128: 'two-drink', 64958: 'jeez', 68804: 'stand', 11147: 'punishment', 11155: 'three-man', 11156: \"poundin'\", 67371: 'fall', 24307: 'glum', 11176: \"kid's\", 11192: 'beatings', 11205: 'spirit', 11211: 'prizefighters', 66486: 'boxing', 11241: 'perking', 11262: 'boxers', 16983: 'steak', 11268: 'lobster', 54143: 'salad', 12683: 'meal', 22815: 'awe', 11285: 'dressing', 68801: 'choice', 42543: 'test', 11319: 'limits', 59144: 'opportunity', 11340: 'arise', 11351: 'clincher', 11363: 'sixty', 44079: 'percent', 63256: 'woo', 12031: 'manage', 11399: 'wantcha', 55413: 'complete', 11403: 'faith', 65516: \"c'mere\", 58510: \"somethin'\", 16020: 'realized', 43522: \"hadn't\", 68069: 'ladies', 11444: '1979', 55377: 'turned', 11451: 'office', 12099: 'boxer', 63744: 'yep', 11586: 'gorgeous', 11484: 'presentable', 11490: 'gruesome', 65470: 'finally', 23480: \"meanin'\", 66068: 'empty', 11913: 'lucius', 67629: 'biggest', 68012: 'rich', 34074: 'famous', 42628: 'don', 50721: 'manager', 51975: 'somehow', 67201: \"'cause\", 36855: 'knocked', 40521: 'row', 11635: 'politics', 44708: 'bitter', 21871: 'agreement', 11647: 'democrats', 61421: \"you'd\", 11662: 'causes', 50095: 'brain', 11664: 'damage', 11720: 'fighting', 11675: 'boxcar', 32348: 'bob', 11680: 'brawled', 11686: 'boxcars', 63657: 'yet', 66910: 'lives', 59771: 'train', 61904: 'yard', 49259: 'hungry', 57359: 'young', 11713: 'fighter', 37993: 'fact', 64013: 'sandwich', 11736: 'mitts', 65493: 'touched', 11771: 'barbed', 11785: 'stinger', 11824: 'drawn', 67822: 'match', 29344: 'punches', 11848: \"tramp's\", 40419: 'energy', 12275: 'hobo', 11862: 'stops', 11863: 'punching', 11867: \"'cept\", 11872: 'bindle', 55001: 'tired', 11886: \"now's\", 69022: 'chance', 11893: 'nudge', 12162: 'lucius:', 11902: 'delightful', 14504: 'awed', 11919: 'glitterati', 61044: \"doin'\", 11941: 'managing', 47069: 'champ', 47109: 'drederick', 11946: 'highest', 11947: 'priority', 66243: 'though', 11953: 'temporarily', 11954: 'incarcerated', 11956: 'pushing', 68218: 'mother', 11961: 'stairs', 11966: 'impending', 42786: 'release', 11971: 'strategizing', 11974: 'glorious', 49144: 'return', 11978: 'shores', 11980: 'fistiana', 11994: 'comeback', 68746: 'fight', 12015: \"donatin'\", 51705: 'body', 67719: 'word', 12033: 'stalwart', 12035: 'pugilist', 30851: 'cannot', 41270: 'incredulous', 47071: 'tatum', 66159: 'fans', 31115: 'weary', 12065: 'fights', 12086: 'sustain', 12087: 'verticality', 12164: 'rounds', 35397: 'freak', 12108: \"tatum'll\", 12109: 'fustigate', 12116: 'fustigation', 12124: 'choice:', 68789: 'either', 56688: 'sit', 68546: 'room', 12136: 'faded', 55130: 'dramatic', 12193: 'tar-paper', 12198: 'naively', 12219: 'champion', 63529: 'saturday', 62538: 'parking', 48653: 'impressed', 47219: 'general', 12280: 'evasive', 68035: 'trust', 63562: \"buyin'\", 57270: 'bill', 12359: 'charged', 12368: 'landfill', 42731: 'remembering', 36873: 'fondly', 17676: 'worth', 12390: 'burg', 57321: 'against', 12398: 'pussycat', 12406: 'doll-baby', 52699: 'kirk_van_houten:', 63621: 'lady', 12439: 'starla', 12442: 'starla:', 64026: 'keys', 15961: 'lover', 66041: 'changing', 12458: 'wigs', 12466: \"starla's\", 12468: 'temp', 12470: 'k-zug', 12472: \"'kay-zugg'\", 36567: 'radio', 12475: '530', 68255: \"she's\", 12482: 'launch', 12497: 'demo', 35145: 'tape', 12519: 'borrow', 60561: 'front', 65344: 'already', 67513: 'happened', 21821: 'granted', 23318: 'twelve', 51480: 'helped', 12585: 'housework', 44164: \"could've\", 66427: 'least', 58475: 'stayed', 59921: 'shape', 45879: 'taken', 61627: 'sex', 12654: 'self-centered', 12673: 'though:', 12689: 'thawing', 57061: 'gas', 12696: 'station', 12697: 'sink', 12749: 'broken:', 52539: 'strong', 56448: 'built', 64143: 'solid', 12757: 'foundation', 27945: 'routine', 12792: 'mate', 37457: 'chum', 12813: 'helpful', 12817: 'crony', 37461: 'acquaintance', 12826: 'sam:', 12829: 'sympathizer', 12832: 'bumblebee_man:', 12833: 'compadre', 12836: 'kearney_zzyzwicz:', 12837: 'associate', 12843: 'contemporary', 12849: 'well-wisher', 12858: 'specific', 12859: 'harm', 12875: 'friday', 12901: 'dã¼ff', 12904: 'doof', 12907: 'sweden', 12915: 'skoal', 60806: 'sips', 12931: 'nasty', 68513: 'ha', 65721: 'hmm', 12971: 'refreshing', 54525: 'quite', 65641: 'finger', 52402: 'm', 65241: 'spend', 16879: 'quality', 13019: 'breathalyzer', 63210: 'drive', 13194: 'fox_mulder:', 13049: 'recreate', 64686: 'saw', 13058: 'alien', 67363: 'evening', 45677: 'began', 53816: \"gentleman's\", 56526: 'discussing', 13076: 'wittgenstein', 13081: 'backgammon', 13084: 'dana_scully:', 13091: 'felony', 48024: 'lie', 65930: 'sitting', 67290: \"barney's\", 13110: 'packets', 13112: 'mustard', 13198: 'scully', 13126: \"fine-lookin'\", 13149: 'remorseful', 38631: 'penny', 13191: 'anyhow', 13195: 'agents', 13196: 'mulder', 13205: 'edgy', 13213: \"s'cuse\", 13221: 'dimly', 13243: 'generously', 64866: \"money's\", 13280: 'raking', 51275: 'fat_tony:', 45672: 'clears', 68905: 'fat', 40261: 'tony', 26837: 'mafia', 13318: 'nervously', 58537: 'asking', 63429: 'favor', 54440: 'crime', 13362: 'syndicate', 66468: 'hurt', 40312: 'mob', 31694: 'indignant', 67715: 'hanging', 13463: 'ambrose', 13464: 'burnside', 65970: 'crazy', 13475: 'stonewall', 13476: 'jackson', 55244: 'south', 27806: 'entire', 13516: 'steel', 13499: 'mill', 47887: 'gay', 53112: 'surprised', 13517: \"industry's\", 13524: 'aerospace', 13530: 'railroads', 61020: 'else', 67479: 'nods', 13540: 'knowingly', 63345: 'broadway', 65588: 'always', 13548: 'hoped', 13549: \"bart'd\", 65406: 'grow', 13568: 'mystery', 69096: 'whole', 57703: 'modern', 13575: \"swishifyin'\", 13576: 'effect', 13583: \"mtv's\", 30843: 'diet', 13716: 'sodas', 62693: 'set', 68422: 'straight', 13967: 'neither', 61825: 'fast', 13633: 'lessee', 13651: \"shootin'\", 13653: \"man'd\", 45294: 'fix', 13667: 'wars', 13674: 'warren', 50254: 'christopher', 47336: 'shoot', 18732: 'deer', 38284: 'shooting', 65684: 'beautiful', 49942: 'bags', 13733: 'grandkids', 13740: 'considers', 22542: 'hunting', 40244: 'whiny', 13757: 'st', 64739: \"patrick's\", 68756: \"o'clock\", 65894: \"we'd\", 35277: 'kicked', 13819: 'metal', 13835: 'busiest', 63904: \"drinkin'\", 32887: 'designated', 59705: 'drivers', 13858: 'cheapskates', 13871: 'ireland', 13889: 'menacing', 13893: 'yew', 13902: 'bathtub', 13903: 'mint', 13904: 'julep', 53966: 'writing', 65445: 'believe', 30322: 'enemy', 65319: 'beloved', 65749: 'weird', 34867: 'accept', 36664: 'written', 49645: 'enemies', 61100: 'list', 14016: 'jane', 14017: 'fonda', 14019: 'daniel', 14020: 'schorr', 14023: 'anderson', 14031: 'richard', 14032: \"nixon's\", 60785: 'crossed', 20309: 'morose', 45790: 'invite', 67386: 'dinner', 14096: 'expecting', 32567: 'bam', 14137: 'chauffeur', 14142: 'lift', 52255: 'drug', 67841: 'yelling', 14187: \"washin'\", 14197: 'desperately', 44143: 'lonely', 14206: 'belly-aching', 14218: 'wh', 14234: 'abe', 14241: 'dea-d-d-dead', 14245: 'stooges', 40375: 'scared', 64961: 'sound', 45383: 'upbeat', 14314: 'love-matic', 52309: 'grampa', 60658: 'singers:', 30149: 'peppy', 14283: 'shopping', 14286: 'cans', 24694: 'passed', 14487: 'floated', 28461: 'toward', 63681: 'heaven', 14319: 'wise', 14320: 'socratic', 14325: 'swelling', 14327: 'mushy', 14333: 'hearts', 14366: 'pinball', 66288: 'quiet', 14389: 'western', 14399: 'dishrag', 14411: 'crab', 14416: 'talkers', 54138: 'defensive', 48938: 'sweeter', 14431: 'jewish', 56581: 'wine', 50405: 'walks', 14473: 'catch-phrase', 14477: 'grrrreetings', 67688: 'son', 14515: 'darn', 14516: \"tootin'\", 14520: 'fink', 67683: 'buried', 54341: 'naked', 56085: 'sold', 59680: 'suit', 14533: 'ping-pong', 19961: 'dismissive', 19824: 'snort', 62778: 'karaoke', 14566: 'plug', 14741: 'betty:', 14590: \"usin'\", 14592: \"phone's\", 14594: 'four-drink', 68793: 'mechanical', 14624: 'test-', 14627: 'test-lady', 14631: \"g'ahead\", 14644: 'clammy', 21815: 'suppose', 14672: 'lovelorn', 14674: 'you-need-man', 14676: 'moe-near-now', 14678: 'go-near-', 49952: 'confused', 56574: 'explaining', 57676: 'near', 14705: 'endorsement', 61399: 'sometime', 44247: 'fancy', 64312: 'french', 59867: 'sexy', 54829: 'having', 14763: 'breakfast', 15772: 'expert', 48066: 'dang', 67835: 'kissing', 53926: 'during', 19292: 'spread', 61800: 'germs', 14827: 'rush', 67425: 'clear', 67601: 'started', 14857: \"'evening\", 14863: \"'morning\", 14868: 'chauffeur:', 14896: '91', 68486: 'per', 34870: 'cent', 60381: 'traffic', 14902: 'accidents', 33543: 'caused', 61089: 'news', 14935: 'choose', 59161: 'same', 41360: 'pope', 67793: 'reach', 47330: 'draw', 67183: 'egg', 14955: 'whoever', 59173: 'gets', 14960: 'stays', 36264: 'sober', 14966: 'noooooooooo', 36277: 'peter', 14987: 'pantsless', 40150: 'pained', 65037: 'longer', 56964: 'duffman:', 15041: 'duffed', 54856: 'duffman', 61551: 'costume', 15056: 'creates', 15057: 'awareness', 34610: 'labels', 15087: 'bottomless', 53138: 'mug', 54368: 'extra', 55027: 'cold', 38015: 'card', 15108: 'cheerleaders:', 48706: 'cheers', 15111: 'and:', 35844: 'chug', 52527: 'straining', 32888: 'driver', 15137: 'perfunctory', 15139: 'brusque', 15141: 'ehhh', 15146: 'swell', 15149: 'wholeheartedly', 15150: 'supports', 44562: 'program', 15187: 'shaky', 66970: 'months', 56755: 'giving', 15201: 'lecture', 15203: 'villanova', 15213: 'streetcorner', 15219: 'anger', 15236: 'ought', 15266: 'parasol', 26665: 'conditioner', 15290: 'congratulations', 68061: 'chick', 67158: 'jar', 15331: 'cockroach', 15336: 'displeased', 33800: 'sweetheart', 37054: 'health', 36724: 'inspector', 15350: 'man_at_bar:', 58249: 'margarita', 15379: \"scammin'\", 30477: 'planning', 55230: 'vacation', 15414: 'easter', 15425: 'giant', 51425: 'heads', 64749: 'terrible', 15452: 'rumor', 41646: 'threw', 59820: 'recommend', 49595: 'severe', 15500: 'depression', 64711: 'booze', 15518: 'depressant', 52839: 'chase', 62983: 'blues', 34550: 'manjula', 15564: 'sight-unseen', 22965: \"countin'\", 15584: 'twenty-four', 35778: 'freedom', 66975: 'checking', 15598: 'chipper', 19392: 'showing', 67694: 'sad', 15641: 'dirge-like', 15648: 'blooded', 23086: 'fever', 51927: 'spending', 15680: 'bachelorhood', 15718: 'jasper_beardly:', 23006: 'reaching', 54430: 'switch', 38578: 'bubbles', 15741: 'hot-rod', 15743: 'souped', 31736: 'ways', 15756: 'gear-head', 63200: 'casual', 15781: 'six-barrel', 15782: 'hollye', 15783: 'carb', 15788: 'betcha', 15792: 'edelbrock', 15793: 'intakes', 15804: 'meyerhof', 15805: 'lifters', 15827: 'dignity', 49928: 'rough', 65948: 'christmas', 15854: 'breakdown', 15857: 'society', 60697: 'pissed', 15920: 'dateline:', 45402: 'kent', 57316: 'brockman', 66684: 'scene', 15932: 'burglary', 15936: 'creature', 62735: 'stirring', 35283: 'husband', 30672: \"ma'am\", 58420: 'church', 15982: 'intoxicated', 68660: 'smile', 15995: 'marjorie', 63704: 'threatening', 56517: 'absolutely', 16051: 'devastated', 68672: 'words', 16058: 'heart-broken', 16073: 'sweater', 16079: 'cajun', 16090: 'sneering', 30428: 'turkey', 16109: 'choke', 19032: 'scam', 20853: 'jesus', 68855: 'must', 65003: 'spinning', 16387: 'grave', 49627: 'illegal', 16156: 'enthusiastically', 61854: 'pats', 16176: 'stomach', 66093: 'cover', 66168: 'folks', 16211: 'bushes', 16215: 'tapping', 27226: 'mic', 16243: 'further', 16255: 'zinged', 68383: 'angry', 16274: 'spews', 65864: 'truth', 16278: 'orifice', 16292: 'indifference', 50566: \"watchin'\", 16314: 'clapping', 52875: \"seein'\", 16331: \"hawkin'\", 64167: 'products', 16337: 'vincent', 50370: 'price', 16339: \"floatin'\", 37130: 'toilet', 62968: 'cake', 16350: 'horrors', 16354: 'unfresh', 16372: 'winston', 16424: 'churchill', 37628: 'der', 16378: 'wienerschnitzel', 16385: 'madison', 16386: 'avenue', 16388: 'robbers', 16402: 'various', 63112: 'crowd', 16423: 'impeach', 16434: 'crooks', 54569: \"makin'\", 48135: 'agnes_skinner:', 16491: 'allowance', 57467: 'burn', 16512: 'cats', 48286: 'purse', 16532: '$42', 67115: 'everything', 68731: 'run', 16542: 'bury', 66353: 'mom', 65793: 'screw', 16599: 'businessman_#1:', 16593: 'businessman_#2:', 17810: 'firmly', 16610: 'boston', 64712: 'bag', 57855: 'case', 33118: \"drivin'\", 16660: 'suits', 61716: 'sports', 17093: 'utility', 16674: 'vehicle', 16678: 'oooo', 16704: 'ignoring', 16820: 'creeps', 16738: 'followed', 16742: 'begging', 16963: 'roomy', 17166: 'canyonero', 16765: 'combines', 65514: 'smooth', 16768: 'handling', 68708: 'european', 16776: 'rugged', 16777: 'driveability', 16780: 'sturdy', 16781: '4x4', 61706: 'noises', 54618: 'talking', 16839: \"ya'\", 16845: 'cadillac', 16847: 'automobiles', 67852: 'boo', 31733: 'plenty', 16871: 'beefs', 16873: 'fat-free', 46639: 'yogurt', 16878: 'th-th-th-the', 64848: 'computer', 41297: 'porn', 16885: 'groan', 16888: 'jay:', 16892: 'shoulda', 16913: 'shill', 16919: 'indifferent', 18862: 'thoughtfully', 33704: 'selling', 56977: 'ride', 17161: 'hank_williams_jr', 54557: ':', 68937: 'wheel', 51031: 'seats', 16986: '35', 62927: 'whip', 17115: 'crack', 17010: 'hammer', 17015: 'country-fried', 17017: 'endorsed', 17033: 'federal', 17042: 'highway', 34968: 'commission', 17037: 'ruled', 17040: 'unsafe', 67516: 'city', 62376: 'driving', 17048: 'chorus:', 67355: 'yards', 17063: 'lanes', 62988: 'wide', 17067: 'sixty-five', 17068: 'tons', 56441: 'american', 55062: 'pride', 17097: 'unexplained', 17098: 'fires', 17104: 'courts', 17122: 'blinds', 40416: 'beam', 17133: 'squirrel', 17134: 'squashing', 17137: \"smackin'\", 17151: 'canyoner-oooo', 17155: 'hyahh', 62301: 'toasting', 17183: 'blissful', 17187: 'hiding', 17215: 'rash', 17246: 'whatchacallit', 34615: 'mail', 39611: 'order', 38756: 'bride', 17268: 'homesick', 17274: 'diving', 17276: 'tourist', 17277: 'pennies', 17280: 'micronesian', 17281: 'swamp', 17305: 'mirror', 17316: 'puke-pail', 37688: 'fabulous', 17354: \"fendin'\", 17357: 'starlets', 17360: 'pointy', 55530: 'due', 17372: 'ugliness', 17410: 'dozen', 37207: 'roses', 18386: 'renee', 65384: 'treasure', 17443: 'ram', 17499: 'players', 17505: 'maxed', 67336: 'flowers', 17524: 'tenuous', 53903: 'girlfriend', 17560: 'pinchpenny', 17578: 'besides', 17614: 'tabs', 41520: 'bunch', 17621: 'ungrateful', 17622: 'ingrates', 35157: 'distraught', 17641: \"renee's\", 20207: 'kidney', 17687: 'insured', 17710: 'wreck', 17731: 'awkwardly', 49540: 'dropped', 18388: 'dearest', 25933: 'warily', 17801: 'insist', 42332: 'plan', 43022: 'placing', 17830: 'model', 17832: 'represents', 17840: 'olive', 17869: \"car's\", 17882: 'toy', 17914: 'waterfront', 63586: 'part', 49790: \"town's\", 17946: \"department's\", 17947: 'moonlight', 34608: 'charity', 17949: 'cruise', 17980: 'righ', 17998: 'alibi', 49481: 'park', 31094: 'railroad', 18011: 'tracks', 18016: '10:15', 18025: 'wham', 18028: 'insurance', 63322: 'pays', 18034: 'clams', 18054: 'troubles', 33758: 'coward', 18359: 'renee:', 62219: 'i-i', 57661: 'law', 18117: 'betrayed', 48880: 'wasting', 18138: 'low-life', 18156: 'y-you', 18183: 'hmf', 67551: 'being', 18189: 'locked', 33558: 'medicine', 59723: 'sudden', 50861: 'unless', 18220: 'clearing', 68927: 'hopeful', 18244: 'graveyard', 18371: 'corpses', 64419: 'stunned', 18268: 'we-we-we', 63637: 'pour', 18284: 'brandy', 18327: 'fwooof', 18335: 'hawaii', 18408: 'yelp', 60626: 'pain', 18425: 'murderously', 18444: 'oh-ho', 40435: 'attack', 28604: 'yell', 33496: 'sleep', 64769: 'also', 18499: \"g'night\", 18501: 'mommy', 68716: 'screams', 55557: \"world's\", 67075: 'rat', 68113: 'forgive', 18551: 'sincerely', 18557: 'tearfully', 65673: 'watching', 54242: 'aww', 66948: 'sobbing', 35106: 'puts', 63181: 'arm', 18604: 'beady', 18610: \"homer'll\", 35171: 'joined', 18625: 'naval', 42739: 'seeing', 18686: 'joining', 26993: 'although', 18695: 'strictly', 18696: 'forbids', 43173: 'military', 48557: 'hunter', 18740: 'hah', 32952: 'reminds', 18760: 'thorn', 54339: \"pope's\", 18768: 'grants', 18792: 'wondered', 18838: 'ironed', 18810: \"that'd\", 18834: 'heatherton', 18846: 'tempting', 18869: 'agent_miller:', 18874: 'flashing', 18875: 'badge', 18877: 'united', 18878: 'states', 54687: 'panicky', 18893: 'wiping', 49664: 'blown', 18921: 'signal', 21304: 'involved', 18948: 'activity', 18950: 'cause', 19116: 'agent_johnson:', 64951: \"sayin'\", 18985: 'commit', 19004: 'crimes', 19008: 'fired', 52762: 'running', 19021: 'moonshine', 19025: 'basement', 19031: 'telemarketing', 19038: 'uhhhh', 61090: 'involving', 19061: 'george', 27610: 'bush', 19073: 'seething', 19082: 'charlie:', 19090: 'militia', 19099: 'sorts', 19102: 'officials', 66247: \"that'll\", 19108: 'drag', 19112: 'high-definition', 19121: 'conspiracy', 56801: 'charlie', 19134: 'musta', 19135: 'ratted', 43272: 'ridiculous', 19149: 'transmission', 52760: 'campaign', 19162: 'disaster', 68693: 'public', 19179: 'wishful', 45002: \"they'd\", 19184: 'elect', 19190: 'vengeful', 60422: 'worried', 59752: 'focus', 19242: 'slogan', 19244: 'appeals', 23581: 'lazy', 19249: 'slobs', 52379: 'message', 21276: 'raises', 65266: 'arms', 19304: 'triumphantly', 46630: 'stagy', 60150: 'knowing', 58320: 'seriously', 19358: 'u2:', 19360: 'sanitation', 47636: 'jolly', 19366: 'blokes', 19368: 'courteous', 19370: 'easygoing', 19373: 'the_edge:', 63467: 'mop', 19379: 'overflowing', 19384: 'bono:', 19390: 'arse', 63343: 'broad', 30096: 'stands', 23313: 'ocean', 19413: 'knocks', 19595: 'bathing', 19430: 'omit', 19432: 'detail', 65138: 'small', 59435: 'filthy', 19488: 'spellbinding', 43026: 'upon', 19499: 'thomas', 19645: 'edison', 19506: 'dictating', 19510: 'fluoroscope', 19513: 'repeating', 19514: 'telegraph', 49720: 'increasingly', 19522: 'breathless', 19531: 'firm', 19532: 'believer', 19534: 'fletcherism', 50906: 'played', 20240: 'organ', 19548: 'heliotrope', 37253: 'middle', 19557: 'alva', 19566: 'wore', 19567: 'pajamas', 68228: 'dame', 19635: 'rubs', 19636: 'temples', 45238: 'worked', 19650: 'menlo', 19660: 'tasimeter', 19663: 'ore', 19664: 'separator', 50953: 'james', 19674: 'watt', 19677: 'steam', 19678: 'engine', 53600: 'boring', 19710: 'unusually', 19711: 'focused', 19719: 'squeal', 55949: 'hole', 40256: 'jockey', 62556: 'totally', 19731: 'waste', 19738: \"somebody's\", 41006: 'grumpy', 19741: 'gus', 19747: 'yoink', 19754: 'peeved', 47679: 'crying', 32037: \"springfield's\", 19772: 'citizens', 19774: 'murdered', 65892: 'bartender', 50410: 'szyslak', 19783: 'watered', 19787: 'highball', 19921: 'bigger', 19823: 'derisive', 19838: 'grocery', 41874: 'cotton', 45455: 'balls', 19853: 'absorbent', 19861: 'youuu', 62152: 'round', 59811: 'corner', 19881: 'ointment', 19882: 'aisle', 51023: 'none', 58874: 'mister', 61034: 'channel', 45407: '6', 19927: 'coy', 62606: 'promised', 19983: 'kim_basinger:', 19992: 'alec_baldwin:', 20003: 'ron_howard:', 60742: 'vodka', 20048: 'gentleman:', 20014: 'statesmanlike', 40173: 'celebrity', 39601: 'summer', 56186: 'bubble', 67561: 'telling', 65572: 'brave', 20184: 'operation', 20125: 'doctor', 20194: 'procedure', 20141: 'polenta', 20193: 'deadly', 20152: 'life-threatening', 23879: 'surgery', 57758: 'survive', 64160: 'correcting', 65848: 'point', 66135: 'able', 53512: \"tryin'\", 68457: 'scare', 20241: 'donor', 20242: 'sucker', 20243: 'lists', 50100: 'eyeball', 20252: 'spine', 20255: 'vestigial', 20265: 'plaintive', 20292: 'buttocks', 62000: 'comfortable', 37518: 'lips', 60616: 'catching', 20342: 'harvesting', 20355: 'eyeing', 20375: 'hostile', 20386: \"'round\", 34247: 'mess', 32201: 'bathroom', 20410: 'y', 20418: 'dime', 42297: 'mayor', 20421: 'quimby', 20441: 'puke-holes', 20451: 'reserved', 20457: 'cronies', 20467: 'dã¼ffenbraus', 20482: 'semi-imported', 20485: 'guzzles', 20500: 'generosity', 20502: 'greatly', 20503: 'appreciated', 53372: 'especially', 36897: 'inspection', 40179: 'season', 20534: 'stagey', 63406: \"workin'\", 20547: 'roach', 24110: 'grunt', 20577: 'hubub', 26821: 'isotopes', 63823: 'losers', 20622: 'sniper', 66485: 'all-star', 20629: 'blessing', 20631: 'disguise', 20800: 'wooooo', 20900: \"'topes\", 20654: 'ruuuule', 20662: 'die-hard', 58042: 'fan', 55398: 'history', 20682: 'winded', 59453: 'excitement', 38660: 'team', 67067: 'grabbing', 20736: \"brockman's\", 20737: 'microphone', 20739: 'woooooo', 46932: 'inspiring', 47993: \"who'll\", 20759: 'root', 52050: 'lose', 20770: 'ga', 40634: \"game's\", 20889: 'dennis_conroy:', 66760: 'bottom', 20824: 'ninth', 20827: 'outs', 23009: 'pitch', 64320: 'spanish', 20848: 'j', 20850: \"'s\", 20852: 'jumping', 20881: 'technical', 33642: 'director', 20885: 'stan', 20886: 'kadlubowski', 20918: 'rumaki', 20962: 'sports_announcer:', 59347: 'road', 52673: 'pointless', 20951: 'injury', 20953: \"football's\", 21329: 'conference', 20968: 'champs', 20972: 'harrowing', 62783: 'bye', 64093: 'week', 20978: 'enjoys', 20983: 'scornful', 49183: 'weeks', 20988: 'bronco', 20989: 'nagurski', 21002: 'reconsidering', 21248: 'wally:', 21041: 'coupon', 62977: 'flips', 21060: 'travel', 21061: 'agency', 21068: 'charter', 21091: 'dreamily', 21127: 'coach:', 21108: 'quarterback', 68931: \"wife's\", 62591: 'leg', 21159: 'wally', 26779: \"team's\", 21178: 'it:', 21217: 'atlanta', 21218: 'falcons', 27929: 'lowers', 68986: 'loved', 21234: 'count', 21241: 'broncos', 46830: 'grabs', 21283: 'hillary', 21300: 'adventure', 42496: 'mmm', 56051: 'foil', 21323: 'assassination', 43537: 'peace', 56955: 'character', 53226: 'yup', 21354: 'scarf', 56817: 'beating', 21369: 'lance', 37447: 'partner', 21538: 'detective_homer_simpson:', 21409: 'supervising', 40045: 'guns', 34263: 'toys', 53594: 'exasperated', 21551: 'simp-sonnnn', 48944: \"guy's\", 65806: 'changed', 21472: 'bumbling', 21473: 'sidekick', 46913: 'acting', 21497: 'infiltrate', 57550: 'gang', 49837: 'international', 21502: 'idiots', 21514: 'destroyed', 21517: 'shipment', 21525: 'indeedy', 21535: 'insulin', 21540: 'haplessly', 21544: \"spaghetti-o's\", 67325: 'act', 21590: 'dum-dum', 21594: 'unintelligent', 21600: 'shutup', 21608: 'diminish', 21616: 'bid', 58912: 'choking', 21632: 'who-o-oa', 21653: 'encore', 21667: 'encores', 68886: 'hour', 51928: \"valentine's\", 21867: 'men:', 21900: 'amid', 53411: \"men's\", 21714: 'reactions', 53236: 'edna', 21728: 'clap', 21730: 'erasers', 21733: 'sideshow_mel:', 21735: 'barbara', 21744: 'arts', 21751: 'stalking', 21754: 'bumped', 21777: 'murmurs', 21766: 'sympathy', 36998: 'yourselves', 21803: 'guiltily', 21819: 'maude', 46908: 'easier', 21901: 'curious', 21921: 'shriners', 21924: 'old_jewish_man:', 21942: 'traitor', 28344: 'matter-of-fact', 21973: 'astrid', 21977: 'dealer', 21986: 'gunter', 53906: 'kyoto', 21991: 'cecil', 21992: 'hampstead-on-cecil-cecil', 22003: 'eurotrash', 22018: 'gunter:', 22027: 'adrift', 22049: 'sea', 22032: 'decadent', 22033: 'luxury', 22035: 'meaningless', 22051: 'located', 22054: 'cecil_terwilliger:', 22061: 'hotel', 22063: 'practice', 22065: 'affectations', 22069: 'bon', 22070: 'soir', 52301: 'fritz', 22075: 'feld', 22097: 'priceless', 22098: 'sketch', 22101: 'certificate', 22103: 'authenticity', 22111: 'sketching', 53446: 'drawing', 22135: 'twelve-step', 50230: 'hilarious', 22217: 'novelty', 22218: 'item', 22297: 'chosen', 25450: 'justice', 22302: 'squadron', 22304: '8', 22309: 'monday', 22312: 'municipal', 22313: 'fortress', 22315: 'vengeance', 54278: 'professor_jonathan_frink:', 22328: 'studied', 47817: 'patterns', 22337: 'fastest', 57419: 'yellow', 22351: 'lights', 51001: 'frink', 22422: 'hawking:', 22360: 'theory', 22363: 'donut-shaped', 22364: 'universe', 22366: 'intriguing', 42145: \"hangin'\", 61837: 'paying', 22417: 'computer_voice_2:', 22441: 'larry', 22442: 'flynt', 22448: 'stink', 64328: 'japanese', 22475: \"hell's\", 28180: 'putting', 33323: 'tentative', 55207: 'annoyed', 28170: 'searching', 35451: 'umm', 57746: 'tap', 22520: 'jazz', 22525: 'regretted', 63207: 'supposed', 22568: 'helpless', 22584: 'frescas', 22595: 'hushed', 34473: 'embarrassing', 56886: 'needs', 22625: \"bladder's\", 22633: 'urine', 31522: 'past', 22666: 'heavyset', 22713: 'insulted', 22702: 'tommy', 65171: 'tune', 37976: 'honor', 22728: 'demand', 22732: 'slaps', 22880: 'glove', 32913: 'challenge', 22749: 'duel', 22759: 'extreme', 46268: 'given', 22799: 'slapped', 22802: \"duelin'\", 32810: 'slap', 22841: 'shack', 22862: \"b-52's:\", 22878: 'sat-is-fac-tion', 22899: 'feat', 22905: 'forgotten', 22918: 'depressed', 58852: 'tears', 22949: 'shred', 22956: 'shreda', 25675: 'cocktail', 22996: 'radishes', 54660: 'counting', 23012: 'fevered', 23013: 'rivalry', 30759: 'between', 28111: 'u', 23023: 'spreads', 23025: 'wildfever', 23027: 'th', 23039: 'writer:', 23060: 'thesaurus', 23075: 'preparation', 67622: 'stadium', 61041: 'caught', 23085: 'additional-seating-capacity', 23116: 'ivy-covered', 39126: 'cow', 56195: 'college', 23145: 'founded', 23163: 'kegs', 57216: 'finest', 23167: 'imported-sounding', 23174: 'tuborg', 23186: 'danish', 23180: 'kings', 58949: 'p', 23208: 'accounta', 23240: 'sun', 52933: 'across', 23244: 'sky', 41805: 'joking', 23293: 'sail', 23297: 'waters', 23305: 'theme', 42266: 'laws', 60378: 'held', 23333: 'tyson/secretariat', 35308: 'knees', 69018: 'throwing', 23360: 'wildest', 45313: 'seas', 45780: \"bein'\", 55912: 'eyesore', 58115: 'plastic', 23415: 'calendars', 23436: 'liquor', 23449: 'license', 23442: 'examines', 23450: 'expired', 23452: '1973', 23463: 'rhode', 23468: 'signed', 23484: 'updated', 23499: 'poster', 23504: 'moe-lennium', 23511: 'sticker', 23522: 'viva', 57020: 'la', 55827: 'jeff', 23565: 'relative', 67646: 'dumb', 59939: 'bald', 68191: 'worse', 23626: 'stickers', 56512: 'ugliest', 23652: 'uglier', 42028: 'white', 57438: 'castle', 64003: 'ho', 23671: 'pigtown', 63043: 'gargoyle', 23697: 'cauliflower', 23698: 'ear', 23703: 'lizard', 23719: 'caveman', 43028: 'brow', 67490: 'fish', 23730: 'snout', 43482: 'pleasant', 23778: 'emphasis', 23790: 'maher', 46119: 'dynamite', 25354: 'mount', 23818: 'crapmore', 23825: 'kisser', 66078: 'inside', 34381: 'carlson', 23895: 'spotting', 23934: 'windowshade', 23950: 'grope', 23959: 'softer', 27486: 'harder', 58022: 'women', 68614: 'busy', 67452: 're:', 30487: 'nearly', 24023: 'complicated', 60916: 'seem', 24060: 'maintenance', 65471: 'wash', 63514: 'rub', 24071: \"neat's-foot\", 24095: 'hooters', 24119: 'wraps', 24138: 'crushed', 68477: 'third', 42144: 'beats', 24210: 'tax', 24211: 'hike', 24218: 'mabel', 37380: 'trusted', 24237: 'voted', 24239: 'chastity', 24240: 'bono', 24284: 'influence', 59113: 'jerk', 24313: 'glummy', 62445: 'sincere', 24379: 'shindig', 24387: 'videotaped', 24416: 'slot', 24421: 'package', 24430: 'tha', 24472: 'poem', 24468: 'occasion', 24480: 'older', 24484: 'flew', 26411: 'grunts', 24528: 'planet', 45925: 'chinese', 45849: 'uncomfortable', 24554: 'upsetting', 24564: 'stage', 28706: 'professor', 24572: 'talkative', 24574: 'coherent', 64762: 'upset', 24613: 'yourse', 63766: 'precious', 24634: 'soaking', 24636: 'shag', 26760: 'disgrace', 24687: 'disgracefully', 24703: 'presents', 67030: 'mine', 24722: 'without:', 24723: 'morning-after', 47806: 'stationery', 24839: 'helicopter', 36088: 'flying', 64877: 'lessons', 24744: 'boozebag', 24750: 'whirlybird', 24794: 'tanked-up', 47243: 'sweetly', 24784: 'b-day', 24786: 'punkin', 63863: 'certain', 24816: 'tanking', 31389: 'fly', 24912: \"handwriting's\", 24919: 'afloat', 36518: \"bar's\", 47975: 'queer', 35530: 'guide', 66652: 'calmly', 24973: 'santeria', 24995: 'breaks', 25022: 'straighten', 25031: 'finish', 49477: 'seat', 25084: 'suspiciously', 25109: 'world-class', 25120: 'alcoholism', 25123: 'raging', 25140: 'barney-type', 25184: 'bad-mouth', 34481: 'suck', 25249: 'catty', 25258: 'consulting', 25272: 'amends', 25275: 'disgraceful', 25276: 'behavior', 25302: 'barstools', 25323: 'befouled', 65162: 'broom', 25307: 'closet', 42460: 'explain', 25333: 'drop-off', 25345: 'bulletin', 25351: 'broken', 25357: 'trapping', 25359: 'youngsters', 55389: 'unfortunately', 25380: 'trucks', 25382: 'unavailable', 25386: 'blaze', 38287: 'film', 41612: 'burt', 41613: 'reynolds', 25442: 'fireball', 25444: 'mudflap', 25435: 'burt_reynolds:', 39771: 'jerry', 25447: 'feisty', 25448: 'supreme', 25449: 'court', 25455: 'birth', 25458: 'competing', 25461: 'cross-country', 25464: 'race', 60224: 'garbage', 25491: 'flown', 31448: 'solo', 25506: 'heroism', 25512: 'charges', 61869: 'lowering', 25518: 'binoculars', 39969: 'sinister', 25534: 'grieving', 65258: \"ridin'\", 25580: 'slab', 43523: 'died', 59949: 'dear', 25629: 'tear', 65656: \"dad's\", 25636: 'reluctantly', 25676: 'onions', 25657: 'clenched', 57417: 'teeth', 67421: 'read', 25669: 'resigned', 25700: 'according', 25722: 'uses', 25723: 'appearance-altering', 25724: 'cosmetics', 25732: 'warned', 25916: 'x', 60546: 'closer', 44307: 'talked', 25845: 'tall', 36683: 'frosty', 46520: 'whisper', 64837: 'lotta', 51989: 'secrets', 25961: 'clandestine', 25965: 'disturbing', 52149: 'voice:', 57235: 'happily', 25984: 'pulitzer', 58407: 'rev', 50144: '_timothy_lovejoy:', 26011: 'helen', 55184: 'bible', 67327: 'human', 26047: 'guinea', 67296: 'pig', 26064: 'medical', 26079: \"chewin'\", 26090: 'chew', 26093: 'telephone', 44301: 'shock', 29009: 'satisfied', 26121: 'experiments', 68968: 'few', 26142: 'ears', 26148: 'winces', 58962: 'chest', 26162: 'hmmmm', 26184: 'effigy', 26187: 'dawning', 26204: 'appalled', 26207: 'fire_inspector:', 26228: 'brainiac', 58445: 'jobs', 57968: 'mention', 67369: 'smart', 26290: 'distinct', 26291: 'strain', 26293: 'anti-intellectualism', 26305: 'einstein', 48030: 'whaddaya', 26316: 'appendectomy', 26318: 'lipo', 26328: 'sampler', 67761: 'popular', 26338: 'dramatically', 26346: 'crayon', 26357: 'art', 26358: 'carney', 26360: 'flourish', 64001: \"ol'\", 26364: 'crayola', 26365: 'oblongata', 26383: 'deeper', 26386: 'pusillanimous', 26387: 'pilsner-pusher', 26400: 'inanely', 26408: 'dee-fense', 26412: 'twice', 26433: 'extended', 26434: 'warranty', 26465: 'sacajawea', 26494: 'manatee', 53179: 'comic_book_guy:', 26547: 'cranberry', 61625: 'schnapps', 26567: 'aah', 26571: 'painted', 26577: 'choices', 26587: 'scanning', 66065: 'sees', 26594: \"soakin's\", 26604: 'nectar', 26607: 'nitwit', 26614: \"knockin'\", 26620: 'badmouths', 26628: \"o'\", 57022: 'comic', 26658: 'mindless', 26659: 'droning', 26662: 'befriend', 26673: \"raggin'\", 26676: 'conditioners', 26716: 'klingon', 26705: 'loneliness', 26715: 'guttural', 39750: 'directions', 58534: 'baseball', 47545: 'mm', 29970: 'bought', 26790: 'heartless', 34942: 'corporation', 26818: 'owns', 26845: 'family-owned', 59253: 'tried', 67124: 'quick', 27351: 'thumb', 26934: 'eye-gouger', 42498: 'pickle', 26938: 'brine', 39674: 'fresh', 26980: 'massive', 50848: 'loss', 26998: 'occasional', 27019: 'total', 27020: 'rip-off', 27027: 'smurfs', 27041: 'gangrene', 55442: 'wake', 27053: 'cup', 27057: \"coffee'll\", 27065: 'waking-up', 27069: 'instantly', 27078: \"nick's\", 37006: 'disapproving', 27093: 'rude', 57936: 'moans', 27102: 'hitchhike', 27143: 'emergency', 27153: 'dollface', 27284: 'informant', 56307: 'wearing', 27174: 'nash', 27175: 'bridges', 27201: 'goods', 27420: 'smugglers', 27257: 'voice_on_transmitter:', 52362: 'delighted', 27199: 'illegally', 27200: 'smuggled', 27239: '2nd_voice_on_transmitter:', 27249: '3rd_voice:', 27265: 'presses', 45845: 'button', 37413: 'answering', 27300: 'snitch', 30162: 'mcbain', 27371: \"father's\", 27408: 'lotsa', 27414: 'mission', 27419: 'fireworks', 27427: 'incriminating', 38669: 'taps', 27433: 'recorder', 27444: 'hootie', 27447: 'blowfish', 27454: 'cheaper', 27456: 'blank', 27473: 'wells', 27475: 'aer', 27476: 'lingus', 59702: 'jets', 27495: 'leprechaun', 27504: 'cursed', 58926: 'dying', 27605: \"heat's\", 27625: 'dejected', 27644: 'slugger', 27679: 'italian', 63463: 'shotgun', 68529: 'rob', 28864: 'eventually', 67567: 'became', 27730: 'morlocks', 56395: 'future', 45709: 'liar', 49638: \"weren't\", 27778: \"spyin'\", 50240: 'naturally', 27789: 'assumed', 27796: 'stupidest', 27808: 'valley', 27810: 'series', 53597: 'drunks', 27830: 'shaggy', 67753: 'stories', 27856: 'quitcher', 27857: 'bellyaching', 27915: 'dumb-asses', 38686: 'gun', 60666: 'serve', 27953: 'yak', 27985: \"d'ya\", 27991: 'shesh', 63063: \"kiddin'\", 28008: 'smiled', 28013: 'nailed', 58335: 'passion', 48520: 'bartending', 28063: 'jigger', 28104: 'painting', 28096: 'illustrates', 28110: 'swigmore', 28128: 'fills', 56787: 'expression', 58244: 'coat', 59380: 'trip', 28188: 'alma', 28189: 'mater', 28192: 'rekindle', 28234: 'urban', 28246: \"tinklin'\", 50272: 'contest', 52027: 'potato', 28269: 'chips', 28359: \"when's\", 65257: 'mind', 28454: 'natured', 65166: 'jukebox', 28466: 'splattered', 28505: 'fonzie', 28533: 'ayyy', 28517: 'hemorrhage-amundo', 28537: 'yello', 64433: 'speak', 28588: 'tabooger', 28587: 'ollie', 48745: 'ooo', 37990: 'deliberate', 28610: 'booger', 28635: 'dirty', 28636: 'teen', 28660: 'hardhat', 28669: 'wrecking', 28681: 'giggle', 28685: 'fainted', 28710: 'prettied', 28717: 'renew', 28719: 'zeal', 28750: 'twentieth', 34138: 'century', 28771: 'formico:', 28768: 'formico', 28760: 'dean', 28762: 'design', 48027: 'spoken', 28820: 'certified', 28821: 'contractors', 28833: 'pages', 63028: 'glad', 29025: 'thanksgiving', 62969: 'band', 28904: 'hippies', 28913: 'rem', 28915: 'apology', 28918: 'eco-fraud', 28923: 'reluctant', 28942: 'rainforest', 28945: 'peter_buck:', 29020: 'thankful', 28961: 'michael', 28967: 'supplying', 28979: 'tofu', 28978: 'mike_mills:', 28981: 'gluten', 28988: 'ate', 28994: 'michael_stipe:', 29014: 'curds', 29012: 'mmmmm', 29031: 'alternative', 29032: 'rockers', 29067: 'gabriel', 29089: 'mortal', 29090: 'equivalent', 51750: 'ambrosia', 29096: 'gabriel:', 29115: 'temper', 29138: 'deliberately', 29146: 'girl-bart', 29161: 'loathe', 29174: 'knives', 58338: 'terrific', 29196: \"lady's\", 43592: 'cookies', 29207: \"'n'\", 29208: 'creme', 29209: 'martini', 29212: 'amber_dempsey:', 56256: 'beach', 29239: 'annoying', 39120: 'admiring', 29261: 'night-crawlers', 29266: 'bragging', 29275: 'mole', 32383: 'anywhere', 29283: 'wowww', 29288: 'amber', 29293: 'proves', 29299: 'buffet', 29313: 'clothespins', 29317: 'attach', 58480: 'eighty-seven', 58907: 'neck', 40231: 'palm', 62759: 'looked', 29372: 'clothespins:', 29373: 'swallowed', 29375: 'inserted', 29383: 'clipped', 29392: 'sixteen', 29411: 'magnanimous', 61727: 'tom', 29443: \"clancy's\", 29445: 'op', 29471: 'lovers', 29490: 'newsweek', 29496: 'failure', 56344: 'actors', 29513: 'thrust', 29531: 'trivia', 29548: 'lifetime', 29549: 'supply', 29557: 'chug-monkeys', 29560: 'beverage', 59558: 'brewed', 57689: 'ancient', 29570: 'hops', 29572: 'grains', 57027: 'hop', 29581: 'grain', 41276: 'juice', 29624: \"time's\", 29635: 'reading:', 29648: 'woulda', 29724: 'arrange', 29727: 'escort', 29738: 'orgasmville', 46944: 'losing', 37970: 'lindsay_naegle:', 50834: 'agree', 29787: 'enlightened', 29793: 'television', 29794: 'producers', 29797: 'booking', 29800: 'mid-seventies', 29837: 'alky', 30174: 'grandiose', 29847: \"round's\", 29857: 'payday', 29882: 'rented', 43943: 'boyfriend', 29909: 'swings', 29913: \"battin'\", 29914: 'cage', 29917: 'perverted', 29926: 'winner', 29943: 'sprawl', 68305: 'bed', 29973: 'hockey-fight', 35064: 'artie', 49620: 'spy', 60763: 'horrible', 50819: 'superior', 30128: 'settled', 30137: \"what'd\", 30147: 'lookalike:', 30154: 'chuck', 30163: 'exited', 30169: 'trunk', 30194: 'rainier', 30195: 'wolfcastle', 46701: 'teenage', 30207: 'ohmygod', 30219: 'ab', 30220: 'roller', 66316: 'gotten', 30279: 'rainier_wolfcastle:', 30240: 'backward', 30261: 'leftover', 67088: 'kill', 42784: 'authorized', 30292: 'lookalike', 30300: 'lookalikes', 30309: 'macaulay', 30310: 'culkin', 30320: 'killing', 30327: 'alpha-crow', 46078: 'uneasy', 63928: \"i-i'm\", 30350: 'enveloped', 52558: 'buttons', 30385: 'crow', 30393: 'crowbar', 30421: 'sloppy', 30448: 'wacky', 30449: 'tobacky', 30459: 'spacey', 30468: 'intervention', 30482: 'poisoning', 30499: 'excuses', 30505: 'funeral', 30532: 'interrupting', 44996: 'impatient', 30545: 'forty-seven', 59640: 'bottles', 64207: 'terrified', 30602: 'here-here-here', 30615: 'pepper', 58227: 'salt', 30621: 'shaker', 30629: 'dash', 61959: 'homie', 67935: 'eleven', 30668: 'dinks', 30696: 'squishee', 30699: 'canoodling', 30701: 'junkyard', 30702: 'rabbits', 34990: 'scum', 30731: 'soothing', 30775: 'promise', 30788: 'tropical', 30809: 'windex', 30804: 'windelle', 64875: 'afford', 30819: 'muhammad', 30820: 'ali', 30830: 'anti-lock', 30831: 'brakes', 30840: 'johnny', 30841: 'mathis', 30842: 'versus', 30844: 'pepsi', 34541: 'anniversary', 30878: 'koi', 30879: 'pond', 30886: 'meditative', 30887: 'lily-pond', 30894: 'fry', 65559: 'feed', 30922: 'squirrels', 31080: 'drown', 30949: 'super-genius', 30959: 'certainly', 30961: 'lenford', 30967: 'celebration', 51286: 'surprise', 30976: 'pasta', 30981: 'mini-beret', 40484: 'wang', 39986: 'gold', 31005: \"this'll\", 31010: 'speed', 45429: 'dating', 31022: 'nos', 31034: 'killer', 39929: 'sat', 53709: 'drank', 40277: 'i-i-i', 31153: 'stab', 67128: 'peanuts', 57019: 'ã€', 31170: 'simon', 31173: 'up-bup-bup', 36127: 'starting', 62823: 'force', 31265: 'badges', 56109: 'admitting', 31309: \"pickin'\", 31315: 'homer_doubles:', 31320: 'len-ny', 31375: 'billy_the_kid:', 31352: 'pian-ee', 31347: 'piano', 31361: 'cell-ee', 31371: 'cattle', 31372: \"rustlin'\", 64700: \"robbin'\", 56356: 'banks', 31390: 'shoo', 31393: \"calf's\", 31399: 'sneak', 60737: 'grab', 33764: \"'im\", 56442: 'bank', 31422: 'snatch', 42044: 'dough', 31470: 'ghouls', 31482: 'grammy', 31483: 'judges', 31501: 'perfected', 31503: 'device', 31537: 'flayvin', 31550: 'space-time', 31551: 'continuum', 31557: \"wait'll\", 31561: 'wasted', 31569: 'plotz', 31584: 'absentminded', 31586: 'polishing', 31641: 'diapers', 65057: 'fair', 31725: 'yuh-huh', 31740: 'alter', 31742: 'consciousness', 31790: 'glitz', 31792: 'glamour', 55333: 'emotional', 41992: 'color', 60755: 'skin', 58604: 'cries', 38154: 'alphabet', 60584: 'backwards', 31874: 'beligerent', 57516: 'rats', 31939: 'liable', 31952: 'taunting', 53361: 'jerks', 31981: 'smug', 61274: 'louder', 32003: 'accelerating', 32009: 'snapping', 32017: 'cab_driver:', 32038: 'newest', 32039: 'supermodel', 32057: 'longest', 32098: 'fuss', 32114: 'spit-backs', 67009: 'staying', 32151: \"tonight's\", 32154: 'cock', 32173: 'scoffs', 32206: 'tokens', 32218: 'reality', 32237: 'gimmick', 32259: '1895', 32270: 'lincoln', 32276: 'kennedy', 32283: 'mckinley', 32322: 'simple', 32338: 'slit', 32342: 'quick-like', 32365: 'sideshow_bob:', 32372: 'haikus', 32374: 'skinheads', 37117: 'soap', 32382: 'concentrate', 65459: 'aging', 61685: 'whenever', 32456: 'detective', 32458: 'unbelievable', 32468: 'digging', 32479: 'intimacy', 32488: 'cobbling', 32489: 'shoes', 32500: 'schizophrenia', 32509: 'hiring', 32543: 'swan', 32563: 'delts', 32565: 'clench', 63104: 'proud', 32590: 'bulked', 32594: 'managed', 32598: 'femininity', 32603: 'fierce', 32629: 'glyco-load', 32644: 'denser', 32634: 'ripping', 32635: 'gel', 32642: 'frightened', 32654: 'sacrifice', 32656: 'period', 38210: 'awkward', 32683: 'delicately', 58548: 'death', 32706: 'yammering', 32717: 'pile', 32723: 'disco_stu:', 32732: 'disco', 32729: 'stu', 32733: 'ducked', 32762: 'slim', 32764: 'bupkus', 32781: 'perplexed', 55217: 'complaining', 32805: 'rump', 32813: 'payback', 32817: 'revenge', 44826: 'magazine', 32831: 'subscriptions', 32847: 'brick', 32865: 'cerebral', 32874: 'booze-bags', 58064: 'andy', 32899: 'victorious', 61672: \"one's\", 32910: 'gallon', 32957: 'icelandic', 32958: 'boyhood', 32965: 'anti-crime', 32966: 'dealie', 32972: 'streetlights', 32981: 'strongly', 32987: 'pro', 32989: 'con', 32993: \"i'unno\", 32999: 'superdad', 33019: 'young_moe:', 33014: 'crystal', 33023: 'cheaped', 33027: 'shelf', 42695: 'memory', 33086: 'paramedic:', 33091: 'ingested', 33106: 'amount', 33101: 'defiantly', 33115: 'ihop', 33124: 'burger', 33134: 'absentmindedly', 33160: \"doctor's\", 60936: 'appointment', 65666: 'young_marge:', 64201: 'alone', 57782: 'video', 33190: 'neanderthal', 33253: 'taylor', 49007: 'mock', 33309: 'flatly', 33286: 'ing', 65083: 'bird', 39359: 'billboard', 60068: 'sisters', 33354: 'voters', 61021: 'decide', 33359: 'november', 33405: 'practically', 33406: 'everywhere', 54916: 'subject', 33476: 'resenting', 33501: 'appreciate', 37703: 'lush', 33569: 'shout', 33571: 'f-l-a-n-r-d-s', 33595: 'flame', 33711: 'david_byrne:', 33604: 'researching', 33605: 'indigenous', 33615: 'overhearing', 33617: 'delightfully', 53370: 'cruel', 58310: 'david', 33628: 'byrne', 33636: 'singer', 33638: 'artist', 33640: 'composer', 33656: 'wrestle', 33661: 'el', 33662: 'diablo', 33671: 'philip', 49060: 'wishes', 33708: 'rewound', 33725: 'produce', 33731: 'rolls', 58096: 'likes', 33747: 'kahlua', 57259: 'cream', 33766: 'fleabag', 33774: 'unsanitary', 57751: \"cat's\", 66198: \"sittin'\", 43759: 'nope', 33843: \"wearin'\", 33852: 'walked', 67642: 'instead', 33891: 'dark', 33893: 'dreary', 35849: 'boozy', 33908: 'drunkening', 33928: 'hangover', 33955: 'barber', 33967: 'frat', 33988: 'julienne', 33989: 'potatoes', 44667: 'dessert', 53269: 'peach', 34008: 'crumble', 34014: 'groin', 34041: 'shortcomings', 34053: 'banquet', 34075: 'poulet', 34076: 'au', 34077: 'vin', 34078: 'avec', 34079: 'champignons', 34080: 'ã', 34086: 'kisses', 34125: 'botanical', 34126: 'gardens', 34134: 'blossoming', 34137: 'sumatran', 34143: 'occurs', 34156: 'customers-slash-only', 34176: 'cooler', 34173: 'replaced', 34193: \"mopin'\", 34214: 'alarm', 34238: 'tummies', 34259: 'elves:', 34265: 'cakes', 34267: 'pets', 34269: 'brotherhood', 34298: \"i'd'a\", 34319: 'delivery_boy:', 34306: 'pizza', 34310: \"y'money's\", 34313: 'counter', 55518: 'miserable', 62856: 'bastard', 34376: 'mona_simpson:', 34350: 'leonard', 34365: 'competitive', 64832: 'jump', 37820: 'dive', 34406: 'stevie', 34391: 'macgregor', 34396: 'musketeers', 34417: 'accusing', 66378: 'bless', 62366: 'woozy', 34495: 'lungs', 67726: 'attention', 34502: 'devils:', 34529: 'apulina', 44245: 'gifts', 34554: 'including', 34556: 'bouquet', 37772: 'diamond', 34561: 'earrings', 34585: 'paris', 34572: 'hilton', 55246: 'france', 49937: 'manjula_nahasapeemapetilon:', 53975: 'sheepish', 53182: 'address', 34648: \"city's\", 34676: 'society_matron:', 34689: 'remote', 34700: 'sharity', 34722: 'woman_bystander:', 34973: 'ziff', 34743: 'aristotle:', 35366: 'artie_ziff:', 34767: 'weep', 48648: 'cards', 34794: 'mamma', 34799: 'flush-town', 34806: 'population', 34812: 'nonchalant', 60178: 'fifty', 52955: 'fold', 34868: 'ninety-eight', 34873: 'outstanding', 35100: 'ziffcorp', 34913: 'achem', 34917: 'flush', 34927: 'jacks', 34941: 'multi-national', 52449: 'd', 35021: 'sec_agent_#1:', 34981: 'securities', 45094: 'exchange', 35044: 'sec_agent_#2:', 34979: 'manipulation', 57295: 'fraud', 34987: 'macho', 34994: 'undermine', 35000: 'investor', 35001: 'confidence', 55232: 'perhaps', 35005: 'affects', 35024: 'majority', 35025: 'shareholder', 35039: 'inherent', 35040: 'legal', 35041: 'liability', 35082: 'malfeasance', 60329: 'ground', 35130: 'result', 35151: 'deny', 46300: 'jail', 35189: 'showed', 35194: 'louse', 44583: 'nerve', 69038: 'patty_bouvier:', 35240: 'jogging', 48108: 'ran', 35253: 'intruding', 69046: 'selma_bouvier:', 35281: 'sending', 49089: 'prison', 35296: 'swooning', 53811: 'standing', 35314: 'odor', 35315: 'eaters', 57999: 'bedroom', 35349: 'beanbag', 35361: 'temple', 35363: 'doom', 35368: 'gentle', 35419: 'nightmares', 35448: 'orders', 35470: 'contemptuous', 35472: 'chateau', 35473: 'latour', 35475: 'eighteen', 35476: 'eighty-six', 35515: 'initially', 53846: 'value', 35529: \"collector's\", 36669: 'shakespeare', 35582: 'bidet', 35591: 'ladder', 60641: 'water', 35595: 'fountain', 46974: 'monster', 55680: 'watered-down', 35680: 'in-in-in', 35682: 'chipped', 35690: 'nail', 35691: 'sticking', 35714: 'poke', 35747: 'bachelor', 35752: 'peaked', 35760: 'and/or', 53008: 'underpants', 35799: 'buddies', 53968: \"kids'\", 35875: 'gary_chalmers:', 35838: 'chug-a-lug', 35841: 'a-lug', 49253: 'needy', 63720: 'kindly', 66088: 'funds', 35890: 'disposal', 35895: 'boisterous', 35905: 'exciting', 35914: 'photographer', 35926: 'van', 35942: 'notch', 35947: 'wiggle', 43079: 'lap', 35963: 'friction', 44082: 'dancing', 43199: \"what're\", 35975: 'killjoy', 35979: 'wussy', 35983: 'grinch', 35988: 'consoling', 36065: 'bugging', 36074: 'picked', 45434: 'seemed', 36083: 'zoomed', 36087: 'junebug', 36091: 'windshield', 49127: 'meaningful', 36147: \"secret's\", 56417: 'safe', 36162: 'bail', 51620: 'wedding', 52406: 'wiener', 36223: \"bringin'\", 61087: 'sauce', 36246: 'easily', 36251: 'sobriety', 36262: 'urge', 36272: 'sponsor', 36275: 'white_rabbit:', 36278: 'lorre', 55714: 'missed', 36311: 'warmth', 36317: 'penmanship', 36338: 'sucks', 36343: 'anyhoo', 53621: 'furious', 36384: 'cyrano', 64724: 'shoulder', 36522: 'americans', 36527: 'permanent', 36528: 'visas', 36543: 'dutch', 36555: \"leavin'\", 36565: \"president's\", 36573: 'rebuttal', 65688: 'vomit', 36635: 'mull', 36644: 'mugs', 36646: \"thinkin'\", 36665: 'symphonies', 36686: 'fuhgetaboutit', 36919: 'health_inspector:', 36741: 'filth', 36744: 'oughta', 36778: 'hideous', 36790: 'frankie', 55692: 'department', 36818: 'fella', 36828: 'dads', 36848: 'malted', 36851: 'tooth', 36863: 'blinded', 44742: 'bike', 36880: \"soundin'\", 36896: 'thorough', 36901: 'winks', 36907: 'infestation', 36913: 'sanitary', 36914: 'utensils', 36923: 'hygienically', 36924: 'stored', 36954: 'parked', 36959: 'hydrant', 37113: 'new_health_inspector:', 37018: 'exhale', 37031: 'whaddya', 37039: 'hunky', 37040: 'dory', 37052: 'rife', 37145: 'violations', 37075: 'starters', 37081: 'predecessor', 63785: 'floor', 37100: 'trash', 37104: 'wednesday', 37114: 'chicken', 37115: 'skins', 37118: 'dispenser', 50207: 'roof', 62780: 'shutting', 37176: 'john', 37181: 'danny', 48372: 'pipes', 59585: 'glen', 37198: 'mountain', 37202: \"summer's\", 37208: 'falling', 37213: \"'tis\", 37221: 'bide', 37228: 'tribute', 37258: 'e', 37262: 'acceptance', 59035: 'breaking', 37312: 'hafta', 62934: 'street', 45971: 'shrugs', 40114: \"beer's\", 37352: 'reopen', 37364: 'crestfallen', 58843: 'changes', 37449: 'nor', 37464: 'pen', 37468: 'parrot', 63666: 'conversation', 37475: 'brief', 37479: 'contact', 58835: 'suicide', 58700: 'hotline', 43562: 'dials', 37498: 'blocked', 37530: 'protecting', 37532: 'investment', 37575: 'cigars', 50491: 'allowed', 58418: 'sleeps', 37586: 'microwave', 37601: 'beans', 37612: 'stupidly', 60013: 'duh', 37623: 'jerk-ass', 37630: 'doy', 37644: 'cheerier', 58292: 'quotes', 44543: 'therefore', 37676: 'darkness', 37681: 'tactful', 39038: 'regulars', 37695: 'remodel', 37723: \"changin'\", 63318: 'skirt', 37731: 'susie-q', 37734: 'face-macer', 57770: 'prepared', 38370: 'trapped', 37801: 'guff', 37813: 'grub', 37823: 'proper', 37824: 'old-time', 37903: 'british', 37832: 'whaaa', 57659: 'rule', 37839: 'britannia', 37844: 'meatpies', 37847: 'lager', 37962: 'pint', 37855: 'classy', 37862: 'asses', 37886: 'so-ng', 37907: 'arm-pittish', 37926: \"renovatin'\", 37937: 'drapes', 37945: \"idea's\", 37987: 'judge_snyder:', 37959: 'lindsay', 37960: 'naegle', 38568: 'ale', 37991: 'mis-statement', 38000: 'allow', 38010: 'credit', 65432: 'numbers', 38025: 'bumpy-like', 64109: 'suds', 38057: 'counterfeit', 58545: 'cat', 38084: 'moe-clone', 38108: 'socialize', 38177: 'moe-clone:', 56750: 'attitude', 48022: 'letters', 38156: 'e-z', 53660: 'needed', 38187: 'clone', 38213: 'oopsie', 43933: 'edna_krabappel-flanders:', 54514: 'weirder', 38257: \"enjoyin'\", 38286: 'adult', 38313: 'tickets', 38315: \"santa's\", 38326: 'sleigh-horses', 67133: 'jerky', 38330: 'sells', 38388: 'impress', 51236: 'record', 38426: \"liftin'\", 38428: 'dumbbell', 38432: 'forty-nine', 38437: 'ninety-nine', 38455: \"lefty's\", 38488: 'victim', 38507: 'hustle', 55096: 'the_rich_texan:', 59555: 'bourbon', 38544: \"breakin'\", 38551: 'nerd', 38566: 'sugar-free', 51059: 'ginger', 38575: 'flat', 38581: 'buds', 38585: 'goldarnit', 38611: 'sissy', 38609: 'life-partner', 38620: 'whup', 58570: 'wrestling', 38636: 'yee-ha', 38640: 'gol-dangit', 38647: \"dimwit's\", 38648: 'kazoo', 65473: 'forehead', 38675: 'head-gunk', 38685: 'hears', 38687: 'cocking', 38697: 'texan', 38777: 're-al', 38798: 'moe-heads', 38813: 'polls', 38819: 'negative', 38821: 'ads', 38823: 'hurting', 63509: 'barely', 38839: 'homeless', 38848: 'bum:', 55381: 'flag', 38906: 'annual', 51682: 'tradition', 53285: 'attempting', 63944: 'sob', 38951: 'w-a-3-q-i-zed', 50754: 'push', 39005: 'mason', 65862: 'moment', 39025: 'arrived', 39030: \"rentin'\", 47358: \"takin'\", 39040: 'las', 39184: 'vegas', 39045: 'nevada', 39066: 'stingy', 39068: 'rat-like', 58904: 'rope', 39093: 'sued', 39101: 'settlement', 39142: 'partially', 39143: 'risquã©', 39158: 'plane', 39160: 'soul-crushing', 42231: 'camp', 39203: 'cheat', 39193: 'blackjack', 57733: 'system', 39242: 'nelson_muntz:', 39244: 'haw', 39249: 'nelson', 39283: 'pair', 39295: 'paints', 39297: 'noggin', 39307: 'meanwhile', 54367: \"payin'\", 39324: \"yieldin'\", 39328: 'moe_recording:', 39367: 'ew', 39374: 'considering:', 39423: 'bar-boy', 39393: \"table's\", 39394: 'wobbly', 39397: 'jam', 64140: 'foot', 39415: 'ford', 39417: 'captain', 39418: 'kirk', 39478: \"i'm-so-stupid\", 39501: 'five-fifteen', 39509: 'eternity', 39513: 'fortune', 39517: 'fica', 39519: 'helping', 39544: 'steamed', 39550: 'cappuccino', 39585: '-ry', 39626: 'otherwise', 50638: 'known', 54287: 'bridge', 39693: 'neighbors', 39700: 'wife-swapping', 39734: 'strolled', 39844: 'museum', 39762: 'donation', 39772: 'lewis', 39819: 'coins', 39789: 'notorious', 53623: 'jailbird', 39796: 'idealistic', 39798: 'law-abiding', 39800: 'archaeologist', 39809: 'excavating', 39811: 'mayan', 39812: 'pyramid', 39816: 'unearth', 39830: 'pre-columbian', 39839: 'donate', 40542: 'wangs', 39865: 'statues', 67399: 'motel', 39891: 'handed', 47409: 'awful', 39895: 'dilemma', 39918: 'edner', 39931: \"playin'\", 39952: 'coin', 39977: 'poorer', 39995: 'worldly', 39996: 'possessions', 39998: \"'ceptin'\", 40000: 'nucular', 56229: 'photo', 57335: 'child', 40041: 'obsessive-compulsive', 45146: 'shoots', 40073: 'yee-haw', 40098: 'powered', 40100: 'non-american', 48590: 'workers', 40119: \"tv's\", 57681: 'america', 65638: 'then:', 40157: 'misfire', 40171: 'prolonged', 40178: 'playoff', 40189: \"hobo's\", 61891: 'louie:', 40204: 'owes', 57719: 'ominous', 40228: 'fist', 61547: 'clientele', 40314: \"puttin'\", 40316: 'screws', 40368: \"tony's\", 40379: 'all-all-all', 40422: 'reporter:', 40411: 'stars', 40414: 'firing', 40418: 'pure', 40459: 'irish', 40467: 'polish', 40541: \"drawin'\", 60761: 'marmaduke', 40490: 'heck', 40494: \"challengin'\", 40501: 'sudoku', 40511: 'puzzle', 40515: 'numeral', 40518: 'repeated', 40523: 'column', 40586: 'army', 40571: 'salvation', 40579: 'cocks', 40592: 'stripes', 40609: 'repay', 40628: 'colonel:', 40655: 'fishing', 60954: \"waitin'\", 56912: 'fragile', 40694: \"listenin'\", 40707: 'bursts', 40714: 'published', 40715: 'author', 40727: 'earlier', 40731: 'newly-published', 40758: 'snail', 40759: 'trail', 40780: 'name:', 40789: 'wolfe', 40801: 'bonfire', 40804: 'vanities', 40808: 'coined', 40810: 'phrase', 40812: 'radical', 40813: 'chic', 40828: \"squeezin'\", 40830: \"'roids\", 40848: 'wordloaf', 40849: 'festival', 40840: 'vermont', 40845: 'thrilled', 40889: \"wouldn't-a\", 54973: 'milhouse', 40941: 'greystash', 59466: 'dirt', 40976: 'outlive', 44560: 'fictional', 40979: 'wizard', 41721: \"what'sa\", 41001: 'upn', 41054: 'assert', 41055: 'herself', 41072: 'backbone', 41076: 'notices', 41156: 'fausto', 51883: 'doors', 41196: 'unlocked', 41208: 'beeps', 41230: 'declan', 41243: 'fruit', 41367: 'declan_desmond:', 41249: 'oddest', 41250: 'thing:', 41254: 'affection', 41257: 'knuckle-dragging', 41258: 'sub-monkeys', 41274: \"sippin'\", 41275: 'cuckoo', 41303: 'de-scramble', 41308: 'scrutinizing', 41314: 'shoe', 41315: 'inserts', 41325: \"writin'\", 41326: 'creepy', 66978: 'action', 41362: 'kills', 41401: 'title:', 41403: 'pontiff', 41440: 'gargoyles', 41446: 'good-looking', 41462: 'open-casket', 41463: 'material', 57074: 'pretending', 41514: 'sour', 55325: 'abandon', 41537: 'paparazzo', 47936: 'size', 41559: 'joy', 41574: 'robin', 41575: 'williams', 41600: 'bits', 68933: 'sister', 52014: 'airport', 41622: 'co-sign', 44073: 'mortgage', 41670: 'photos', 41704: \"ladies'\", 41674: 'turlet', 50327: 'dames', 41696: 'attractive_woman_#1:', 41708: 'attractive_woman_#2:', 41712: 'trade', 41713: 'bras', 41715: 'panties', 41787: 'appealing', 60106: 'reason', 63080: 'feelings', 41828: 'volunteer', 41847: 'assume', 41860: 'dentist', 48562: 'patient', 41892: 'mary', 61705: 'weirded-out', 55033: 'milhouse_van_houten:', 41918: \"school's\", 41921: 'bake', 41927: \"betsy'll\", 41937: 'runs', 41989: 'depending', 42006: 'strips', 42008: 'eggshell', 42012: 'malabar', 42013: 'ivory', 42017: 'mediterranean', 42018: 'ecru', 42043: 'tow', 67398: 'fanciest', 42076: 'lobster-politans', 42199: 'towed', 42113: 'smelling', 42120: 'one-hour', 42122: 'zone', 42139: 'eighty-one', 42135: 'correction', 42152: 'lobster-based', 42153: 'designer', 42213: 'joke', 42166: 'laughter', 42170: 'unhook', 42193: 'moving', 42207: 'tow-talitarian', 42217: 'totalitarians', 42223: 'stalin', 60648: 'grandmother', 42229: 'forced', 42230: 'labor', 42242: 'insensitive', 46246: 'bully', 42258: 'winch', 42270: 'enforced', 42279: 'fatty', 42289: 'ralph', 42294: 'ralphie', 42316: 'tow-joes', 42327: 'territorial', 63295: 'mel', 67662: 'bite', 42366: \"family's\", 47582: 'mixed', 61929: 'powerful', 42883: 'forget-me-shot', 64344: 'means', 42451: 'remembers', 42462: 'process', 42470: 'splash', 42472: 'jaegermeister', 42475: 'add', 42476: 'sloe', 42479: 'triple-sec', 42481: 'quadruple-sec', 42483: 'gunk', 42486: \"dog's\", 42489: 'absolut', 42506: 'stripe', 42508: 'aquafresh', 42516: 'funniest', 42522: 'venom', 42525: 'louisiana', 42526: 'loboto-moth', 42532: 'sweetie', 51730: 'stir', 42542: 'pregnancy', 59441: 'positive', 42556: 'presto:', 42581: 'ultimate', 42583: 'bleacher', 44986: 'slight', 42587: 'menace', 42590: 'swig', 42591: 'wipes', 42603: 'entering', 42611: 'forget-me-drinks', 42874: 'wipe', 42629: 'rickles', 42631: 'arabs', 42639: 'gibson', 42641: 'mexicans', 51151: 'latin', 42660: 'grammys', 42663: 'hispanic_crowd:', 42675: 'jeers', 42715: 'sternly', 42721: 'disturbance', 42776: 'filed', 55691: 'complaint', 42788: 'infor', 42815: 'ripper', 42823: 'doppler', 42826: \"queen's\", 42828: 'surgeonnn', 42929: 'piling', 42944: 'unkempt', 52078: 'obvious', 47947: 'thighs', 42968: 'attractive', 42983: 'spits', 42988: 'bottoms', 43005: 'retain', 62532: 'image', 60897: 'finding', 43018: 'misconstrue', 43024: \"cuckold's\", 43025: 'horns', 43059: 'moon-bounce', 43064: 'amiable', 43075: 'newsies', 43085: 'scruffy_blogger:', 44083: 'internet', 43090: 'access', 57411: 'mouse', 43119: 'politicians', 45347: 'media', 43135: 'issues', 43141: 'declare', 43143: 'frontrunner', 43149: 'mansions', 43156: 'abolish', 43157: 'democracy', 43174: 'dictator', 43177: 'juan', 43178: 'perã³n', 43187: 'disappeared', 43195: 'madonna', 43267: 'candidate', 43238: 'dennis', 43239: 'kucinich', 43251: 'dennis_kucinich:', 43244: 'twerpy', 43271: 'unbelievably', 66075: 'pockets', 60348: 'share', 43361: 'manuel', 43368: 'fake', 43369: 'moustache', 43377: 'ees', 43455: 'lurleen', 47943: 'jamaican', 43476: 'lurleen_lumpkin:', 43405: 'mild', 43421: 'backing', 43434: 'reminded', 58226: 'rock', 43463: 'quarry', 43467: 'stones', 43470: 'woodchucks', 53701: \"someone's\", 43503: 'mailbox', 43559: 'cell', 57649: 'l', 43591: 'butter', 43596: 'tasty', 43600: 'almond', 43606: 'listens', 67092: 'hangs', 44294: \"lenny's\", 61749: 'shows', 62054: 'midge', 54645: 'sneaky', 62583: 'pity', 43777: 'compromise:', 43814: 'luckiest', 43833: 'remaining', 43834: 'scratcher', 60309: 'winnings', 43838: 'kick-ass', 43859: 'shush', 53084: 'krabappel', 43901: 'difficult', 43906: 'propose', 43912: 'willing', 43915: 'halvsies', 43937: 'lugs', 43969: 'splendid', 55764: 'discuss', 43978: 'weather', 59375: 'gently', 44036: 'way:', 45915: 'unlike', 44066: 'tying', 44072: 'crippling', 44076: 'refinanced', 44078: 'twenty-six', 44084: 'cowboy', 44109: 'encouraged', 56480: 'compared', 44122: 'half-day', 44127: 'encouraging', 50454: 'decent', 44144: 'widow', 44149: 'option', 44162: 'pep', 44163: 'squad', 44165: 'cheered', 44174: 'runners', 60143: 'nineteen', 44178: 'ninety-seven', 44195: 'break-up', 44225: 'doreen', 44228: 'cheated', 44242: 'showered', 44248: 'soaps', 44250: 'massage', 44251: 'oils', 44298: 'doreen:', 45291: \"marge's\", 44350: 'maiden', 44374: 'nicer', 44395: \"she'll\", 44415: 'parenting', 44418: 'childless', 58829: 'available', 44439: 'goodwill', 44440: 'attached', 44477: 'direction', 44478: \"mecca's\", 44484: \"don'tcha\", 44489: 'oughtta', 44493: 'dint', 44496: \"son's\", 44504: \"bashir's\", 44508: 'derek', 44509: 'jeter', 44511: 'mariah', 44512: 'carey', 44622: 'bashir', 44540: 'muslim', 44563: 'espousing', 44567: 'view', 44570: 'fbi_agent:', 44576: 'fayed', 44596: 'arab_man:', 44590: 'statue', 44592: \"liberty's\", 61548: 'dress', 44628: 'principles', 44632: 'discriminate', 44638: 'employment', 44640: 'housing', 44646: 'patriotic', 44672: 'bauer', 64795: 'grimly', 44908: 'bees', 44716: 'sanctuary', 67807: 'lock', 44815: 'super-tough', 44816: 'africanized', 64697: 'african', 44830: 'honeys', 44869: 'combine', 44857: 'environment', 44871: 'dna', 44874: 'strains', 44878: 'species', 44913: 'protesting', 47730: 'meant', 44934: 'inclination', 64241: 'queen', 44957: 'anonymous', 61091: 'multiple', 44961: 'partners', 44974: 'privacy', 44983: 'buzziness', 68627: 'sniffles', 45076: 'vance', 45022: 'connor-politan', 45033: 'oh-so-sophisticated', 45055: 'connor', 45063: 'kidneys', 67460: 'election', 45098: 'guilt', 45127: 'haircuts', 45139: 'graves', 45193: 'dig', 45196: 'ballot', 45244: 'al_gore:', 45211: 'gore', 45220: 'presidential', 45222: 'stolen', 45269: 'nobel', 45260: 'prize', 45268: 'alfred', 45265: 'falsetto', 45275: 'albert', 45292: 'landlord', 48765: 'shower', 45303: 'and-and', 45309: 'getaway', 45342: 'flanders:', 45352: 'expose', 45369: 'dateline', 45389: 'nominated', 45392: 'peabody', 45408: 'exclusive:', 45416: 'forty-two', 45417: 'evergreen', 45418: 'terrace', 49888: 'tiny', 51740: 'slice', 45424: 'suburban', 45431: 'actress', 45454: 'billiard', 54968: 'sadder', 45480: \"spiffin'\", 45502: 'inquiries', 45554: 'enabling', 55904: 'yo', 45574: 'mags', 46031: 'playful', 45589: 'taught', 45592: 'abcs', 45597: 'a-b-', 45599: 'forgets', 45603: 'p-k', 45619: \"s'pose\", 52173: \"wonderin'\", 45627: \"cleanin'\", 45680: 'month', 45691: \"she'd\", 61940: 'defeated', 45726: 'stood', 45990: 'maya:', 45750: 'regretful', 62701: 'correct', 45763: 'term', 64788: 'pleased', 45813: 'tidy', 46346: 'maya', 45844: 'benjamin', 45873: 'life-sized', 45881: 'legoland', 68790: 'cable', 45921: \"stealin'\", 45933: 'chinese_restaurateur:', 45938: 'espn', 45952: 'ling', 45953: 'chow', 68333: 'whether', 46008: 'passenger', 46042: 'incredible', 56130: 'awww', 46095: 'thought_bubble_lenny:', 46110: \"somethin':\", 46118: 'generally', 46149: 'limericks', 46168: 'coast', 46170: 'massachusetts', 46176: 'nantucket', 46189: 'unusual', 46190: 'personal', 46191: 'characteristic', 46216: 'simplest', 60719: 'rhyme', 46222: 'a-a-b-b-a', 46224: 'dumbass', 65905: 'babies', 46238: 'whistling', 46239: 'nonchalantly', 46324: 'chained', 46336: 'tomato', 46338: 'tomahto', 46359: 'comedies', 46370: 'reckless', 46371: 'gesture', 46392: 'blows', 46454: 'sidelines', 46501: \"who'da\", 46525: 'chapter', 46609: 'un-sults', 46532: 'insults', 46533: 'disguised', 46920: 'courage', 46553: 'suspenders', 46559: 'circus', 46580: 'clown-like', 46588: 'insecure', 46617: 'envy-tations', 46619: 'hate-hugs', 46621: 'spamming', 46623: 'faint', 46624: 'praise', 46638: 'frozen', 55614: 'clearly', 46738: 'toledo', 46739: 'take-back', 46750: \"people's\", 46818: 'eager', 46885: 'reviews', 46834: 'happily:', 46840: 'community', 46841: 'playhouse', 46843: 'bathed', 47122: 'hibbert', 46872: 'banquo', 46877: 'glowers', 46923: 'sticking-place', 46927: 'fail', 46938: 'x-men', 46939: '2', 46947: 'macbeth', 46951: 'mac-who', 46956: 'gulliver_dark:', 47378: 'unlucky', 46992: 'bedridden', 47001: 'unable', 47008: 'toe', 47032: 'thought_bubble_homer:', 47028: 'paintings', 47034: 'melodramatic', 54760: 'somewhere', 47051: 'nonsense', 47061: 'training', 66455: 'met', 47127: 'bleeding', 47129: \"murphy's\", 47170: \"pressure's\", 66579: 'yap', 47216: 'bon-bons', 47261: 'declared', 47290: 'microbrew', 47306: 'cobra', 47307: 'solves', 63772: 'tries', 47327: 'cupid', 64373: 'bow', 47354: 'unattended', 47400: 'relax', 48097: 'wing', 47451: 'fl', 55632: 'anguished', 58609: 'helllp', 47504: 'ventriloquism', 47524: 'approval', 47538: 'cure', 47540: 'ails', 47883: 'talk-sings', 47577: 'tastes', 47565: 'cuddling', 47580: 'steaming', 47581: 'cocoa', 47584: 'rainbows', 47591: 'surprised/thrilled', 47601: 'full-bodied', 47610: 'full-blooded', 63780: 'lovely', 47633: 'harmony', 47639: 'loyal', 47663: 'hemoglobin', 47669: \"disrobin'\", 47689: 'rosey', 63748: 'cozy', 47693: 'bubbles-in-my-nose-y', 47702: \"mo'\", 48407: 'kang:', 47710: 'musical', 47716: 'kodos:', 47719: 'measure', 47720: 'distance', 47752: 'unrelated', 47756: 'seductive', 47762: 'cologne', 47764: 'shaved', 47766: 'knuckles', 63565: 'hoping', 47781: 'shakes', 47810: 'handwriting', 47814: 'idioms', 66947: 'begins', 47825: 'midge:', 64158: 'youse', 47878: 'gayer', 47894: 'occurred', 47913: 'timbuk-tee', 47920: 'fast-paced', 47941: 'nibble', 47946: 'teriyaki', 47959: 'frenchman', 47962: 'spoon', 47965: 'duke', 48061: 'amnesia', 48069: 'missing', 48077: 'squeeze', 48111: 'irishman', 48114: 'pretends', 48132: \"o'reilly\", 48155: 'radiator', 48164: 'rebuilt', 48174: 'briefly', 48191: 'uncreeped-out', 48206: 'mines', 55268: 'torn', 62069: 'warn', 48242: 'taste', 48244: 'romance', 48247: 'perverse', 48259: 'hearse', 48272: 'civil', 48274: 'nurse', 48308: 'proof', 48317: 'simultaneous', 48319: 'i/you', 48331: 'finale', 61107: 'possibly', 48371: 'indicates', 48375: 'half-beer', 48393: 'enjoyed', 51146: \"year's\", 48396: 'halloween', 48399: 'treehouse', 48401: 'horror', 48404: 'xx', 48408: 'shhh', 48421: 'habitrail', 48429: 'donuts', 48438: 'meals', 48471: 'philosophical', 48546: 'stranger:', 48488: 'southern', 48543: 'indeed', 48551: 'gator', 48552: 'mccall', 48646: 'gator:', 59701: 'corporate', 48568: 'recruiter', 48570: 'specializes', 67604: 'nuclear', 48581: 'headhunters', 48595: 'valuable', 62083: 'industry', 48612: 'protesters', 48614: 'marched', 48620: 'plants', 48625: 'radiation', 48626: \"poisonin'\", 62804: 'thoughtful', 48639: 'passports', 53649: 'awesome', 48682: 'loafers', 48720: 'hooray', 48758: 'nap', 48761: 'awake', 48764: 'meteor', 48774: 'flexible', 48890: 'marshmallow', 48931: 'dumbest', 48948: \"stabbin'\", 48981: 'humanity', 49010: 'decency', 63188: 'extremely', 49002: 'mocking', 49015: 'official', 49030: 'releasing', 49031: 'hounds', 49034: 'releases', 49035: 'wolverines', 49062: 'horses', 49065: \"eatin'\", 49066: 'wish-meat', 49091: 'bust', 49126: 'exchanged', 49147: 'whispered', 49148: 'huddle', 68887: 'bitterly', 49191: 'nursemaid', 64738: 'saint', 49228: \"elmo's\", 49231: 'reunion', 49233: 'andrew', 49234: 'mccarthy', 49239: 'attend', 49247: 'lied', 49264: 'itchy', 54683: 'type', 49313: 'planted', 66283: 'lou:', 49357: 'chair', 49393: 'refill', 49460: 'cozies', 49470: 'sassy', 49472: 'cushions', 49478: 'cushion', 49487: 'flash', 49488: 'drives', 49500: 'data', 49503: 'hammy', 49531: 'estranged', 49557: \"tomorrow's\", 49558: 'forecast', 54256: 'is:', 49575: 'partly', 49571: 'cloudy', 49576: 'sunny', 49581: 'guessing', 49599: 'golf', 49600: 'ball-sized', 49601: 'hail', 52940: 'continuing', 49596: 'thunder', 49597: 'storms', 49606: 'exultant', 61438: 'woo-hoo', 49615: 'ahem', 62129: 'electronic', 49628: 'wagering', 56721: 'cameras', 49641: 'installed', 49644: \"america's\", 49647: \"blowin'\", 49650: 'homeland', 54636: 'zero', 49682: 'mm-hmm', 49710: 'tsk', 49715: 'tsking', 49751: 'presided', 49759: 'suave', 49761: 'debonair', 49772: 'offa', 49776: \"narratin'\", 62319: 'tale', 49856: 'restroom', 49822: 'cricket', 49823: 'uniforms', 49832: 'rain', 60993: 'rules', 62557: 'calm', 49848: \"'pu\", 49850: 'she-pu', 49877: 'everyday', 49886: 'mimes', 49896: 'sitar', 55558: 'smallest', 49907: 'saving', 49913: 'gheet', 56028: 'sympathetic', 49945: 'darjeeling', 49946: 'limited', 51797: 'slightly', 49988: 'low-blow', 49995: 'boxer:', 49997: 'pre-recorded', 50009: 'nards', 50030: 'rug', 50058: \"mother's\", 50064: 'panicked', 50077: 'carny:', 50078: 'teacup', 50087: 'whispers', 50094: 'rutabaga', 62913: 'soup', 50123: 'putty', 58254: 'padre', 50136: 'innocuous', 50139: 'flashbacks', 61499: 'grim', 50163: 'ferry', 50187: 'pointedly', 50190: 'lovejoy', 50198: 'ralph_wiggum:', 50200: 'popping', 50250: 'man_with_crazy_beard:', 57640: 'lloyd', 50270: 'outrageous', 50271: 'beard', 50288: 'expense', 50296: 'beards', 50314: \"askin'\", 50397: 'scatter', 50400: 'cockroaches', 60662: 'candy', 50441: 'scary', 50471: 'rip', 50480: 'stretch', 50483: 'tee', 50494: 'california', 50503: 'judgments', 50522: 'legally', 50548: 'beep', 50560: 'side:', 53090: 'fox', 50604: 'murdoch', 50607: 'rupert_murdoch:', 50615: 'jay', 50616: 'leno', 50620: 'jay_leno:', 50629: 'iran', 50637: 'weapon', 50647: 'rig', 50662: 'leak', 50663: 'disappear', 50668: 'nbc', 50686: 'howya', 50716: 'strategy', 50736: 'button-pusher', 50766: 'obama', 66753: 'answers', 61312: 'frustrated', 50805: 'booth', 51063: 'gary:', 50815: 'cliff', 50816: 'lee', 50821: 'zack', 50823: 'grenky', 50859: 'grienke', 50833: 'completely', 50839: 'colossal', 50840: 'exception:', 65777: 'fourth', 50844: 'inning', 50851: 'domed', 50865: 'bunion', 50872: 'notably', 50873: 'ineffective', 61933: 'sport', 50897: 'portentous', 50909: 'dexterous', 50912: 'understood', 50915: 'poin-dexterous', 50925: 'laid', 51053: 'doug:', 50932: 'key', 50972: 'sabermetrics', 50949: 'developed', 50951: 'statistician', 50958: 'bill_james:', 50967: 'taxes', 50976: 'eight-year-old', 50981: 'ballclub', 50984: 'sagacity', 50987: 'stengel', 50990: 'single-mindedness', 50993: 'steinbrenner', 50999: 'stein-stengel-', 51020: 'stats', 51028: 'ratio', 51032: 'occupied', 51045: 'sobo', 51056: 'conversion', 51057: 'factor', 51069: 'refreshingness', 51071: 'effervescence', 51074: 'benjamin:', 51077: 'minus', 51083: 'rueful', 51088: 'advertise', 51091: 'specials', 51093: 'scientific', 51135: 'annus', 51136: 'horribilis', 51688: \"others'\", 51147: 'resolution', 51168: 'fixes', 62177: 'fixed', 51225: 'courthouse', 51257: 'compare', 51276: 'exquisite', 51280: 'reward', 51283: 'planned', 51308: 'scotch', 51348: 'addiction', 51349: 'compels', 51364: 'executive', 53752: 'assistant', 51387: 'average-looking', 51395: '_burns_heads:', 51434: 'admiration', 51442: 'self-made', 51463: 'suspect', 51487: 'hangout', 61539: 'proposing', 51530: 'offense', 51550: 'whatchamacallit', 51556: 'swishkabobs', 51619: \"grandmother's\", 51621: 'urinal', 51644: \"getting'\", 51651: 'renovations', 51700: \"friend's\", 51708: 'lainie:', 51717: 'carlotta:', 52270: 'drop', 51734: 'jã¤germeister', 51737: 'pink', 51738: 'lemonade', 51743: 'strawberry', 51744: 'chapstick', 51749: \"cupid's\", 51759: 'wazoo', 51774: 'drains', 60306: 'plans', 51828: 'scram', 51865: 'crinkly', 54303: 'weak', 63983: 'opening', 51919: 'hitler', 51904: 'eva', 51905: 'braun:', 51922: \"man's_voice:\", 51938: 'huhza', 51998: '_kissingher:', 51958: '3', 51962: 'whoopi', 52010: 'seminar', 52015: 'motor', 52016: 'lodge', 52030: 'tornado', 52039: 'kissingher', 52060: 'earth', 52093: 'casting', 52095: 'pall', 52108: 'dungeon', 52131: 'serum', 52325: 'walther_hotenhoffer:', 52160: 'walther', 52161: 'hotenhoffer', 52166: 'pharmaceutical', 52183: 'occupation', 52202: 'renders', 52205: 'tolerable', 52208: 'normals', 52228: 'irrelevant', 58068: 'stern', 52237: 'elaborate', 52248: 'extract', 52253: 'synthesize', 52261: 'scrutinizes', 56594: 'waltz', 52310: 'grease', 58362: 'suspicious', 52343: 'germans', 53827: 'roz:', 57128: 'text', 52435: 'when-i-get-a-hold-of-you', 52440: 'dammit', 52443: 'typed', 62961: 'f', 52456: 'rapidly', 58491: 'delete', 52471: 'donated', 52475: 'haiti', 52622: '_zander:', 68711: 'burps', 52549: \"y'see\", 52556: 'pushes', 52571: 'strangles', 64098: 'relieved', 56451: 'suing', 60939: 'therapist', 52623: 'sue', 52632: 'hollowed-out', 57310: 'tree', 52638: 'contented', 57883: 'skeptical', 66730: 'therapy', 52687: 'phony', 52688: 'grin', 52689: 'plastered', 52739: 'foibles', 52758: 'freaky', 52799: 'slipped', 52802: 'mickey', 52806: 'churchy', 52870: 'boneheaded', 52883: 'brainheaded', 52903: 'fence', 56811: 'relationship', 54043: 'twin', 54801: 'hall', 52952: 'sheet', 52960: 'wistful', 52967: 'prayers', 52972: 'choked', 63069: 'dreamed', 52984: 'iddilies', 52986: 'diddilies', 53007: 'christian', 53026: 'wuss', 53038: 'confession', 53040: 'make:', 53047: 'solely', 53050: 'noble', 53051: 'intention', 53136: 'two-thirds-empty', 53149: 'poetry', 53164: 'multi-purpose', 53181: 'email', 53184: 'edna-lover-one-seventy-two', 53189: 'lowest', 53225: 'joey_kramer:', 53211: \"edna's\", 53376: 'kramer', 53220: 'drummer', 53265: 'gulps', 53267: 'plucked', 53296: 'wikipedia', 53311: 'frankenstein', 53355: 'neighbor', 53346: 'neighboreeno', 53354: 'plain', 53388: 'bagged', 53390: 'tiger', 53652: 'wayne:', 53430: 'completing', 53432: \"other's\", 53428: 'prompting', 53436: 'sen', 53450: 'cesss', 53457: 'surprising', 53458: 'entrance', 53467: 'jewelry', 53469: 'pronto', 53491: 'drawer', 53500: \"linin'\", 53504: 'presidents', 53540: 'upgrade', 53634: 'wayne', 53554: 'commanding', 53585: 'appropriate', 53586: 'reaction', 53599: 'sooo', 53609: 'fresco', 53630: 'stealings', 53672: \"speakin'\", 53691: 'farthest', 57765: 'narrator:', 53727: 'drove', 53739: 'roz', 53745: 'ditched', 53801: 'lady-free', 53803: 'eighty-three', 53862: 'souvenir', 53871: 'sizes', 53897: 'hare-brained', 53898: 'schemes', 53904: 'pillows', 53916: 'adopted', 53918: 'capuchin', 54503: 'monkey', 53928: 'bonding', 53929: 'phase', 65573: 'crew', 53955: 'safecracker', 53964: 'caper', 53969: 'fantasy', 53970: 'novel', 53983: 'brag', 53990: 'publish', 53992: 'modestly', 60727: \"children's\", 65022: 'books', 54019: 'lucinda', 54020: 'placed', 54022: 'fifth', 54023: 'shard', 54026: 'stained-glass', 54032: 'read:', 54033: \"'your\", 54034: 'parents', 54038: \"'\", 54039: 'gregor', 54048: 'understood:', 54050: 'journey', 54066: 'reader', 54068: 'selection', 54081: 'steampunk', 54096: 'frink-y', 54098: 'mock-up', 54105: 'title', 56160: 'twins', 54156: 'underbridge', 54157: 'academy', 54136: 'neil_gaiman:', 54141: 'tuna', 54144: 'itself', 54174: 'square', 54169: 'kansas', 54177: 'golden', 58862: 'vulnerable', 54203: 'literary', 54209: 'lis', 54224: 'milhouses', 54230: 'jacksons', 54232: 'xanders', 54235: 'aidens', 54240: 'dreamy', 54248: 'aiden', 64024: 'copy', 54265: 'vampire', 54268: 'transylvania', 54269: 'prep', 54280: 'trolls', 54334: 'vampires', 54286: 'brooklyn', 54294: 'fuzzlepitch', 54297: 'bloodball', 54306: 'lame', 54313: 'publishers', 54326: 'sistine', 54327: 'chapel', 54343: 'mural', 54350: 'hems', 54352: 'haws', 65805: \"hasn't\", 54391: 'watched', 54399: 'bluff', 54405: 'conversations', 54411: 'annie', 54428: 'meaning', 54494: 'lenny:', 54567: 'carl:', 54466: 'brain-switching', 54467: 'ceremony', 54519: 'carll', 54486: 'sleeping', 54499: 'switched', 54551: 'dashes', 54555: 'lennyy', 56411: 'website', 56438: 'safer', 54637: 'sheets', 54640: 'wind', 54655: 'dignified', 54669: 'stumble', 54698: 'typing', 54742: 'lead', 54746: 'pledge', 54748: 'allegiance', 54768: 'conclude', 54770: 'thanking', 54775: 'hosting', 54782: 'fumigated', 54791: 'bedbugs', 54805: 'er', 54810: 'adjourned', 54817: 'convenient', 66235: 'duty', 54847: 'sangre', 54848: 'de', 54849: 'los', 54850: 'muertos', 54854: 'friend:', 54855: 'mexican', 54859: 'mexican_duffman:', 54867: 'ho-la', 54902: 'pepto-bismol', 54904: 'facebook', 63189: 'intense', 54940: 'scrubbing', 55302: 'rag', 54963: 'hardy', 54984: 'unhappy', 55029: 'friendship', 55034: 'taxi', 65183: \"crawlin'\", 55052: 'wears', 55056: 'nemo', 55059: 'brace', 55433: 'bar_rag:', 55134: 'lear', 55143: 'be-stainã¨d', 55144: 'swatch', 55153: 'gentles', 55156: 'begin', 55159: 'medieval', 55168: 'self-satisfied', 55171: 'tapestry', 55176: 'sponge:', 55183: 'gutenberg', 55187: 'bartholomã©:', 55221: 'maman', 59715: 'failed', 55220: 'lise:', 55240: 'marguerite:', 55225: 'overstressed', 55257: 'helps', 55263: 'recap:', 55267: 'unjustly', 55271: 'lofty', 55272: 'perch', 55277: 'wound', 55281: 'barter', 55283: 'persia', 55328: 'raggie', 65092: 'cheese', 67755: 'degradation', 55370: 'continued', 55375: 'enterprising', 55376: 'seamstress', 55384: 'fledgling', 56446: 'nation', 55408: 'thousand-year', 55411: 'grace', 55428: 'predictable', 55435: 'startled', 55500: 'sensitivity', 55503: 'jobless', 55504: 'washouts', 55533: 'error', 55538: 'blamed', 55616: 'violin', 55571: 'rent', 55608: 'pizzicato', 55613: 'buyer', 55615: 'specified', 62408: 'heading', 55638: 'stepped', 55660: 'done:', 55669: 'arguing', 55710: 'guts', 55729: 'rationalizing', 55769: 'pack', 58235: 'raccoons', 55816: 'adjust', 55820: 'runaway', 55821: 'monorails', 55825: 'nascar', 55828: 'gordon', 55833: 'jeff_gordon:', 55871: \"plank's\", 55884: 'land', 55888: 'traitors', 55900: 'lou', 55910: 'eliminate', 55917: 'bulldozing', 55919: 'tire', 55924: 'sinkhole', 55942: 'administration', 55944: 'solved', 63558: 'filled', 55957: 'fears', 55958: 'most:', 56003: \"s'okay\", 56021: 'nuked', 56023: 'swimmers', 56034: 'shame', 56046: 'wrap', 56048: 'plums', 56050: 'tin', 56058: 'philosophic', 56083: 'samples', 56090: 'shelbyville', 56091: 'sperm', 56126: 'necklace', 56137: 'eww', 56196: 'fund', 56260: 'rolled', 56291: 'lend', 56300: 'sesame', 56337: 'kermit', 56322: 'trench', 56343: 'frog', 56332: 'frogs', 66040: 'keeps', 56352: 'settles', 56381: 'woe:', 56391: 'gamble', 56394: \"daughter's\", 56434: 'poker', 56421: 'fdic', 56425: 'grubby', 56435: 'site', 56454: 'onion', 56455: 'rings', 56476: 'badmouth', 56478: 'country', 56504: 'prettiest', 56527: \"aristotle's\", 56528: 'poetics', 56580: 'rice', 56582: 'promotion', 56724: 'dan_gillick:', 56625: 'poured', 56646: 'hooky', 56678: 'throats', 56680: 'grind', 56685: 'crunch', 56715: 'nature', 56739: 'dipping', 56758: 'edge', 56765: 'groveling', 56802: 'brown', 56803: 'wiggle-frowns', 56810: 'abusive', 66867: 'cowardly', 56853: 'tolerance', 56859: 'dejected_barfly:', 56863: 'slurred', 56920: 'hammock', 56940: 'bleak', 59334: 'outlook', 56947: 'icy', 56948: 'chill', 56954: 'dropping', 56970: 'janette', 56972: 'cheryl', 56991: 'rotten', 57012: 'pretend', 57021: 'improv', 57030: 'imaginary', 57045: 'motorcycle', 62905: 'belly', 57058: 'chip', 57075: 'ends', 57121: 'skydiving', 57140: \"pullin'\", 57152: 'ripcord', 57153: 'app', 57186: 'random', 57187: 'occurrence', 58695: 'reached', 57199: 'squeezed', 57201: 'sap', 57207: \"choosin'\", 57226: 'adequate', 57260: 'carnival', 57537: 'so-called', 57282: 'miracle', 57293: \"tree's\", 57331: 'disillusioned', 57357: '7-year-old_brockman:', 57342: 'reporter', 57343: 'kenny', 57344: 'brockelstein', 57345: 'investigating', 57376: 'cartoons', 57379: 'thirty-three', 57382: 'short_man:', 57384: 'gruff', 58576: 'muttering', 57424: 'rancid', 57427: 'innocence', 57440: 'plywood', 57447: 'man_with_tree_hat:', 57452: 'hoax', 57455: 'tree_hoper:', 57469: 'hats', 57507: 'crappy', 57519: 'pretentious_rat_lover:', 57521: 'manchego', 57523: 'aziz', 64360: 'despite', 57669: 'civilization', 57664: 'anarchy', 57541: 'lurks', 57548: 'racially-diverse', 57553: 'network', 57823: 'lloyd:', 57564: 'experienced', 57643: 'w', 58951: 'r', 57595: 'acronyms', 57633: 'kinderhook', 57683: 'collapse', 57690: 'rome', 57707: 'inexorable', 57708: 'march', 57710: 'progress', 57728: '_eugene_blatz:', 57730: 'slaves', 57737: 'supermarket', 57741: 'starve', 57779: 'unsourced', 57781: 'undated', 57784: 'convinced', 57786: 'beyond', 57840: 'suspended', 57862: 'voodoo', 57863: 'curse', 57866: 'gestated', 57873: 'popped', 57910: 'acquitted', 57915: 'nightmare', 57929: 'in-ground', 65333: \"readin'\", 57977: 'shades', 57979: 'grey', 60893: 'chicks', 57996: 'what-for', 58043: 'fiction', 58048: 'sheriff', 58056: 'kissed', 58061: 'said:', 58063: 'imitating', 58065: 'griffith', 58070: \"'now\", 58072: 'aunt', 58074: 'asks', 58081: \"fishin'\", 58082: \"hole'\", 58111: 'wooden', 58126: 'argue', 58129: 'stirrers', 58409: '_hooper:', 64979: 'theater', 58157: 'holy', 58172: 'faiths', 58185: 'easy-going', 58186: 'offshoot', 58188: 'protestantism', 58208: 'handler', 58222: \"thing's\", 58246: 'rims', 58268: 'ribbon', 58277: 'cherry', 58303: 'blurbs', 58311: 'sedaris', 58315: 'flack', 58323: 'pews', 58359: 'deacon', 58371: 'catholic', 58540: 'priest', 58388: 'sexton', 58392: 'rector', 58448: 'whim', 58489: \"nothin's\", 63133: 'important', 58516: 'mid-conversation', 58525: 'padres', 58528: 'tigers', 58554: 'polygon', 58558: 'hexa-', 58560: 'octa-', 58568: 'decide:', 58607: 'loudly', 58641: \"beggin'\", 58687: 'legend', 58823: 'warm_female_voice:', 58697: 'buzz', 58705: 'recorded', 58708: 'options', 58715: 'carefully', 58724: 'committing', 58802: 'vacuum', 58803: 'cleaner', 58806: 'press', 58830: 'life-extension', 58834: 'male_singers:', 58837: 'painless', 58840: 'brings', 58857: 'delays', 58875: 'ron', 58883: 'moe-ron', 63171: 'tie', 58938: 'libraries', 58940: 'newspaper', 58941: 'rods', 58963: 'compressions', 58967: 'gees', 58973: 'singing/pushing', 58999: \"stayin'\", 59021: 'living', 59026: 'fools', 64188: 'belong', 59135: 'lease', 59171: 'post-suicide', 59172: 'afterglow', 59174: 'shorter', 59204: 'applesauce', 59220: 'leaving', 59274: 'choked-up', 59303: 'passes', 59353: 'reentering', 59368: 'noosey', 59418: 'noose', 59442: 'worldview', 59447: 'cleaning', 59452: 'growing', 59459: 'carpet', 59464: 'layer', 59470: 'congoleum', 59474: 'hardwood', 59484: 'jig', 59503: 'improved', 59514: 'non-losers', 59532: 'getcha', 59735: 'glen:', 59541: 'aged', 59746: 'ken:', 59604: 'venture', 59605: 'capitalists', 65694: 'dreams', 59616: 'mostly', 59643: 'kentucky', 59644: 'kool', 59645: 'aid', 59679: 'fantastic', 59693: 'startup', 59696: 'branding', 59697: 'specialists', 59710: 'touch', 59792: 'rafter', 59794: 'comforting', 59806: 'holidays', 59826: 'expensive', 59827: 'beer:', 59829: 'platinum', 59842: 'paste', 59848: 'hairs', 59855: 'youth', 59877: 'babar', 59914: 'elephants', 59893: 'confidential', 59898: 'cousin', 59900: 'celeste', 59908: 'takeaway', 59913: 'royal', 59916: 'trainers', 59923: 'average', 59924: 'schmoe', 59946: \"can't-believe-how-bald-he-is\", 59982: 'science', 59983: 'exhibit', 64840: 'brothers', 60074: 'hunger', 60075: \"games'd\", 60080: 'womb', 60095: 'life:', 60097: 'ninety-six', 60102: \"number's\", 60145: 'twenty-two', 60147: 'sixty-nine', 60135: 'winning', 60191: 'celebrate', 60195: \"ragin'\", 60220: 'mini-dumpsters', 60225: 'wings', 60256: 'gasoline', 60314: 'build', 60319: 'swimming', 60325: 'freaking', 60366: \"cashin'\", 60536: \"carl's\", 60425: 'safety', 60431: 'ripped', 60464: 'tense', 60473: 'voicemail', 60484: 'offensive', 60491: 'sickened', 60520: 'moolah-stealing', 60521: 'jackpot-thief', 60530: \"something's\", 60531: 'reflected', 60534: 'lenses', 60537: 'sunglasses', 60554: 'geyser', 60597: 'strokkur', 60598: 'geysir', 60676: 'minors', 60681: 'fat_in_the_hat:', 60685: 'pawed', 60692: 'skunk', 60703: 'furry', 60748: 'knit', 60751: 'thnord', 60754: 'leathery', 60901: 'spied', 60802: 'hidden', 60811: 'selfish', 60843: 'radioactive', 60844: 'hellhole', 60855: 'superpower', 60884: 'whoa-ho', 60907: 'looooooooooooooooooong', 60908: 'experience', 60934: 'schedule', 60942: 'hers', 66203: 'bump', 60971: 'ideas', 60981: 'divorced', 61128: 'senator', 61109: 'senators', 61086: 'reliable', 61068: 'source', 61071: 's-a-u-r-c-e', 61077: 'touches', 61078: 'earpiece', 61119: 'senators:', 61123: 'abercrombie', 61126: 'billingsley', 61129: 'beaumont', 61139: \"plaster's\", 61140: 'flaking', 61195: 'lay', 61204: \"stallin'\", 61216: 'groans', 61242: 'squeals', 61280: 'omigod', 64807: 'brother', 61356: 'liser', 61449: 'cletus_spuckler:', 61466: 'conditioning', 61489: 'barkeeps', 61491: 'gin-slingers', 61494: 'beer-jerks', 61518: 'compete', 61522: 'stores', 61527: 'hooch', 61534: 'cap', 61608: 'superhero', 61561: 'masks', 61565: 'uninhibited', 61568: 'invulnerable', 61600: 'shuts', 61620: 'nick', 61621: 'fury', 61630: 'batmobile', 61634: 'wolveriskey', 61636: \"'ere\", 61643: 'portfolium', 61653: \"boy's\", 61656: 'knock-up', 61657: 'powers', 61666: 'created', 61689: 'virility', 61700: 'virile', 61728: \"brady's\", 61729: 'libido', 61759: 'rocks', 61765: 'sets', 61813: 'legs:', 61835: 'kidnaps', 61843: 'grateful', 61859: \"must've\", 61882: 'corn', 67300: 'pigs', 61903: 'eighty-five', 61906: 'goal', 61916: 'refresh', 61919: 'nfl_narrator:', 61925: 'breathtaking', 61926: 'ignorance', 61930: 'dislike', 61936: 'rookie', 61937: 'housewife', 61943: 'savvy', 61944: 'veteran', 62005: \"tv'll\", 62017: \"yesterday's\", 62018: 'whatsit', 62045: 'express', 62040: 'lifestyle', 62064: 'contract', 62082: 'fast-food', 62102: 'hibachi', 62105: \"how're\", 62282: 'bender:', 62124: 'transfer', 62130: 'hyper-credits', 62143: 'ding-a-ding-ding-ding-ding-ding-ding', 62157: 'ding-a-ding-ding-a-ding-ding', 62164: 'blade', 62173: 'spender', 62182: 'gossipy', 62193: 'jukebox_record:', 62223: 'robot', 62225: 'incapable', 62227: 'emotion', 62318: 'terrifying', 62323: 'quebec', 62324: 'nordiques', 62327: 'spooky', 62330: 'colorado', 62331: 'avalanche', 62339: \"toot's\", 62394: 'verdict', 62396: 'overturned', 62399: 'sequel', 62435: 'neon', 62457: 'repairman', 65990: 'mall', 62535: 'bolting', 62588: 'wrapped', 62616: 'shoulders', 62631: 'si-lent', 62634: 'ho-ly', 62645: 'eve', 64855: \"moe's_thoughts:\", 62668: \"startin'\", 62690: 'gift:', 62714: 'shrieks', 62742: 'angrily', 62758: 'wenceslas', 62769: 'karaoke_machine:', 62781: 'doooown', 65986: 'santa', 62810: 'weight', 62813: 'thirty-nine', 62817: \"foolin'\", 62822: 'car:', 62825: 'habit', 62842: 'hateful', 62847: 'chubby', 62849: 'chunky', 62851: 'blobbo', 62853: 'slobbo', 62858: 'michelin', 62861: 'stay-puft', 62863: 'chumbawamba', 62871: 'balloon', 62874: 'papa', 62875: 'grandã©', 62877: 'augustus', 62878: 'gloop', 62880: 'beached', 62881: 'whale', 62884: 'boned', 62886: 'wisconsin', 62887: 'skinny', 62889: 'butterball', 62891: 'dumptruck', 62893: 'jelly', 62896: 'pudgy', 62897: 'wudgy', 62899: 'lard', 62902: 'blubberino', 62904: 'buddha', 62909: 'tubman', 62912: 'ton', 62978: 'page', 62919: 'blob', 62920: 'saget', 62922: 'chub', 62923: 'hub', 62925: 'calvin', 62929: 'manfred', 62930: 'manboobs', 62932: '21', 62933: 'lump', 62940: 'fatso', 62942: 'harvey', 62946: 'obese', 62948: 'cannoli', 62950: 'mahatma', 62951: 'gumbo', 62953: 'salvador', 62954: 'deli', 62956: 'elmer', 62957: 'pantry', 62967: 'sponge', 62971: 'snackie', 62972: 'onassis', 62982: 'foodie', 62985: 'hoagie', 62986: 'carmichael', 62989: 'load', 62998: 'belts', 63050: 'homunculus', 63056: \"feelin's\", 63078: 'goblins', 63096: 'pridesters:', 63122: 'movement', 63135: 'drinking:', 63157: 'relaxed', 63174: 'apron', 63176: 'limber', 63180: \"tap-pullin'\", 63261: 'hook', 63294: 'sideshow', 63337: 'laney', 63338: 'fontaine', 63840: 'brassiest', 63352: 'vulgar', 63354: 'fulla', 63364: 'jimmy', 63365: 'stewart', 63368: 'super-nice', 63383: \"can'tcha\", 63459: 'items', 63464: 'shells', 63471: 'lime', 63490: \"high-falutin'\", 63493: 'theatah', 63502: 'exits', 63963: 'nickels', 63597: 'sight', 63607: 'tomatoes', 63612: 'bachelorette', 63625: 'lady_duff:', 63663: 'hearing', 63665: 'interesting', 63671: 'clubs', 63770: 'book_club_member:', 63682: \"lovers'\", 63688: 'spiritual', 63691: 'other_book_club_member:', 63711: 'liven', 63816: 'laney_fontaine:', 63734: 'charming', 63757: 'whaaaa', 63767: 'craphole', 63781: 'bones', 63790: 'dazed', 63829: 'bounced', 63843: 'sass', 63867: 'heaving', 63888: \"coaster's\", 63903: 'mouths', 63931: \"snappin'\", 63940: 'ruint', 63946: \"i-i'll\", 63952: 'savings', 63961: 'rubbed', 63993: 'defected', 63995: 'north', 63996: 'korea', 64002: 'dae', 64010: 'pickles', 64036: 'background', 64041: 'ummmmmmmmm', 64045: 'ehhhhhhhh', 64049: 'errrrrrr', 64053: 'ehhhhhhhhh', 64057: 'ehhhhhh', 64086: 'kay', 64090: 'apply', 64107: 'jerking', 64141: 'chunk', 64144: 'oak', 64151: 'poplar', 64164: 'knowledge', 64166: 'wood', 64217: 'smile:', 64220: 'baritone', 64237: 'something:', 64242: 'elizabeth', 65381: 'kemi:', 64262: 'africa', 64290: 'languages', 64673: 'snorts', 64303: 'portuguese', 64305: 'eu', 64306: 'nã£o', 64307: 'quero', 64308: 'dizer', 64309: 'para', 64310: 'mostrar', 64314: 'je', 64315: 'ne', 64316: 'veux', 64317: 'pas', 64318: 'montrer', 64324: 'refiero', 64326: 'presumir', 64330: 'watashi', 64335: 'wa', 64332: 'koji', 64333: 'suru', 64334: 'wakede', 64336: 'arimasen', 64383: 'scrape', 64392: 'majesty', 64394: 'notice', 64421: 'nigeria', 64426: 'repressed', 67168: 'level', 64497: 'spelling', 64499: 'grammar', 64522: 'ze-ro', 64536: 'kemi', 64549: 'nigerian', 65213: 'princess', 64550: 'prince', 64568: 'trashed', 64628: 'happens', 64636: 'cruiser', 64650: 'answered', 64668: 'tank', 64681: 'gil_gunderson:', 64991: 'princesses', 64756: 'mumble', 64834: 'conclusions', 64867: 'tied', 64871: 'jernt', 64876: 'elocution', 64883: 'pronounce', 64885: 'over-pronouncing', 64897: 'online', 64902: 'pernt', 64937: 'tease', 64940: 'thrown', 64969: 'rom', 64970: 'coms', 65004: 'wheels', 65006: 'witches', 65007: \"treatin'\", 66686: 'familiar', 65025: 'countryman', 65026: 'chinua', 65027: 'achebe', 65032: 'apart', 65039: 'ease', 65048: 'optimistic', 65364: 'literature', 65055: 'amused', 65058: 'comment', 65121: 'yawns', 65067: 'eaten', 65091: 'string', 65111: 'eats', 65119: 'stretches', 66359: 'stuck', 65194: 'goodnight', 65156: 'moon', 65179: 'dregs', 65182: 'bugs', 65192: 'mice', 65197: 'treats', 65228: 'bar:', 65232: 'cab', 65288: 'scooter', 65269: 'waist', 65274: 'shyly', 65282: 'lifts', 65283: 'index', 65315: 'examples', 65321: 'albeit', 65322: 'depressing', 65332: 'bedtime', 65338: 'premise', 65350: \"cheerin'\", 65394: 'pine', 65417: 'suffering', 65419: 'silence', 65436: 'rafters', 65476: 'aged_moe:', 65460: 'badly', 65478: 'smiles', 65480: 'divine', 65521: 'troy:', 65506: 'four-star', 65507: 'brother-in-law', 65613: 'young_homer:', 65561: 'nachos', 65580: 'triangle', 65610: 'atari', 65615: 'oblivious', 65620: 'aims', 65630: 'dumpster', 65636: 'gags', 65706: 'teenage_homer:', 65651: 'psst', 65657: 'asleep', 65714: 'mellow', 65766: 'teenage_bart:', 65728: 'aghast', 65778: 'grade', 65842: 'adult_bart:', 65878: \"homer's_brain:\", 65890: 'kirk_voice_milhouse:', 65897: 'milks', 65922: 'lumpa', 65923: 'coal', 65926: 'stocking', 65932: 'sucking', 65971: 'getup', 65981: 'part-time', 66009: 'selective', 67103: 'punk', 67104: 'someday', 66048: 'reaches', 68161: 'pocket', 66062: 'opens', 66071: 'whoops', 66119: 'explanation', 66458: 'boxing_announcer:', 66166: 'anxious', 66190: 'bloodiest', 66202: 'thirsty', 66206: 'log', 66210: 'eddie', 66334: 'eddie:', 66222: 'pretzels', 66273: 'peeping', 66274: 'toms', 66278: 'terrorizing', 66280: 'neighborhood', 66309: 'scent', 66318: 'bobo', 66328: 'wieners', 66336: 'figures', 66372: 'disappointment', 66385: 'onto', 66398: 'dealt', 66411: 'control', 66461: 'tremendous', 66480: 'tv-station_announcer:', 66727: 'marvin', 66728: \"monroe's\", 66629: 'tv_wife:', 66638: 'tv_husband:', 66573: 'this:', 66647: 'small_boy:', 66659: 'furiously', 66667: '_marvin_monroe:', 66680: 'monroe', 66696: 'gimmicks', 66699: 'pills', 66702: 'fad', 66703: 'diets', 66707: 'bliss', 66733: '1-800-555-hugs', 66755: \"life's\", 66765: 'heh-heh', 66808: 'thru', 66869: 'runt', 66880: 'gut', 66917: 'tragedy', 66944: 'ohhhh', 66966: 'hottest', 66992: 'heave-ho', 67036: 'dingy', 67037: 'flophouse', 67055: 'koholic', 67074: 'yellow-belly', 67076: 'jackass', 67109: \"'er\", 67131: 'hunka', 67132: 'beef', 67181: 'contemplates', 67186: 'jams', 67244: 'yells', 67258: 'drunkenly', 67294: \"larry's\", 67305: 'difference', 67318: 'slop', 67320: 'hose', 67328: 'beings', 67348: 'candles', 67350: 'tablecloth', 67416: 'drift', 67466: 'deals', 67515: 'capitol', 67982: \"dyin'\", 67534: 'curiosity', 67589: \"c'mom\", 67606: 'employees', 67608: 'spouses', 67630: 'decision', 67632: 'simpsons', 67634: 'faced', 67637: \"should've\", 67638: 'listened', 67667: 'bites', 67670: 'oooh', 67682: \"costume's\", 67695: 'ape-like', 67706: 'saga', 67733: 'riveting', 67757: 'humiliation', 67790: \"rasputin's\", 67802: \"professor's\", 67805: 'patented', 67806: 'coma', 67831: 'show-off', 67838: 'muscles', 67870: 'engraved', 67877: 'richard:', 67898: 'audience:', 67955: 'tv_announcer:', 67946: 'ref', 67948: 'issuing', 67950: 'warning', 67952: 'rasputin', 67971: 'referee', 67972: 'permitting', 67978: 'smitty:', 68132: 'squabbled', 68153: 'washed', 68397: 'refreshment', 68403: 'trustworthy', 68500: 'sharing', 68526: 'birthplace', 68530: 'roy', 68584: 'scum-sucking', 68585: 'pus-bucket', 68600: 'eyeballs', 68663: 'often', 68794: 'bull', 68859: 'connection', 68878: 'lighten', 68888: 'ironic', 68907: 'snotty', 68908: 'sister-in-law', 68946: 'picky', 68972: 'blur', 69014: 'patty', 68984: 'decided', 69024: 'happiness', 69043: 'pancakes', 69055: 'disdainful', 69076: 'heals', 69078: 'wounds'}\n"
     ]
    },
    {
     "ename": "KeyError",
     "evalue": "0",
     "output_type": "error",
     "traceback": [
      "\u001b[1;31m---------------------------------------------------------------------------\u001b[0m",
      "\u001b[1;31mKeyError\u001b[0m                                  Traceback (most recent call last)",
      "\u001b[1;32m<ipython-input-132-97c51e65717e>\u001b[0m in \u001b[0;36m<module>\u001b[1;34m()\u001b[0m\n\u001b[0;32m     30\u001b[0m             {input_text: dyn_input, initial_state: prev_state})\n\u001b[0;32m     31\u001b[0m \u001b[1;33m\u001b[0m\u001b[0m\n\u001b[1;32m---> 32\u001b[1;33m         \u001b[0mpred_word\u001b[0m \u001b[1;33m=\u001b[0m \u001b[0mpick_word\u001b[0m\u001b[1;33m(\u001b[0m\u001b[0mprobabilities\u001b[0m\u001b[1;33m[\u001b[0m\u001b[0mdyn_seq_length\u001b[0m\u001b[1;33m-\u001b[0m\u001b[1;36m1\u001b[0m\u001b[1;33m]\u001b[0m\u001b[1;33m,\u001b[0m \u001b[0mint_to_vocab\u001b[0m\u001b[1;33m)\u001b[0m\u001b[1;33m\u001b[0m\u001b[0m\n\u001b[0m\u001b[0;32m     33\u001b[0m \u001b[1;33m\u001b[0m\u001b[0m\n\u001b[0;32m     34\u001b[0m         \u001b[0mgen_sentences\u001b[0m\u001b[1;33m.\u001b[0m\u001b[0mappend\u001b[0m\u001b[1;33m(\u001b[0m\u001b[0mpred_word\u001b[0m\u001b[1;33m)\u001b[0m\u001b[1;33m\u001b[0m\u001b[0m\n",
      "\u001b[1;32m<ipython-input-131-6dcf3b92d9c1>\u001b[0m in \u001b[0;36mpick_word\u001b[1;34m(probabilities, int_to_vocab)\u001b[0m\n\u001b[0;32m      9\u001b[0m     \u001b[0mprint\u001b[0m\u001b[1;33m(\u001b[0m\u001b[0mprobabilities\u001b[0m\u001b[1;33m)\u001b[0m\u001b[1;33m\u001b[0m\u001b[0m\n\u001b[0;32m     10\u001b[0m     \u001b[0mprint\u001b[0m\u001b[1;33m(\u001b[0m\u001b[0mint_to_vocab\u001b[0m\u001b[1;33m)\u001b[0m\u001b[1;33m\u001b[0m\u001b[0m\n\u001b[1;32m---> 11\u001b[1;33m     \u001b[0mprint\u001b[0m\u001b[1;33m(\u001b[0m\u001b[0mint_to_vocab\u001b[0m\u001b[1;33m[\u001b[0m\u001b[0mnp\u001b[0m\u001b[1;33m.\u001b[0m\u001b[0margmax\u001b[0m\u001b[1;33m(\u001b[0m\u001b[0mprobabilities\u001b[0m\u001b[1;33m)\u001b[0m\u001b[1;33m]\u001b[0m\u001b[1;33m)\u001b[0m\u001b[1;33m\u001b[0m\u001b[0m\n\u001b[0m\u001b[0;32m     12\u001b[0m     \u001b[1;32mreturn\u001b[0m \u001b[0mint_to_vocab\u001b[0m\u001b[1;33m[\u001b[0m\u001b[0mnp\u001b[0m\u001b[1;33m.\u001b[0m\u001b[0margmax\u001b[0m\u001b[1;33m(\u001b[0m\u001b[0mprobabilities\u001b[0m\u001b[1;33m)\u001b[0m\u001b[1;33m]\u001b[0m\u001b[1;33m\u001b[0m\u001b[0m\n\u001b[0;32m     13\u001b[0m \u001b[1;33m\u001b[0m\u001b[0m\n",
      "\u001b[1;31mKeyError\u001b[0m: 0"
     ]
    }
   ],
   "source": [
    "gen_length = 200\n",
    "# homer_simpson, moe_szyslak, or Barney_Gumble\n",
    "prime_word = 'moe_szyslak'\n",
    "\n",
    "\"\"\"\n",
    "DON'T MODIFY ANYTHING IN THIS CELL THAT IS BELOW THIS LINE\n",
    "\"\"\"\n",
    "loaded_graph = tf.Graph()\n",
    "with tf.Session(graph=loaded_graph) as sess:\n",
    "    # Load saved model\n",
    "    loader = tf.train.import_meta_graph(load_dir + '.meta')\n",
    "    loader.restore(sess, load_dir)\n",
    "\n",
    "    # Get Tensors from loaded model\n",
    "    input_text, initial_state, final_state, probs = get_tensors(loaded_graph)\n",
    "\n",
    "    # Sentences generation setup\n",
    "    gen_sentences = [prime_word + ':']\n",
    "    prev_state = sess.run(initial_state, {input_text: np.array([[1]])})\n",
    "\n",
    "    # Generate sentences\n",
    "    for n in range(gen_length):\n",
    "        # Dynamic Input\n",
    "        dyn_input = [[vocab_to_int[word] for word in gen_sentences[-seq_length:]]]\n",
    "        dyn_seq_length = len(dyn_input[0])\n",
    "\n",
    "        # Get Prediction\n",
    "        probabilities, prev_state = sess.run(\n",
    "            [probs, final_state],\n",
    "            {input_text: dyn_input, initial_state: prev_state})\n",
    "        \n",
    "        pred_word = pick_word(probabilities[dyn_seq_length-1], int_to_vocab)\n",
    "\n",
    "        gen_sentences.append(pred_word)\n",
    "    \n",
    "    # Remove tokens\n",
    "    tv_script = ' '.join(gen_sentences)\n",
    "    for key, token in token_dict.items():\n",
    "        ending = ' ' if key in ['\\n', '(', '\"'] else ''\n",
    "        tv_script = tv_script.replace(' ' + token.lower(), key)\n",
    "    tv_script = tv_script.replace('\\n ', '\\n')\n",
    "    tv_script = tv_script.replace('( ', '(')\n",
    "        \n",
    "    print(tv_script)"
   ]
  },
  {
   "cell_type": "markdown",
   "metadata": {},
   "source": [
    "# The TV Script is Nonsensical\n",
    "It's ok if the TV script doesn't make any sense.  We trained on less than a megabyte of text.  In order to get good results, you'll have to use a smaller vocabulary or get more data.  Luckly there's more data!  As we mentioned in the begging of this project, this is a subset of [another dataset](https://www.kaggle.com/wcukierski/the-simpsons-by-the-data).  We didn't have you train on all the data, because that would take too long.  However, you are free to train your neural network on all the data.  After you complete the project, of course.\n",
    "# Submitting This Project\n",
    "When submitting this project, make sure to run all the cells before saving the notebook. Save the notebook file as \"dlnd_tv_script_generation.ipynb\" and save it as a HTML file under \"File\" -> \"Download as\". Include the \"helper.py\" and \"problem_unittests.py\" files in your submission."
   ]
  }
 ],
 "metadata": {
  "kernelspec": {
   "display_name": "Python 3",
   "language": "python",
   "name": "python3"
  },
  "language_info": {
   "codemirror_mode": {
    "name": "ipython",
    "version": 3
   },
   "file_extension": ".py",
   "mimetype": "text/x-python",
   "name": "python",
   "nbconvert_exporter": "python",
   "pygments_lexer": "ipython3",
   "version": "3.6.3"
  },
  "widgets": {
   "state": {},
   "version": "1.1.2"
  }
 },
 "nbformat": 4,
 "nbformat_minor": 1
}
